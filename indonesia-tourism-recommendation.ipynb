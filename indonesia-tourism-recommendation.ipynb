{
 "cells": [
  {
   "cell_type": "code",
   "execution_count": 1,
   "id": "6a609892",
   "metadata": {
    "_cell_guid": "b1076dfc-b9ad-4769-8c92-a6c4dae69d19",
    "_uuid": "8f2839f25d086af736a60e9eeb907d3b93b6e0e5",
    "execution": {
     "iopub.execute_input": "2024-09-08T09:50:10.723953Z",
     "iopub.status.busy": "2024-09-08T09:50:10.723513Z",
     "iopub.status.idle": "2024-09-08T09:50:11.180508Z",
     "shell.execute_reply": "2024-09-08T09:50:11.179221Z"
    },
    "papermill": {
     "duration": 0.486186,
     "end_time": "2024-09-08T09:50:11.183563",
     "exception": false,
     "start_time": "2024-09-08T09:50:10.697377",
     "status": "completed"
    },
    "tags": []
   },
   "outputs": [
    {
     "name": "stdout",
     "output_type": "stream",
     "text": [
      "/kaggle/input/indonesia-tourism-destination/user.csv\n",
      "/kaggle/input/indonesia-tourism-destination/tourism_rating.csv\n",
      "/kaggle/input/indonesia-tourism-destination/package_tourism.csv\n",
      "/kaggle/input/indonesia-tourism-destination/tourism_with_id.csv\n"
     ]
    }
   ],
   "source": [
    "import numpy as np # linear algebra\n",
    "import pandas as pd # data processing, CSV file I/O (e.g. pd.read_csv)\n",
    "import os\n",
    "for dirname, _, filenames in os.walk('/kaggle/input'):\n",
    "    for filename in filenames:\n",
    "        print(os.path.join(dirname, filename))"
   ]
  },
  {
   "cell_type": "markdown",
   "id": "273f5572",
   "metadata": {
    "papermill": {
     "duration": 0.023367,
     "end_time": "2024-09-08T09:50:11.231382",
     "exception": false,
     "start_time": "2024-09-08T09:50:11.208015",
     "status": "completed"
    },
    "tags": []
   },
   "source": [
    "#### Dapatkan Path directory dataset"
   ]
  },
  {
   "cell_type": "markdown",
   "id": "8c469d77",
   "metadata": {
    "papermill": {
     "duration": 0.023422,
     "end_time": "2024-09-08T09:50:11.278283",
     "exception": false,
     "start_time": "2024-09-08T09:50:11.254861",
     "status": "completed"
    },
    "tags": []
   },
   "source": [
    "# Indonesia Tourism Recommendation [Content Based Filtering]"
   ]
  },
  {
   "cell_type": "code",
   "execution_count": 2,
   "id": "4658f4ef",
   "metadata": {
    "execution": {
     "iopub.execute_input": "2024-09-08T09:50:11.327842Z",
     "iopub.status.busy": "2024-09-08T09:50:11.327269Z",
     "iopub.status.idle": "2024-09-08T09:50:13.097569Z",
     "shell.execute_reply": "2024-09-08T09:50:13.096515Z"
    },
    "papermill": {
     "duration": 1.798548,
     "end_time": "2024-09-08T09:50:13.100552",
     "exception": false,
     "start_time": "2024-09-08T09:50:11.302004",
     "status": "completed"
    },
    "tags": []
   },
   "outputs": [],
   "source": [
    "import numpy as np\n",
    "import matplotlib.pyplot as plt\n",
    "import pandas as pd\n",
    "%matplotlib inline\n",
    "import seaborn as sns\n",
    "import os"
   ]
  },
  {
   "cell_type": "markdown",
   "id": "f7739a03",
   "metadata": {
    "papermill": {
     "duration": 0.023778,
     "end_time": "2024-09-08T09:50:13.148251",
     "exception": false,
     "start_time": "2024-09-08T09:50:13.124473",
     "status": "completed"
    },
    "tags": []
   },
   "source": [
    "#### Import library yang dibutuhkan"
   ]
  },
  {
   "cell_type": "markdown",
   "id": "56db44d8",
   "metadata": {
    "papermill": {
     "duration": 0.023429,
     "end_time": "2024-09-08T09:50:13.197110",
     "exception": false,
     "start_time": "2024-09-08T09:50:13.173681",
     "status": "completed"
    },
    "tags": []
   },
   "source": [
    "## Loading Dataset & Info"
   ]
  },
  {
   "cell_type": "code",
   "execution_count": 3,
   "id": "2e43b752",
   "metadata": {
    "execution": {
     "iopub.execute_input": "2024-09-08T09:50:13.246081Z",
     "iopub.status.busy": "2024-09-08T09:50:13.245455Z",
     "iopub.status.idle": "2024-09-08T09:50:13.281089Z",
     "shell.execute_reply": "2024-09-08T09:50:13.279831Z"
    },
    "papermill": {
     "duration": 0.063622,
     "end_time": "2024-09-08T09:50:13.284120",
     "exception": false,
     "start_time": "2024-09-08T09:50:13.220498",
     "status": "completed"
    },
    "tags": []
   },
   "outputs": [
    {
     "data": {
      "text/html": [
       "<div>\n",
       "<style scoped>\n",
       "    .dataframe tbody tr th:only-of-type {\n",
       "        vertical-align: middle;\n",
       "    }\n",
       "\n",
       "    .dataframe tbody tr th {\n",
       "        vertical-align: top;\n",
       "    }\n",
       "\n",
       "    .dataframe thead th {\n",
       "        text-align: right;\n",
       "    }\n",
       "</style>\n",
       "<table border=\"1\" class=\"dataframe\">\n",
       "  <thead>\n",
       "    <tr style=\"text-align: right;\">\n",
       "      <th></th>\n",
       "      <th>User_Id</th>\n",
       "      <th>Location</th>\n",
       "      <th>Age</th>\n",
       "    </tr>\n",
       "  </thead>\n",
       "  <tbody>\n",
       "    <tr>\n",
       "      <th>0</th>\n",
       "      <td>1</td>\n",
       "      <td>Semarang, Jawa Tengah</td>\n",
       "      <td>20</td>\n",
       "    </tr>\n",
       "    <tr>\n",
       "      <th>1</th>\n",
       "      <td>2</td>\n",
       "      <td>Bekasi, Jawa Barat</td>\n",
       "      <td>21</td>\n",
       "    </tr>\n",
       "    <tr>\n",
       "      <th>2</th>\n",
       "      <td>3</td>\n",
       "      <td>Cirebon, Jawa Barat</td>\n",
       "      <td>23</td>\n",
       "    </tr>\n",
       "    <tr>\n",
       "      <th>3</th>\n",
       "      <td>4</td>\n",
       "      <td>Bekasi, Jawa Barat</td>\n",
       "      <td>21</td>\n",
       "    </tr>\n",
       "    <tr>\n",
       "      <th>4</th>\n",
       "      <td>5</td>\n",
       "      <td>Lampung, Sumatera Selatan</td>\n",
       "      <td>20</td>\n",
       "    </tr>\n",
       "  </tbody>\n",
       "</table>\n",
       "</div>"
      ],
      "text/plain": [
       "   User_Id                   Location  Age\n",
       "0        1      Semarang, Jawa Tengah   20\n",
       "1        2         Bekasi, Jawa Barat   21\n",
       "2        3        Cirebon, Jawa Barat   23\n",
       "3        4         Bekasi, Jawa Barat   21\n",
       "4        5  Lampung, Sumatera Selatan   20"
      ]
     },
     "execution_count": 3,
     "metadata": {},
     "output_type": "execute_result"
    }
   ],
   "source": [
    "path_user = \"/kaggle/input/indonesia-tourism-destination/user.csv\"\n",
    "user_df = pd.read_csv(path_user)\n",
    "user_df.head()"
   ]
  },
  {
   "cell_type": "code",
   "execution_count": 4,
   "id": "d45226c8",
   "metadata": {
    "execution": {
     "iopub.execute_input": "2024-09-08T09:50:13.333210Z",
     "iopub.status.busy": "2024-09-08T09:50:13.332774Z",
     "iopub.status.idle": "2024-09-08T09:50:13.355969Z",
     "shell.execute_reply": "2024-09-08T09:50:13.354776Z"
    },
    "papermill": {
     "duration": 0.050706,
     "end_time": "2024-09-08T09:50:13.358675",
     "exception": false,
     "start_time": "2024-09-08T09:50:13.307969",
     "status": "completed"
    },
    "tags": []
   },
   "outputs": [
    {
     "name": "stdout",
     "output_type": "stream",
     "text": [
      "<class 'pandas.core.frame.DataFrame'>\n",
      "RangeIndex: 300 entries, 0 to 299\n",
      "Data columns (total 3 columns):\n",
      " #   Column    Non-Null Count  Dtype \n",
      "---  ------    --------------  ----- \n",
      " 0   User_Id   300 non-null    int64 \n",
      " 1   Location  300 non-null    object\n",
      " 2   Age       300 non-null    int64 \n",
      "dtypes: int64(2), object(1)\n",
      "memory usage: 7.2+ KB\n"
     ]
    }
   ],
   "source": [
    "user_df.info()"
   ]
  },
  {
   "cell_type": "code",
   "execution_count": 5,
   "id": "97289f93",
   "metadata": {
    "execution": {
     "iopub.execute_input": "2024-09-08T09:50:13.409245Z",
     "iopub.status.busy": "2024-09-08T09:50:13.408787Z",
     "iopub.status.idle": "2024-09-08T09:50:13.432315Z",
     "shell.execute_reply": "2024-09-08T09:50:13.431182Z"
    },
    "papermill": {
     "duration": 0.051904,
     "end_time": "2024-09-08T09:50:13.434699",
     "exception": false,
     "start_time": "2024-09-08T09:50:13.382795",
     "status": "completed"
    },
    "tags": []
   },
   "outputs": [
    {
     "data": {
      "text/html": [
       "<div>\n",
       "<style scoped>\n",
       "    .dataframe tbody tr th:only-of-type {\n",
       "        vertical-align: middle;\n",
       "    }\n",
       "\n",
       "    .dataframe tbody tr th {\n",
       "        vertical-align: top;\n",
       "    }\n",
       "\n",
       "    .dataframe thead th {\n",
       "        text-align: right;\n",
       "    }\n",
       "</style>\n",
       "<table border=\"1\" class=\"dataframe\">\n",
       "  <thead>\n",
       "    <tr style=\"text-align: right;\">\n",
       "      <th></th>\n",
       "      <th>User_Id</th>\n",
       "      <th>Age</th>\n",
       "    </tr>\n",
       "  </thead>\n",
       "  <tbody>\n",
       "    <tr>\n",
       "      <th>count</th>\n",
       "      <td>300.000000</td>\n",
       "      <td>300.000000</td>\n",
       "    </tr>\n",
       "    <tr>\n",
       "      <th>mean</th>\n",
       "      <td>150.500000</td>\n",
       "      <td>28.700000</td>\n",
       "    </tr>\n",
       "    <tr>\n",
       "      <th>std</th>\n",
       "      <td>86.746758</td>\n",
       "      <td>6.393716</td>\n",
       "    </tr>\n",
       "    <tr>\n",
       "      <th>min</th>\n",
       "      <td>1.000000</td>\n",
       "      <td>18.000000</td>\n",
       "    </tr>\n",
       "    <tr>\n",
       "      <th>25%</th>\n",
       "      <td>75.750000</td>\n",
       "      <td>24.000000</td>\n",
       "    </tr>\n",
       "    <tr>\n",
       "      <th>50%</th>\n",
       "      <td>150.500000</td>\n",
       "      <td>29.000000</td>\n",
       "    </tr>\n",
       "    <tr>\n",
       "      <th>75%</th>\n",
       "      <td>225.250000</td>\n",
       "      <td>34.000000</td>\n",
       "    </tr>\n",
       "    <tr>\n",
       "      <th>max</th>\n",
       "      <td>300.000000</td>\n",
       "      <td>40.000000</td>\n",
       "    </tr>\n",
       "  </tbody>\n",
       "</table>\n",
       "</div>"
      ],
      "text/plain": [
       "          User_Id         Age\n",
       "count  300.000000  300.000000\n",
       "mean   150.500000   28.700000\n",
       "std     86.746758    6.393716\n",
       "min      1.000000   18.000000\n",
       "25%     75.750000   24.000000\n",
       "50%    150.500000   29.000000\n",
       "75%    225.250000   34.000000\n",
       "max    300.000000   40.000000"
      ]
     },
     "execution_count": 5,
     "metadata": {},
     "output_type": "execute_result"
    }
   ],
   "source": [
    "user_df.describe()"
   ]
  },
  {
   "cell_type": "code",
   "execution_count": 6,
   "id": "cd3faaae",
   "metadata": {
    "execution": {
     "iopub.execute_input": "2024-09-08T09:50:13.485263Z",
     "iopub.status.busy": "2024-09-08T09:50:13.484812Z",
     "iopub.status.idle": "2024-09-08T09:50:13.492183Z",
     "shell.execute_reply": "2024-09-08T09:50:13.491081Z"
    },
    "papermill": {
     "duration": 0.035534,
     "end_time": "2024-09-08T09:50:13.494660",
     "exception": false,
     "start_time": "2024-09-08T09:50:13.459126",
     "status": "completed"
    },
    "tags": []
   },
   "outputs": [
    {
     "data": {
      "text/plain": [
       "(300, 3)"
      ]
     },
     "execution_count": 6,
     "metadata": {},
     "output_type": "execute_result"
    }
   ],
   "source": [
    "user_df.shape"
   ]
  },
  {
   "cell_type": "markdown",
   "id": "df0f0a6a",
   "metadata": {
    "papermill": {
     "duration": 0.024036,
     "end_time": "2024-09-08T09:50:13.543132",
     "exception": false,
     "start_time": "2024-09-08T09:50:13.519096",
     "status": "completed"
    },
    "tags": []
   },
   "source": [
    "#### Load user dataframe & info"
   ]
  },
  {
   "cell_type": "code",
   "execution_count": 7,
   "id": "e2b02131",
   "metadata": {
    "execution": {
     "iopub.execute_input": "2024-09-08T09:50:13.594308Z",
     "iopub.status.busy": "2024-09-08T09:50:13.593882Z",
     "iopub.status.idle": "2024-09-08T09:50:13.616974Z",
     "shell.execute_reply": "2024-09-08T09:50:13.615851Z"
    },
    "papermill": {
     "duration": 0.051393,
     "end_time": "2024-09-08T09:50:13.619592",
     "exception": false,
     "start_time": "2024-09-08T09:50:13.568199",
     "status": "completed"
    },
    "tags": []
   },
   "outputs": [
    {
     "data": {
      "text/html": [
       "<div>\n",
       "<style scoped>\n",
       "    .dataframe tbody tr th:only-of-type {\n",
       "        vertical-align: middle;\n",
       "    }\n",
       "\n",
       "    .dataframe tbody tr th {\n",
       "        vertical-align: top;\n",
       "    }\n",
       "\n",
       "    .dataframe thead th {\n",
       "        text-align: right;\n",
       "    }\n",
       "</style>\n",
       "<table border=\"1\" class=\"dataframe\">\n",
       "  <thead>\n",
       "    <tr style=\"text-align: right;\">\n",
       "      <th></th>\n",
       "      <th>User_Id</th>\n",
       "      <th>Place_Id</th>\n",
       "      <th>Place_Ratings</th>\n",
       "    </tr>\n",
       "  </thead>\n",
       "  <tbody>\n",
       "    <tr>\n",
       "      <th>0</th>\n",
       "      <td>1</td>\n",
       "      <td>179</td>\n",
       "      <td>3</td>\n",
       "    </tr>\n",
       "    <tr>\n",
       "      <th>1</th>\n",
       "      <td>1</td>\n",
       "      <td>344</td>\n",
       "      <td>2</td>\n",
       "    </tr>\n",
       "    <tr>\n",
       "      <th>2</th>\n",
       "      <td>1</td>\n",
       "      <td>5</td>\n",
       "      <td>5</td>\n",
       "    </tr>\n",
       "    <tr>\n",
       "      <th>3</th>\n",
       "      <td>1</td>\n",
       "      <td>373</td>\n",
       "      <td>3</td>\n",
       "    </tr>\n",
       "    <tr>\n",
       "      <th>4</th>\n",
       "      <td>1</td>\n",
       "      <td>101</td>\n",
       "      <td>4</td>\n",
       "    </tr>\n",
       "  </tbody>\n",
       "</table>\n",
       "</div>"
      ],
      "text/plain": [
       "   User_Id  Place_Id  Place_Ratings\n",
       "0        1       179              3\n",
       "1        1       344              2\n",
       "2        1         5              5\n",
       "3        1       373              3\n",
       "4        1       101              4"
      ]
     },
     "execution_count": 7,
     "metadata": {},
     "output_type": "execute_result"
    }
   ],
   "source": [
    "path_tourism_rating = \"/kaggle/input/indonesia-tourism-destination/tourism_rating.csv\"\n",
    "tourism_rating_df = pd.read_csv(path_tourism_rating)\n",
    "tourism_rating_df.head()"
   ]
  },
  {
   "cell_type": "code",
   "execution_count": 8,
   "id": "9ba4ba74",
   "metadata": {
    "execution": {
     "iopub.execute_input": "2024-09-08T09:50:13.671279Z",
     "iopub.status.busy": "2024-09-08T09:50:13.670879Z",
     "iopub.status.idle": "2024-09-08T09:50:13.681920Z",
     "shell.execute_reply": "2024-09-08T09:50:13.680788Z"
    },
    "papermill": {
     "duration": 0.039507,
     "end_time": "2024-09-08T09:50:13.684540",
     "exception": false,
     "start_time": "2024-09-08T09:50:13.645033",
     "status": "completed"
    },
    "tags": []
   },
   "outputs": [
    {
     "name": "stdout",
     "output_type": "stream",
     "text": [
      "<class 'pandas.core.frame.DataFrame'>\n",
      "RangeIndex: 10000 entries, 0 to 9999\n",
      "Data columns (total 3 columns):\n",
      " #   Column         Non-Null Count  Dtype\n",
      "---  ------         --------------  -----\n",
      " 0   User_Id        10000 non-null  int64\n",
      " 1   Place_Id       10000 non-null  int64\n",
      " 2   Place_Ratings  10000 non-null  int64\n",
      "dtypes: int64(3)\n",
      "memory usage: 234.5 KB\n"
     ]
    }
   ],
   "source": [
    "tourism_rating_df.info()"
   ]
  },
  {
   "cell_type": "code",
   "execution_count": 9,
   "id": "c7e83d34",
   "metadata": {
    "execution": {
     "iopub.execute_input": "2024-09-08T09:50:13.735271Z",
     "iopub.status.busy": "2024-09-08T09:50:13.734873Z",
     "iopub.status.idle": "2024-09-08T09:50:13.756525Z",
     "shell.execute_reply": "2024-09-08T09:50:13.755223Z"
    },
    "papermill": {
     "duration": 0.050532,
     "end_time": "2024-09-08T09:50:13.759517",
     "exception": false,
     "start_time": "2024-09-08T09:50:13.708985",
     "status": "completed"
    },
    "tags": []
   },
   "outputs": [
    {
     "data": {
      "text/html": [
       "<div>\n",
       "<style scoped>\n",
       "    .dataframe tbody tr th:only-of-type {\n",
       "        vertical-align: middle;\n",
       "    }\n",
       "\n",
       "    .dataframe tbody tr th {\n",
       "        vertical-align: top;\n",
       "    }\n",
       "\n",
       "    .dataframe thead th {\n",
       "        text-align: right;\n",
       "    }\n",
       "</style>\n",
       "<table border=\"1\" class=\"dataframe\">\n",
       "  <thead>\n",
       "    <tr style=\"text-align: right;\">\n",
       "      <th></th>\n",
       "      <th>User_Id</th>\n",
       "      <th>Place_Id</th>\n",
       "      <th>Place_Ratings</th>\n",
       "    </tr>\n",
       "  </thead>\n",
       "  <tbody>\n",
       "    <tr>\n",
       "      <th>count</th>\n",
       "      <td>10000.000000</td>\n",
       "      <td>10000.000000</td>\n",
       "      <td>10000.000000</td>\n",
       "    </tr>\n",
       "    <tr>\n",
       "      <th>mean</th>\n",
       "      <td>151.292700</td>\n",
       "      <td>219.416400</td>\n",
       "      <td>3.066500</td>\n",
       "    </tr>\n",
       "    <tr>\n",
       "      <th>std</th>\n",
       "      <td>86.137374</td>\n",
       "      <td>126.228335</td>\n",
       "      <td>1.379952</td>\n",
       "    </tr>\n",
       "    <tr>\n",
       "      <th>min</th>\n",
       "      <td>1.000000</td>\n",
       "      <td>1.000000</td>\n",
       "      <td>1.000000</td>\n",
       "    </tr>\n",
       "    <tr>\n",
       "      <th>25%</th>\n",
       "      <td>77.000000</td>\n",
       "      <td>108.750000</td>\n",
       "      <td>2.000000</td>\n",
       "    </tr>\n",
       "    <tr>\n",
       "      <th>50%</th>\n",
       "      <td>151.000000</td>\n",
       "      <td>220.000000</td>\n",
       "      <td>3.000000</td>\n",
       "    </tr>\n",
       "    <tr>\n",
       "      <th>75%</th>\n",
       "      <td>226.000000</td>\n",
       "      <td>329.000000</td>\n",
       "      <td>4.000000</td>\n",
       "    </tr>\n",
       "    <tr>\n",
       "      <th>max</th>\n",
       "      <td>300.000000</td>\n",
       "      <td>437.000000</td>\n",
       "      <td>5.000000</td>\n",
       "    </tr>\n",
       "  </tbody>\n",
       "</table>\n",
       "</div>"
      ],
      "text/plain": [
       "            User_Id      Place_Id  Place_Ratings\n",
       "count  10000.000000  10000.000000   10000.000000\n",
       "mean     151.292700    219.416400       3.066500\n",
       "std       86.137374    126.228335       1.379952\n",
       "min        1.000000      1.000000       1.000000\n",
       "25%       77.000000    108.750000       2.000000\n",
       "50%      151.000000    220.000000       3.000000\n",
       "75%      226.000000    329.000000       4.000000\n",
       "max      300.000000    437.000000       5.000000"
      ]
     },
     "execution_count": 9,
     "metadata": {},
     "output_type": "execute_result"
    }
   ],
   "source": [
    "tourism_rating_df.describe()"
   ]
  },
  {
   "cell_type": "code",
   "execution_count": 10,
   "id": "ef3a828c",
   "metadata": {
    "execution": {
     "iopub.execute_input": "2024-09-08T09:50:13.813072Z",
     "iopub.status.busy": "2024-09-08T09:50:13.812037Z",
     "iopub.status.idle": "2024-09-08T09:50:13.819594Z",
     "shell.execute_reply": "2024-09-08T09:50:13.818606Z"
    },
    "papermill": {
     "duration": 0.037159,
     "end_time": "2024-09-08T09:50:13.822217",
     "exception": false,
     "start_time": "2024-09-08T09:50:13.785058",
     "status": "completed"
    },
    "tags": []
   },
   "outputs": [
    {
     "data": {
      "text/plain": [
       "(10000, 3)"
      ]
     },
     "execution_count": 10,
     "metadata": {},
     "output_type": "execute_result"
    }
   ],
   "source": [
    "tourism_rating_df.shape"
   ]
  },
  {
   "cell_type": "markdown",
   "id": "24364b8c",
   "metadata": {
    "papermill": {
     "duration": 0.024867,
     "end_time": "2024-09-08T09:50:13.873249",
     "exception": false,
     "start_time": "2024-09-08T09:50:13.848382",
     "status": "completed"
    },
    "tags": []
   },
   "source": [
    "#### Load tourism_rating dataframe & info"
   ]
  },
  {
   "cell_type": "code",
   "execution_count": 11,
   "id": "166b841a",
   "metadata": {
    "execution": {
     "iopub.execute_input": "2024-09-08T09:50:13.925762Z",
     "iopub.status.busy": "2024-09-08T09:50:13.924719Z",
     "iopub.status.idle": "2024-09-08T09:50:13.964029Z",
     "shell.execute_reply": "2024-09-08T09:50:13.962803Z"
    },
    "papermill": {
     "duration": 0.068199,
     "end_time": "2024-09-08T09:50:13.966641",
     "exception": false,
     "start_time": "2024-09-08T09:50:13.898442",
     "status": "completed"
    },
    "tags": []
   },
   "outputs": [
    {
     "data": {
      "text/html": [
       "<div>\n",
       "<style scoped>\n",
       "    .dataframe tbody tr th:only-of-type {\n",
       "        vertical-align: middle;\n",
       "    }\n",
       "\n",
       "    .dataframe tbody tr th {\n",
       "        vertical-align: top;\n",
       "    }\n",
       "\n",
       "    .dataframe thead th {\n",
       "        text-align: right;\n",
       "    }\n",
       "</style>\n",
       "<table border=\"1\" class=\"dataframe\">\n",
       "  <thead>\n",
       "    <tr style=\"text-align: right;\">\n",
       "      <th></th>\n",
       "      <th>Place_Id</th>\n",
       "      <th>Place_Name</th>\n",
       "      <th>Description</th>\n",
       "      <th>Category</th>\n",
       "      <th>City</th>\n",
       "      <th>Price</th>\n",
       "      <th>Rating</th>\n",
       "      <th>Time_Minutes</th>\n",
       "      <th>Coordinate</th>\n",
       "      <th>Lat</th>\n",
       "      <th>Long</th>\n",
       "      <th>Unnamed: 11</th>\n",
       "      <th>Unnamed: 12</th>\n",
       "    </tr>\n",
       "  </thead>\n",
       "  <tbody>\n",
       "    <tr>\n",
       "      <th>0</th>\n",
       "      <td>1</td>\n",
       "      <td>Monumen Nasional</td>\n",
       "      <td>Monumen Nasional atau yang populer disingkat d...</td>\n",
       "      <td>Budaya</td>\n",
       "      <td>Jakarta</td>\n",
       "      <td>20000</td>\n",
       "      <td>4.6</td>\n",
       "      <td>15.0</td>\n",
       "      <td>{'lat': -6.1753924, 'lng': 106.8271528}</td>\n",
       "      <td>-6.175392</td>\n",
       "      <td>106.827153</td>\n",
       "      <td>NaN</td>\n",
       "      <td>1</td>\n",
       "    </tr>\n",
       "    <tr>\n",
       "      <th>1</th>\n",
       "      <td>2</td>\n",
       "      <td>Kota Tua</td>\n",
       "      <td>Kota tua di Jakarta, yang juga bernama Kota Tu...</td>\n",
       "      <td>Budaya</td>\n",
       "      <td>Jakarta</td>\n",
       "      <td>0</td>\n",
       "      <td>4.6</td>\n",
       "      <td>90.0</td>\n",
       "      <td>{'lat': -6.137644799999999, 'lng': 106.8171245}</td>\n",
       "      <td>-6.137645</td>\n",
       "      <td>106.817125</td>\n",
       "      <td>NaN</td>\n",
       "      <td>2</td>\n",
       "    </tr>\n",
       "    <tr>\n",
       "      <th>2</th>\n",
       "      <td>3</td>\n",
       "      <td>Dunia Fantasi</td>\n",
       "      <td>Dunia Fantasi atau disebut juga Dufan adalah t...</td>\n",
       "      <td>Taman Hiburan</td>\n",
       "      <td>Jakarta</td>\n",
       "      <td>270000</td>\n",
       "      <td>4.6</td>\n",
       "      <td>360.0</td>\n",
       "      <td>{'lat': -6.125312399999999, 'lng': 106.8335377}</td>\n",
       "      <td>-6.125312</td>\n",
       "      <td>106.833538</td>\n",
       "      <td>NaN</td>\n",
       "      <td>3</td>\n",
       "    </tr>\n",
       "    <tr>\n",
       "      <th>3</th>\n",
       "      <td>4</td>\n",
       "      <td>Taman Mini Indonesia Indah (TMII)</td>\n",
       "      <td>Taman Mini Indonesia Indah merupakan suatu kaw...</td>\n",
       "      <td>Taman Hiburan</td>\n",
       "      <td>Jakarta</td>\n",
       "      <td>10000</td>\n",
       "      <td>4.5</td>\n",
       "      <td>NaN</td>\n",
       "      <td>{'lat': -6.302445899999999, 'lng': 106.8951559}</td>\n",
       "      <td>-6.302446</td>\n",
       "      <td>106.895156</td>\n",
       "      <td>NaN</td>\n",
       "      <td>4</td>\n",
       "    </tr>\n",
       "    <tr>\n",
       "      <th>4</th>\n",
       "      <td>5</td>\n",
       "      <td>Atlantis Water Adventure</td>\n",
       "      <td>Atlantis Water Adventure atau dikenal dengan A...</td>\n",
       "      <td>Taman Hiburan</td>\n",
       "      <td>Jakarta</td>\n",
       "      <td>94000</td>\n",
       "      <td>4.5</td>\n",
       "      <td>60.0</td>\n",
       "      <td>{'lat': -6.12419, 'lng': 106.839134}</td>\n",
       "      <td>-6.124190</td>\n",
       "      <td>106.839134</td>\n",
       "      <td>NaN</td>\n",
       "      <td>5</td>\n",
       "    </tr>\n",
       "  </tbody>\n",
       "</table>\n",
       "</div>"
      ],
      "text/plain": [
       "   Place_Id                         Place_Name  \\\n",
       "0         1                   Monumen Nasional   \n",
       "1         2                           Kota Tua   \n",
       "2         3                      Dunia Fantasi   \n",
       "3         4  Taman Mini Indonesia Indah (TMII)   \n",
       "4         5           Atlantis Water Adventure   \n",
       "\n",
       "                                         Description       Category     City  \\\n",
       "0  Monumen Nasional atau yang populer disingkat d...         Budaya  Jakarta   \n",
       "1  Kota tua di Jakarta, yang juga bernama Kota Tu...         Budaya  Jakarta   \n",
       "2  Dunia Fantasi atau disebut juga Dufan adalah t...  Taman Hiburan  Jakarta   \n",
       "3  Taman Mini Indonesia Indah merupakan suatu kaw...  Taman Hiburan  Jakarta   \n",
       "4  Atlantis Water Adventure atau dikenal dengan A...  Taman Hiburan  Jakarta   \n",
       "\n",
       "    Price  Rating  Time_Minutes  \\\n",
       "0   20000     4.6          15.0   \n",
       "1       0     4.6          90.0   \n",
       "2  270000     4.6         360.0   \n",
       "3   10000     4.5           NaN   \n",
       "4   94000     4.5          60.0   \n",
       "\n",
       "                                        Coordinate       Lat        Long  \\\n",
       "0          {'lat': -6.1753924, 'lng': 106.8271528} -6.175392  106.827153   \n",
       "1  {'lat': -6.137644799999999, 'lng': 106.8171245} -6.137645  106.817125   \n",
       "2  {'lat': -6.125312399999999, 'lng': 106.8335377} -6.125312  106.833538   \n",
       "3  {'lat': -6.302445899999999, 'lng': 106.8951559} -6.302446  106.895156   \n",
       "4             {'lat': -6.12419, 'lng': 106.839134} -6.124190  106.839134   \n",
       "\n",
       "   Unnamed: 11  Unnamed: 12  \n",
       "0          NaN            1  \n",
       "1          NaN            2  \n",
       "2          NaN            3  \n",
       "3          NaN            4  \n",
       "4          NaN            5  "
      ]
     },
     "execution_count": 11,
     "metadata": {},
     "output_type": "execute_result"
    }
   ],
   "source": [
    "path_tourism_with_id = \"/kaggle/input/indonesia-tourism-destination/tourism_with_id.csv\"\n",
    "tourism_with_id_df = pd.read_csv(path_tourism_with_id)\n",
    "tourism_with_id_df.head()"
   ]
  },
  {
   "cell_type": "code",
   "execution_count": 12,
   "id": "c8a53dbd",
   "metadata": {
    "execution": {
     "iopub.execute_input": "2024-09-08T09:50:14.020317Z",
     "iopub.status.busy": "2024-09-08T09:50:14.019448Z",
     "iopub.status.idle": "2024-09-08T09:50:14.033291Z",
     "shell.execute_reply": "2024-09-08T09:50:14.032078Z"
    },
    "papermill": {
     "duration": 0.043195,
     "end_time": "2024-09-08T09:50:14.035772",
     "exception": false,
     "start_time": "2024-09-08T09:50:13.992577",
     "status": "completed"
    },
    "tags": []
   },
   "outputs": [
    {
     "name": "stdout",
     "output_type": "stream",
     "text": [
      "<class 'pandas.core.frame.DataFrame'>\n",
      "RangeIndex: 437 entries, 0 to 436\n",
      "Data columns (total 13 columns):\n",
      " #   Column        Non-Null Count  Dtype  \n",
      "---  ------        --------------  -----  \n",
      " 0   Place_Id      437 non-null    int64  \n",
      " 1   Place_Name    437 non-null    object \n",
      " 2   Description   437 non-null    object \n",
      " 3   Category      437 non-null    object \n",
      " 4   City          437 non-null    object \n",
      " 5   Price         437 non-null    int64  \n",
      " 6   Rating        437 non-null    float64\n",
      " 7   Time_Minutes  205 non-null    float64\n",
      " 8   Coordinate    437 non-null    object \n",
      " 9   Lat           437 non-null    float64\n",
      " 10  Long          437 non-null    float64\n",
      " 11  Unnamed: 11   0 non-null      float64\n",
      " 12  Unnamed: 12   437 non-null    int64  \n",
      "dtypes: float64(5), int64(3), object(5)\n",
      "memory usage: 44.5+ KB\n"
     ]
    }
   ],
   "source": [
    "tourism_with_id_df.info()"
   ]
  },
  {
   "cell_type": "code",
   "execution_count": 13,
   "id": "8745c85e",
   "metadata": {
    "execution": {
     "iopub.execute_input": "2024-09-08T09:50:14.089163Z",
     "iopub.status.busy": "2024-09-08T09:50:14.088277Z",
     "iopub.status.idle": "2024-09-08T09:50:14.123274Z",
     "shell.execute_reply": "2024-09-08T09:50:14.122008Z"
    },
    "papermill": {
     "duration": 0.064828,
     "end_time": "2024-09-08T09:50:14.125965",
     "exception": false,
     "start_time": "2024-09-08T09:50:14.061137",
     "status": "completed"
    },
    "tags": []
   },
   "outputs": [
    {
     "data": {
      "text/html": [
       "<div>\n",
       "<style scoped>\n",
       "    .dataframe tbody tr th:only-of-type {\n",
       "        vertical-align: middle;\n",
       "    }\n",
       "\n",
       "    .dataframe tbody tr th {\n",
       "        vertical-align: top;\n",
       "    }\n",
       "\n",
       "    .dataframe thead th {\n",
       "        text-align: right;\n",
       "    }\n",
       "</style>\n",
       "<table border=\"1\" class=\"dataframe\">\n",
       "  <thead>\n",
       "    <tr style=\"text-align: right;\">\n",
       "      <th></th>\n",
       "      <th>Place_Id</th>\n",
       "      <th>Price</th>\n",
       "      <th>Rating</th>\n",
       "      <th>Time_Minutes</th>\n",
       "      <th>Lat</th>\n",
       "      <th>Long</th>\n",
       "      <th>Unnamed: 11</th>\n",
       "      <th>Unnamed: 12</th>\n",
       "    </tr>\n",
       "  </thead>\n",
       "  <tbody>\n",
       "    <tr>\n",
       "      <th>count</th>\n",
       "      <td>437.000000</td>\n",
       "      <td>437.000000</td>\n",
       "      <td>437.000000</td>\n",
       "      <td>205.000000</td>\n",
       "      <td>437.000000</td>\n",
       "      <td>437.000000</td>\n",
       "      <td>0.0</td>\n",
       "      <td>437.000000</td>\n",
       "    </tr>\n",
       "    <tr>\n",
       "      <th>mean</th>\n",
       "      <td>219.000000</td>\n",
       "      <td>24652.173913</td>\n",
       "      <td>4.442792</td>\n",
       "      <td>82.609756</td>\n",
       "      <td>-7.095438</td>\n",
       "      <td>109.160142</td>\n",
       "      <td>NaN</td>\n",
       "      <td>219.000000</td>\n",
       "    </tr>\n",
       "    <tr>\n",
       "      <th>std</th>\n",
       "      <td>126.295289</td>\n",
       "      <td>66446.374709</td>\n",
       "      <td>0.208587</td>\n",
       "      <td>52.872339</td>\n",
       "      <td>0.727241</td>\n",
       "      <td>1.962848</td>\n",
       "      <td>NaN</td>\n",
       "      <td>126.295289</td>\n",
       "    </tr>\n",
       "    <tr>\n",
       "      <th>min</th>\n",
       "      <td>1.000000</td>\n",
       "      <td>0.000000</td>\n",
       "      <td>3.400000</td>\n",
       "      <td>10.000000</td>\n",
       "      <td>-8.197894</td>\n",
       "      <td>103.931398</td>\n",
       "      <td>NaN</td>\n",
       "      <td>1.000000</td>\n",
       "    </tr>\n",
       "    <tr>\n",
       "      <th>25%</th>\n",
       "      <td>110.000000</td>\n",
       "      <td>0.000000</td>\n",
       "      <td>4.300000</td>\n",
       "      <td>45.000000</td>\n",
       "      <td>-7.749590</td>\n",
       "      <td>107.578369</td>\n",
       "      <td>NaN</td>\n",
       "      <td>110.000000</td>\n",
       "    </tr>\n",
       "    <tr>\n",
       "      <th>50%</th>\n",
       "      <td>219.000000</td>\n",
       "      <td>5000.000000</td>\n",
       "      <td>4.500000</td>\n",
       "      <td>60.000000</td>\n",
       "      <td>-7.020524</td>\n",
       "      <td>110.237468</td>\n",
       "      <td>NaN</td>\n",
       "      <td>219.000000</td>\n",
       "    </tr>\n",
       "    <tr>\n",
       "      <th>75%</th>\n",
       "      <td>328.000000</td>\n",
       "      <td>20000.000000</td>\n",
       "      <td>4.600000</td>\n",
       "      <td>120.000000</td>\n",
       "      <td>-6.829411</td>\n",
       "      <td>110.431869</td>\n",
       "      <td>NaN</td>\n",
       "      <td>328.000000</td>\n",
       "    </tr>\n",
       "    <tr>\n",
       "      <th>max</th>\n",
       "      <td>437.000000</td>\n",
       "      <td>900000.000000</td>\n",
       "      <td>5.000000</td>\n",
       "      <td>360.000000</td>\n",
       "      <td>1.078880</td>\n",
       "      <td>112.821662</td>\n",
       "      <td>NaN</td>\n",
       "      <td>437.000000</td>\n",
       "    </tr>\n",
       "  </tbody>\n",
       "</table>\n",
       "</div>"
      ],
      "text/plain": [
       "         Place_Id          Price      Rating  Time_Minutes         Lat  \\\n",
       "count  437.000000     437.000000  437.000000    205.000000  437.000000   \n",
       "mean   219.000000   24652.173913    4.442792     82.609756   -7.095438   \n",
       "std    126.295289   66446.374709    0.208587     52.872339    0.727241   \n",
       "min      1.000000       0.000000    3.400000     10.000000   -8.197894   \n",
       "25%    110.000000       0.000000    4.300000     45.000000   -7.749590   \n",
       "50%    219.000000    5000.000000    4.500000     60.000000   -7.020524   \n",
       "75%    328.000000   20000.000000    4.600000    120.000000   -6.829411   \n",
       "max    437.000000  900000.000000    5.000000    360.000000    1.078880   \n",
       "\n",
       "             Long  Unnamed: 11  Unnamed: 12  \n",
       "count  437.000000          0.0   437.000000  \n",
       "mean   109.160142          NaN   219.000000  \n",
       "std      1.962848          NaN   126.295289  \n",
       "min    103.931398          NaN     1.000000  \n",
       "25%    107.578369          NaN   110.000000  \n",
       "50%    110.237468          NaN   219.000000  \n",
       "75%    110.431869          NaN   328.000000  \n",
       "max    112.821662          NaN   437.000000  "
      ]
     },
     "execution_count": 13,
     "metadata": {},
     "output_type": "execute_result"
    }
   ],
   "source": [
    "tourism_with_id_df.describe()"
   ]
  },
  {
   "cell_type": "code",
   "execution_count": 14,
   "id": "860c679b",
   "metadata": {
    "execution": {
     "iopub.execute_input": "2024-09-08T09:50:14.182054Z",
     "iopub.status.busy": "2024-09-08T09:50:14.181108Z",
     "iopub.status.idle": "2024-09-08T09:50:14.188799Z",
     "shell.execute_reply": "2024-09-08T09:50:14.187667Z"
    },
    "papermill": {
     "duration": 0.039158,
     "end_time": "2024-09-08T09:50:14.191469",
     "exception": false,
     "start_time": "2024-09-08T09:50:14.152311",
     "status": "completed"
    },
    "tags": []
   },
   "outputs": [
    {
     "data": {
      "text/plain": [
       "(437, 13)"
      ]
     },
     "execution_count": 14,
     "metadata": {},
     "output_type": "execute_result"
    }
   ],
   "source": [
    "tourism_with_id_df.shape"
   ]
  },
  {
   "cell_type": "markdown",
   "id": "37330f14",
   "metadata": {
    "papermill": {
     "duration": 0.026138,
     "end_time": "2024-09-08T09:50:14.244057",
     "exception": false,
     "start_time": "2024-09-08T09:50:14.217919",
     "status": "completed"
    },
    "tags": []
   },
   "source": [
    "#### Load tourism_with_id dataframe & info"
   ]
  },
  {
   "cell_type": "code",
   "execution_count": 15,
   "id": "e97d7ae3",
   "metadata": {
    "execution": {
     "iopub.execute_input": "2024-09-08T09:50:14.299277Z",
     "iopub.status.busy": "2024-09-08T09:50:14.298826Z",
     "iopub.status.idle": "2024-09-08T09:50:14.318999Z",
     "shell.execute_reply": "2024-09-08T09:50:14.317803Z"
    },
    "papermill": {
     "duration": 0.05111,
     "end_time": "2024-09-08T09:50:14.321940",
     "exception": false,
     "start_time": "2024-09-08T09:50:14.270830",
     "status": "completed"
    },
    "tags": []
   },
   "outputs": [
    {
     "data": {
      "text/html": [
       "<div>\n",
       "<style scoped>\n",
       "    .dataframe tbody tr th:only-of-type {\n",
       "        vertical-align: middle;\n",
       "    }\n",
       "\n",
       "    .dataframe tbody tr th {\n",
       "        vertical-align: top;\n",
       "    }\n",
       "\n",
       "    .dataframe thead th {\n",
       "        text-align: right;\n",
       "    }\n",
       "</style>\n",
       "<table border=\"1\" class=\"dataframe\">\n",
       "  <thead>\n",
       "    <tr style=\"text-align: right;\">\n",
       "      <th></th>\n",
       "      <th>Package</th>\n",
       "      <th>City</th>\n",
       "      <th>Place_Tourism1</th>\n",
       "      <th>Place_Tourism2</th>\n",
       "      <th>Place_Tourism3</th>\n",
       "      <th>Place_Tourism4</th>\n",
       "      <th>Place_Tourism5</th>\n",
       "    </tr>\n",
       "  </thead>\n",
       "  <tbody>\n",
       "    <tr>\n",
       "      <th>0</th>\n",
       "      <td>1</td>\n",
       "      <td>Jakarta</td>\n",
       "      <td>Pasar Tanah Abang</td>\n",
       "      <td>Taman Ayodya</td>\n",
       "      <td>Museum Tekstil</td>\n",
       "      <td>NaN</td>\n",
       "      <td>NaN</td>\n",
       "    </tr>\n",
       "    <tr>\n",
       "      <th>1</th>\n",
       "      <td>2</td>\n",
       "      <td>Jakarta</td>\n",
       "      <td>Pasar Tanah Abang</td>\n",
       "      <td>Pasar Taman Puring</td>\n",
       "      <td>Pasar Petak Sembilan</td>\n",
       "      <td>NaN</td>\n",
       "      <td>NaN</td>\n",
       "    </tr>\n",
       "    <tr>\n",
       "      <th>2</th>\n",
       "      <td>3</td>\n",
       "      <td>Jakarta</td>\n",
       "      <td>Perpustakaan Nasional</td>\n",
       "      <td>Monas</td>\n",
       "      <td>Masjid Istiqlal</td>\n",
       "      <td>NaN</td>\n",
       "      <td>NaN</td>\n",
       "    </tr>\n",
       "    <tr>\n",
       "      <th>3</th>\n",
       "      <td>4</td>\n",
       "      <td>Jakarta</td>\n",
       "      <td>Pulau Tidung</td>\n",
       "      <td>Pulau Bidadari</td>\n",
       "      <td>Pulau Pari</td>\n",
       "      <td>Pulau Pramuka</td>\n",
       "      <td>Pulau Pelangi</td>\n",
       "    </tr>\n",
       "    <tr>\n",
       "      <th>4</th>\n",
       "      <td>5</td>\n",
       "      <td>Jakarta</td>\n",
       "      <td>Museum Satria Mandala</td>\n",
       "      <td>Museum Wayang</td>\n",
       "      <td>Museum Bahari Jakarta</td>\n",
       "      <td>Museum Macan (Modern and Contemporary Art in N...</td>\n",
       "      <td>NaN</td>\n",
       "    </tr>\n",
       "  </tbody>\n",
       "</table>\n",
       "</div>"
      ],
      "text/plain": [
       "   Package     City         Place_Tourism1      Place_Tourism2  \\\n",
       "0        1  Jakarta      Pasar Tanah Abang        Taman Ayodya   \n",
       "1        2  Jakarta      Pasar Tanah Abang  Pasar Taman Puring   \n",
       "2        3  Jakarta  Perpustakaan Nasional               Monas   \n",
       "3        4  Jakarta           Pulau Tidung      Pulau Bidadari   \n",
       "4        5  Jakarta  Museum Satria Mandala       Museum Wayang   \n",
       "\n",
       "          Place_Tourism3                                     Place_Tourism4  \\\n",
       "0         Museum Tekstil                                                NaN   \n",
       "1   Pasar Petak Sembilan                                                NaN   \n",
       "2        Masjid Istiqlal                                                NaN   \n",
       "3             Pulau Pari                                      Pulau Pramuka   \n",
       "4  Museum Bahari Jakarta  Museum Macan (Modern and Contemporary Art in N...   \n",
       "\n",
       "  Place_Tourism5  \n",
       "0            NaN  \n",
       "1            NaN  \n",
       "2            NaN  \n",
       "3  Pulau Pelangi  \n",
       "4            NaN  "
      ]
     },
     "execution_count": 15,
     "metadata": {},
     "output_type": "execute_result"
    }
   ],
   "source": [
    "path_package_tourism = \"/kaggle/input/indonesia-tourism-destination/package_tourism.csv\"\n",
    "package_tourism_df = pd.read_csv(path_package_tourism)\n",
    "package_tourism_df.head()"
   ]
  },
  {
   "cell_type": "code",
   "execution_count": 16,
   "id": "97364ec0",
   "metadata": {
    "execution": {
     "iopub.execute_input": "2024-09-08T09:50:14.377674Z",
     "iopub.status.busy": "2024-09-08T09:50:14.377237Z",
     "iopub.status.idle": "2024-09-08T09:50:14.389175Z",
     "shell.execute_reply": "2024-09-08T09:50:14.387834Z"
    },
    "papermill": {
     "duration": 0.043165,
     "end_time": "2024-09-08T09:50:14.392184",
     "exception": false,
     "start_time": "2024-09-08T09:50:14.349019",
     "status": "completed"
    },
    "tags": []
   },
   "outputs": [
    {
     "name": "stdout",
     "output_type": "stream",
     "text": [
      "<class 'pandas.core.frame.DataFrame'>\n",
      "RangeIndex: 100 entries, 0 to 99\n",
      "Data columns (total 7 columns):\n",
      " #   Column          Non-Null Count  Dtype \n",
      "---  ------          --------------  ----- \n",
      " 0   Package         100 non-null    int64 \n",
      " 1   City            100 non-null    object\n",
      " 2   Place_Tourism1  100 non-null    object\n",
      " 3   Place_Tourism2  100 non-null    object\n",
      " 4   Place_Tourism3  100 non-null    object\n",
      " 5   Place_Tourism4  66 non-null     object\n",
      " 6   Place_Tourism5  39 non-null     object\n",
      "dtypes: int64(1), object(6)\n",
      "memory usage: 5.6+ KB\n"
     ]
    }
   ],
   "source": [
    "package_tourism_df.info()"
   ]
  },
  {
   "cell_type": "code",
   "execution_count": 17,
   "id": "1ba3fc3c",
   "metadata": {
    "execution": {
     "iopub.execute_input": "2024-09-08T09:50:14.448015Z",
     "iopub.status.busy": "2024-09-08T09:50:14.446938Z",
     "iopub.status.idle": "2024-09-08T09:50:14.461876Z",
     "shell.execute_reply": "2024-09-08T09:50:14.460787Z"
    },
    "papermill": {
     "duration": 0.045378,
     "end_time": "2024-09-08T09:50:14.464505",
     "exception": false,
     "start_time": "2024-09-08T09:50:14.419127",
     "status": "completed"
    },
    "tags": []
   },
   "outputs": [
    {
     "data": {
      "text/html": [
       "<div>\n",
       "<style scoped>\n",
       "    .dataframe tbody tr th:only-of-type {\n",
       "        vertical-align: middle;\n",
       "    }\n",
       "\n",
       "    .dataframe tbody tr th {\n",
       "        vertical-align: top;\n",
       "    }\n",
       "\n",
       "    .dataframe thead th {\n",
       "        text-align: right;\n",
       "    }\n",
       "</style>\n",
       "<table border=\"1\" class=\"dataframe\">\n",
       "  <thead>\n",
       "    <tr style=\"text-align: right;\">\n",
       "      <th></th>\n",
       "      <th>Package</th>\n",
       "    </tr>\n",
       "  </thead>\n",
       "  <tbody>\n",
       "    <tr>\n",
       "      <th>count</th>\n",
       "      <td>100.000000</td>\n",
       "    </tr>\n",
       "    <tr>\n",
       "      <th>mean</th>\n",
       "      <td>50.500000</td>\n",
       "    </tr>\n",
       "    <tr>\n",
       "      <th>std</th>\n",
       "      <td>29.011492</td>\n",
       "    </tr>\n",
       "    <tr>\n",
       "      <th>min</th>\n",
       "      <td>1.000000</td>\n",
       "    </tr>\n",
       "    <tr>\n",
       "      <th>25%</th>\n",
       "      <td>25.750000</td>\n",
       "    </tr>\n",
       "    <tr>\n",
       "      <th>50%</th>\n",
       "      <td>50.500000</td>\n",
       "    </tr>\n",
       "    <tr>\n",
       "      <th>75%</th>\n",
       "      <td>75.250000</td>\n",
       "    </tr>\n",
       "    <tr>\n",
       "      <th>max</th>\n",
       "      <td>100.000000</td>\n",
       "    </tr>\n",
       "  </tbody>\n",
       "</table>\n",
       "</div>"
      ],
      "text/plain": [
       "          Package\n",
       "count  100.000000\n",
       "mean    50.500000\n",
       "std     29.011492\n",
       "min      1.000000\n",
       "25%     25.750000\n",
       "50%     50.500000\n",
       "75%     75.250000\n",
       "max    100.000000"
      ]
     },
     "execution_count": 17,
     "metadata": {},
     "output_type": "execute_result"
    }
   ],
   "source": [
    "package_tourism_df.describe()"
   ]
  },
  {
   "cell_type": "code",
   "execution_count": 18,
   "id": "a729d28f",
   "metadata": {
    "execution": {
     "iopub.execute_input": "2024-09-08T09:50:14.520309Z",
     "iopub.status.busy": "2024-09-08T09:50:14.519877Z",
     "iopub.status.idle": "2024-09-08T09:50:14.527113Z",
     "shell.execute_reply": "2024-09-08T09:50:14.525952Z"
    },
    "papermill": {
     "duration": 0.038437,
     "end_time": "2024-09-08T09:50:14.529658",
     "exception": false,
     "start_time": "2024-09-08T09:50:14.491221",
     "status": "completed"
    },
    "tags": []
   },
   "outputs": [
    {
     "data": {
      "text/plain": [
       "(100, 7)"
      ]
     },
     "execution_count": 18,
     "metadata": {},
     "output_type": "execute_result"
    }
   ],
   "source": [
    "package_tourism_df.shape"
   ]
  },
  {
   "cell_type": "markdown",
   "id": "6fec37be",
   "metadata": {
    "papermill": {
     "duration": 0.026591,
     "end_time": "2024-09-08T09:50:14.583009",
     "exception": false,
     "start_time": "2024-09-08T09:50:14.556418",
     "status": "completed"
    },
    "tags": []
   },
   "source": [
    "#### Load package_tourism dataframe & info"
   ]
  },
  {
   "cell_type": "markdown",
   "id": "3986db67",
   "metadata": {
    "papermill": {
     "duration": 0.026495,
     "end_time": "2024-09-08T09:50:14.636389",
     "exception": false,
     "start_time": "2024-09-08T09:50:14.609894",
     "status": "completed"
    },
    "tags": []
   },
   "source": [
    "## Preprocessing"
   ]
  },
  {
   "cell_type": "code",
   "execution_count": 19,
   "id": "f7932abf",
   "metadata": {
    "execution": {
     "iopub.execute_input": "2024-09-08T09:50:14.752312Z",
     "iopub.status.busy": "2024-09-08T09:50:14.751831Z",
     "iopub.status.idle": "2024-09-08T09:50:14.774393Z",
     "shell.execute_reply": "2024-09-08T09:50:14.772976Z"
    },
    "papermill": {
     "duration": 0.053842,
     "end_time": "2024-09-08T09:50:14.777197",
     "exception": false,
     "start_time": "2024-09-08T09:50:14.723355",
     "status": "completed"
    },
    "tags": []
   },
   "outputs": [
    {
     "data": {
      "text/html": [
       "<div>\n",
       "<style scoped>\n",
       "    .dataframe tbody tr th:only-of-type {\n",
       "        vertical-align: middle;\n",
       "    }\n",
       "\n",
       "    .dataframe tbody tr th {\n",
       "        vertical-align: top;\n",
       "    }\n",
       "\n",
       "    .dataframe thead th {\n",
       "        text-align: right;\n",
       "    }\n",
       "</style>\n",
       "<table border=\"1\" class=\"dataframe\">\n",
       "  <thead>\n",
       "    <tr style=\"text-align: right;\">\n",
       "      <th></th>\n",
       "      <th>Place_Id</th>\n",
       "      <th>Place_Name</th>\n",
       "      <th>Description</th>\n",
       "      <th>Category</th>\n",
       "      <th>City</th>\n",
       "      <th>Price</th>\n",
       "      <th>Rating</th>\n",
       "      <th>Time_Minutes</th>\n",
       "      <th>Coordinate</th>\n",
       "      <th>Lat</th>\n",
       "      <th>Long</th>\n",
       "      <th>Unnamed: 11</th>\n",
       "      <th>Unnamed: 12</th>\n",
       "    </tr>\n",
       "  </thead>\n",
       "  <tbody>\n",
       "    <tr>\n",
       "      <th>0</th>\n",
       "      <td>1</td>\n",
       "      <td>Monumen Nasional</td>\n",
       "      <td>Monumen Nasional atau yang populer disingkat d...</td>\n",
       "      <td>Budaya</td>\n",
       "      <td>Jakarta</td>\n",
       "      <td>20000</td>\n",
       "      <td>4.6</td>\n",
       "      <td>15.0</td>\n",
       "      <td>{'lat': -6.1753924, 'lng': 106.8271528}</td>\n",
       "      <td>-6.175392</td>\n",
       "      <td>106.827153</td>\n",
       "      <td>NaN</td>\n",
       "      <td>1</td>\n",
       "    </tr>\n",
       "    <tr>\n",
       "      <th>1</th>\n",
       "      <td>2</td>\n",
       "      <td>Kota Tua</td>\n",
       "      <td>Kota tua di Jakarta, yang juga bernama Kota Tu...</td>\n",
       "      <td>Budaya</td>\n",
       "      <td>Jakarta</td>\n",
       "      <td>0</td>\n",
       "      <td>4.6</td>\n",
       "      <td>90.0</td>\n",
       "      <td>{'lat': -6.137644799999999, 'lng': 106.8171245}</td>\n",
       "      <td>-6.137645</td>\n",
       "      <td>106.817125</td>\n",
       "      <td>NaN</td>\n",
       "      <td>2</td>\n",
       "    </tr>\n",
       "    <tr>\n",
       "      <th>2</th>\n",
       "      <td>3</td>\n",
       "      <td>Dunia Fantasi</td>\n",
       "      <td>Dunia Fantasi atau disebut juga Dufan adalah t...</td>\n",
       "      <td>Taman Hiburan</td>\n",
       "      <td>Jakarta</td>\n",
       "      <td>270000</td>\n",
       "      <td>4.6</td>\n",
       "      <td>360.0</td>\n",
       "      <td>{'lat': -6.125312399999999, 'lng': 106.8335377}</td>\n",
       "      <td>-6.125312</td>\n",
       "      <td>106.833538</td>\n",
       "      <td>NaN</td>\n",
       "      <td>3</td>\n",
       "    </tr>\n",
       "    <tr>\n",
       "      <th>3</th>\n",
       "      <td>4</td>\n",
       "      <td>Taman Mini Indonesia Indah (TMII)</td>\n",
       "      <td>Taman Mini Indonesia Indah merupakan suatu kaw...</td>\n",
       "      <td>Taman Hiburan</td>\n",
       "      <td>Jakarta</td>\n",
       "      <td>10000</td>\n",
       "      <td>4.5</td>\n",
       "      <td>NaN</td>\n",
       "      <td>{'lat': -6.302445899999999, 'lng': 106.8951559}</td>\n",
       "      <td>-6.302446</td>\n",
       "      <td>106.895156</td>\n",
       "      <td>NaN</td>\n",
       "      <td>4</td>\n",
       "    </tr>\n",
       "    <tr>\n",
       "      <th>4</th>\n",
       "      <td>5</td>\n",
       "      <td>Atlantis Water Adventure</td>\n",
       "      <td>Atlantis Water Adventure atau dikenal dengan A...</td>\n",
       "      <td>Taman Hiburan</td>\n",
       "      <td>Jakarta</td>\n",
       "      <td>94000</td>\n",
       "      <td>4.5</td>\n",
       "      <td>60.0</td>\n",
       "      <td>{'lat': -6.12419, 'lng': 106.839134}</td>\n",
       "      <td>-6.124190</td>\n",
       "      <td>106.839134</td>\n",
       "      <td>NaN</td>\n",
       "      <td>5</td>\n",
       "    </tr>\n",
       "  </tbody>\n",
       "</table>\n",
       "</div>"
      ],
      "text/plain": [
       "   Place_Id                         Place_Name  \\\n",
       "0         1                   Monumen Nasional   \n",
       "1         2                           Kota Tua   \n",
       "2         3                      Dunia Fantasi   \n",
       "3         4  Taman Mini Indonesia Indah (TMII)   \n",
       "4         5           Atlantis Water Adventure   \n",
       "\n",
       "                                         Description       Category     City  \\\n",
       "0  Monumen Nasional atau yang populer disingkat d...         Budaya  Jakarta   \n",
       "1  Kota tua di Jakarta, yang juga bernama Kota Tu...         Budaya  Jakarta   \n",
       "2  Dunia Fantasi atau disebut juga Dufan adalah t...  Taman Hiburan  Jakarta   \n",
       "3  Taman Mini Indonesia Indah merupakan suatu kaw...  Taman Hiburan  Jakarta   \n",
       "4  Atlantis Water Adventure atau dikenal dengan A...  Taman Hiburan  Jakarta   \n",
       "\n",
       "    Price  Rating  Time_Minutes  \\\n",
       "0   20000     4.6          15.0   \n",
       "1       0     4.6          90.0   \n",
       "2  270000     4.6         360.0   \n",
       "3   10000     4.5           NaN   \n",
       "4   94000     4.5          60.0   \n",
       "\n",
       "                                        Coordinate       Lat        Long  \\\n",
       "0          {'lat': -6.1753924, 'lng': 106.8271528} -6.175392  106.827153   \n",
       "1  {'lat': -6.137644799999999, 'lng': 106.8171245} -6.137645  106.817125   \n",
       "2  {'lat': -6.125312399999999, 'lng': 106.8335377} -6.125312  106.833538   \n",
       "3  {'lat': -6.302445899999999, 'lng': 106.8951559} -6.302446  106.895156   \n",
       "4             {'lat': -6.12419, 'lng': 106.839134} -6.124190  106.839134   \n",
       "\n",
       "   Unnamed: 11  Unnamed: 12  \n",
       "0          NaN            1  \n",
       "1          NaN            2  \n",
       "2          NaN            3  \n",
       "3          NaN            4  \n",
       "4          NaN            5  "
      ]
     },
     "execution_count": 19,
     "metadata": {},
     "output_type": "execute_result"
    }
   ],
   "source": [
    "tourism_with_id_df.head()\n",
    "tourism_content_df = tourism_with_id_df\n",
    "tourism_content_df.head()"
   ]
  },
  {
   "cell_type": "markdown",
   "id": "7e2f84af",
   "metadata": {
    "papermill": {
     "duration": 0.027404,
     "end_time": "2024-09-08T09:50:14.833369",
     "exception": false,
     "start_time": "2024-09-08T09:50:14.805965",
     "status": "completed"
    },
    "tags": []
   },
   "source": [
    "#### Lihat isi dari dataframe tourism_with_id\n"
   ]
  },
  {
   "cell_type": "code",
   "execution_count": 20,
   "id": "b7b52b98",
   "metadata": {
    "execution": {
     "iopub.execute_input": "2024-09-08T09:50:14.889757Z",
     "iopub.status.busy": "2024-09-08T09:50:14.889308Z",
     "iopub.status.idle": "2024-09-08T09:50:14.899206Z",
     "shell.execute_reply": "2024-09-08T09:50:14.898014Z"
    },
    "papermill": {
     "duration": 0.041094,
     "end_time": "2024-09-08T09:50:14.901810",
     "exception": false,
     "start_time": "2024-09-08T09:50:14.860716",
     "status": "completed"
    },
    "tags": []
   },
   "outputs": [
    {
     "name": "stdout",
     "output_type": "stream",
     "text": [
      "Total number of tourism:  437\n"
     ]
    }
   ],
   "source": [
    "# Menggabungkan dataframe tourism_with_id dengan tourism_rating\n",
    "tourism_all = np.concatenate((tourism_with_id_df.Place_Id.unique(),\n",
    "                             tourism_rating_df.Place_Id.unique()))\n",
    "\n",
    "# Mengurutkan data dan menghapus data yang sama\n",
    "tourism_all = np.sort(np.unique(tourism_all))\n",
    "\n",
    "print('Total number of tourism: ', len(tourism_all))"
   ]
  },
  {
   "cell_type": "markdown",
   "id": "1902c54f",
   "metadata": {
    "papermill": {
     "duration": 0.027334,
     "end_time": "2024-09-08T09:50:14.957931",
     "exception": false,
     "start_time": "2024-09-08T09:50:14.930597",
     "status": "completed"
    },
    "tags": []
   },
   "source": [
    "### Hitung seluruh data tourism berdasarkan place id"
   ]
  },
  {
   "cell_type": "code",
   "execution_count": 21,
   "id": "db89a2a9",
   "metadata": {
    "execution": {
     "iopub.execute_input": "2024-09-08T09:50:15.014564Z",
     "iopub.status.busy": "2024-09-08T09:50:15.014106Z",
     "iopub.status.idle": "2024-09-08T09:50:15.030093Z",
     "shell.execute_reply": "2024-09-08T09:50:15.028814Z"
    },
    "papermill": {
     "duration": 0.047865,
     "end_time": "2024-09-08T09:50:15.033030",
     "exception": false,
     "start_time": "2024-09-08T09:50:14.985165",
     "status": "completed"
    },
    "tags": []
   },
   "outputs": [
    {
     "data": {
      "text/html": [
       "<div>\n",
       "<style scoped>\n",
       "    .dataframe tbody tr th:only-of-type {\n",
       "        vertical-align: middle;\n",
       "    }\n",
       "\n",
       "    .dataframe tbody tr th {\n",
       "        vertical-align: top;\n",
       "    }\n",
       "\n",
       "    .dataframe thead th {\n",
       "        text-align: right;\n",
       "    }\n",
       "</style>\n",
       "<table border=\"1\" class=\"dataframe\">\n",
       "  <thead>\n",
       "    <tr style=\"text-align: right;\">\n",
       "      <th></th>\n",
       "      <th>User_Id</th>\n",
       "      <th>Place_Id</th>\n",
       "      <th>Place_Ratings</th>\n",
       "    </tr>\n",
       "  </thead>\n",
       "  <tbody>\n",
       "    <tr>\n",
       "      <th>0</th>\n",
       "      <td>1</td>\n",
       "      <td>179</td>\n",
       "      <td>3</td>\n",
       "    </tr>\n",
       "    <tr>\n",
       "      <th>1</th>\n",
       "      <td>1</td>\n",
       "      <td>344</td>\n",
       "      <td>2</td>\n",
       "    </tr>\n",
       "    <tr>\n",
       "      <th>2</th>\n",
       "      <td>1</td>\n",
       "      <td>5</td>\n",
       "      <td>5</td>\n",
       "    </tr>\n",
       "    <tr>\n",
       "      <th>3</th>\n",
       "      <td>1</td>\n",
       "      <td>373</td>\n",
       "      <td>3</td>\n",
       "    </tr>\n",
       "    <tr>\n",
       "      <th>4</th>\n",
       "      <td>1</td>\n",
       "      <td>101</td>\n",
       "      <td>4</td>\n",
       "    </tr>\n",
       "    <tr>\n",
       "      <th>...</th>\n",
       "      <td>...</td>\n",
       "      <td>...</td>\n",
       "      <td>...</td>\n",
       "    </tr>\n",
       "    <tr>\n",
       "      <th>9995</th>\n",
       "      <td>300</td>\n",
       "      <td>425</td>\n",
       "      <td>2</td>\n",
       "    </tr>\n",
       "    <tr>\n",
       "      <th>9996</th>\n",
       "      <td>300</td>\n",
       "      <td>64</td>\n",
       "      <td>4</td>\n",
       "    </tr>\n",
       "    <tr>\n",
       "      <th>9997</th>\n",
       "      <td>300</td>\n",
       "      <td>311</td>\n",
       "      <td>3</td>\n",
       "    </tr>\n",
       "    <tr>\n",
       "      <th>9998</th>\n",
       "      <td>300</td>\n",
       "      <td>279</td>\n",
       "      <td>4</td>\n",
       "    </tr>\n",
       "    <tr>\n",
       "      <th>9999</th>\n",
       "      <td>300</td>\n",
       "      <td>163</td>\n",
       "      <td>2</td>\n",
       "    </tr>\n",
       "  </tbody>\n",
       "</table>\n",
       "<p>10000 rows × 3 columns</p>\n",
       "</div>"
      ],
      "text/plain": [
       "      User_Id  Place_Id  Place_Ratings\n",
       "0           1       179              3\n",
       "1           1       344              2\n",
       "2           1         5              5\n",
       "3           1       373              3\n",
       "4           1       101              4\n",
       "...       ...       ...            ...\n",
       "9995      300       425              2\n",
       "9996      300        64              4\n",
       "9997      300       311              3\n",
       "9998      300       279              4\n",
       "9999      300       163              2\n",
       "\n",
       "[10000 rows x 3 columns]"
      ]
     },
     "execution_count": 21,
     "metadata": {},
     "output_type": "execute_result"
    }
   ],
   "source": [
    "all_rate_tourism = tourism_rating_df\n",
    "all_rate_tourism"
   ]
  },
  {
   "cell_type": "markdown",
   "id": "906e98b0",
   "metadata": {
    "papermill": {
     "duration": 0.027694,
     "end_time": "2024-09-08T09:50:15.090085",
     "exception": false,
     "start_time": "2024-09-08T09:50:15.062391",
     "status": "completed"
    },
    "tags": []
   },
   "source": [
    "### Definisikan dataframe tourism_rating dengan variabel lain untuk digabungkan"
   ]
  },
  {
   "cell_type": "code",
   "execution_count": 22,
   "id": "73d0d36a",
   "metadata": {
    "execution": {
     "iopub.execute_input": "2024-09-08T09:50:15.148060Z",
     "iopub.status.busy": "2024-09-08T09:50:15.147616Z",
     "iopub.status.idle": "2024-09-08T09:50:15.177566Z",
     "shell.execute_reply": "2024-09-08T09:50:15.176375Z"
    },
    "papermill": {
     "duration": 0.062382,
     "end_time": "2024-09-08T09:50:15.180432",
     "exception": false,
     "start_time": "2024-09-08T09:50:15.118050",
     "status": "completed"
    },
    "tags": []
   },
   "outputs": [
    {
     "data": {
      "text/html": [
       "<div>\n",
       "<style scoped>\n",
       "    .dataframe tbody tr th:only-of-type {\n",
       "        vertical-align: middle;\n",
       "    }\n",
       "\n",
       "    .dataframe tbody tr th {\n",
       "        vertical-align: top;\n",
       "    }\n",
       "\n",
       "    .dataframe thead th {\n",
       "        text-align: right;\n",
       "    }\n",
       "</style>\n",
       "<table border=\"1\" class=\"dataframe\">\n",
       "  <thead>\n",
       "    <tr style=\"text-align: right;\">\n",
       "      <th></th>\n",
       "      <th>User_Id</th>\n",
       "      <th>Place_Id</th>\n",
       "      <th>Place_Ratings</th>\n",
       "      <th>Place_Name</th>\n",
       "      <th>Description</th>\n",
       "      <th>City</th>\n",
       "      <th>Category</th>\n",
       "      <th>Price</th>\n",
       "    </tr>\n",
       "  </thead>\n",
       "  <tbody>\n",
       "    <tr>\n",
       "      <th>0</th>\n",
       "      <td>1</td>\n",
       "      <td>179</td>\n",
       "      <td>3</td>\n",
       "      <td>Candi Ratu Boko</td>\n",
       "      <td>Situs Ratu Baka atau Candi Boko (Hanacaraka:ꦕꦤ...</td>\n",
       "      <td>Yogyakarta</td>\n",
       "      <td>Budaya</td>\n",
       "      <td>75000</td>\n",
       "    </tr>\n",
       "    <tr>\n",
       "      <th>1</th>\n",
       "      <td>1</td>\n",
       "      <td>344</td>\n",
       "      <td>2</td>\n",
       "      <td>Pantai Marina</td>\n",
       "      <td>Pantai Marina (bahasa Jawa: ꦥꦱꦶꦱꦶꦂ​ꦩꦫꦶꦤ, trans...</td>\n",
       "      <td>Semarang</td>\n",
       "      <td>Bahari</td>\n",
       "      <td>3000</td>\n",
       "    </tr>\n",
       "    <tr>\n",
       "      <th>2</th>\n",
       "      <td>1</td>\n",
       "      <td>5</td>\n",
       "      <td>5</td>\n",
       "      <td>Atlantis Water Adventure</td>\n",
       "      <td>Atlantis Water Adventure atau dikenal dengan A...</td>\n",
       "      <td>Jakarta</td>\n",
       "      <td>Taman Hiburan</td>\n",
       "      <td>94000</td>\n",
       "    </tr>\n",
       "    <tr>\n",
       "      <th>3</th>\n",
       "      <td>1</td>\n",
       "      <td>373</td>\n",
       "      <td>3</td>\n",
       "      <td>Museum Kereta Ambarawa</td>\n",
       "      <td>Museum Kereta Api Ambarawa (bahasa Inggris: In...</td>\n",
       "      <td>Semarang</td>\n",
       "      <td>Budaya</td>\n",
       "      <td>10000</td>\n",
       "    </tr>\n",
       "    <tr>\n",
       "      <th>4</th>\n",
       "      <td>1</td>\n",
       "      <td>101</td>\n",
       "      <td>4</td>\n",
       "      <td>Kampung Wisata Sosro Menduran</td>\n",
       "      <td>Kampung wisata Sosromenduran merupakan kampung...</td>\n",
       "      <td>Yogyakarta</td>\n",
       "      <td>Budaya</td>\n",
       "      <td>0</td>\n",
       "    </tr>\n",
       "  </tbody>\n",
       "</table>\n",
       "</div>"
      ],
      "text/plain": [
       "   User_Id  Place_Id  Place_Ratings                     Place_Name  \\\n",
       "0        1       179              3                Candi Ratu Boko   \n",
       "1        1       344              2                  Pantai Marina   \n",
       "2        1         5              5       Atlantis Water Adventure   \n",
       "3        1       373              3         Museum Kereta Ambarawa   \n",
       "4        1       101              4  Kampung Wisata Sosro Menduran   \n",
       "\n",
       "                                         Description        City  \\\n",
       "0  Situs Ratu Baka atau Candi Boko (Hanacaraka:ꦕꦤ...  Yogyakarta   \n",
       "1  Pantai Marina (bahasa Jawa: ꦥꦱꦶꦱꦶꦂ​ꦩꦫꦶꦤ, trans...    Semarang   \n",
       "2  Atlantis Water Adventure atau dikenal dengan A...     Jakarta   \n",
       "3  Museum Kereta Api Ambarawa (bahasa Inggris: In...    Semarang   \n",
       "4  Kampung wisata Sosromenduran merupakan kampung...  Yogyakarta   \n",
       "\n",
       "        Category  Price  \n",
       "0         Budaya  75000  \n",
       "1         Bahari   3000  \n",
       "2  Taman Hiburan  94000  \n",
       "3         Budaya  10000  \n",
       "4         Budaya      0  "
      ]
     },
     "execution_count": 22,
     "metadata": {},
     "output_type": "execute_result"
    }
   ],
   "source": [
    "# Menggabungkan dataframe rating dengan tourism_with_id berdasarkan nilai placeID\n",
    "all_rate_tourism = pd.merge(all_rate_tourism, tourism_with_id_df[[\"Place_Id\",\"Place_Name\",\"Description\",\"City\",\"Category\",\"Price\"]],on='Place_Id', how='left')\n",
    "all_rate_tourism.head()"
   ]
  },
  {
   "cell_type": "markdown",
   "id": "5a37ae82",
   "metadata": {
    "papermill": {
     "duration": 0.02848,
     "end_time": "2024-09-08T09:50:15.238153",
     "exception": false,
     "start_time": "2024-09-08T09:50:15.209673",
     "status": "completed"
    },
    "tags": []
   },
   "source": [
    "#### Menggabungkan dataframe rating dengan tourism_with_id berdasarkan nilai placeID"
   ]
  },
  {
   "cell_type": "code",
   "execution_count": 23,
   "id": "50a9aa36",
   "metadata": {
    "execution": {
     "iopub.execute_input": "2024-09-08T09:50:15.297865Z",
     "iopub.status.busy": "2024-09-08T09:50:15.297346Z",
     "iopub.status.idle": "2024-09-08T09:50:15.421027Z",
     "shell.execute_reply": "2024-09-08T09:50:15.419900Z"
    },
    "papermill": {
     "duration": 0.157238,
     "end_time": "2024-09-08T09:50:15.423837",
     "exception": false,
     "start_time": "2024-09-08T09:50:15.266599",
     "status": "completed"
    },
    "tags": []
   },
   "outputs": [
    {
     "data": {
      "text/html": [
       "<div>\n",
       "<style scoped>\n",
       "    .dataframe tbody tr th:only-of-type {\n",
       "        vertical-align: middle;\n",
       "    }\n",
       "\n",
       "    .dataframe tbody tr th {\n",
       "        vertical-align: top;\n",
       "    }\n",
       "\n",
       "    .dataframe thead th {\n",
       "        text-align: right;\n",
       "    }\n",
       "</style>\n",
       "<table border=\"1\" class=\"dataframe\">\n",
       "  <thead>\n",
       "    <tr style=\"text-align: right;\">\n",
       "      <th></th>\n",
       "      <th>User_Id</th>\n",
       "      <th>Place_Id</th>\n",
       "      <th>Place_Ratings</th>\n",
       "      <th>Place_Name</th>\n",
       "      <th>Description</th>\n",
       "      <th>City</th>\n",
       "      <th>Category</th>\n",
       "      <th>Price</th>\n",
       "      <th>city_category</th>\n",
       "    </tr>\n",
       "  </thead>\n",
       "  <tbody>\n",
       "    <tr>\n",
       "      <th>0</th>\n",
       "      <td>1</td>\n",
       "      <td>179</td>\n",
       "      <td>3</td>\n",
       "      <td>Candi Ratu Boko</td>\n",
       "      <td>Situs Ratu Baka atau Candi Boko (Hanacaraka:ꦕꦤ...</td>\n",
       "      <td>Yogyakarta</td>\n",
       "      <td>Budaya</td>\n",
       "      <td>75000</td>\n",
       "      <td>Yogyakarta Budaya</td>\n",
       "    </tr>\n",
       "    <tr>\n",
       "      <th>1</th>\n",
       "      <td>1</td>\n",
       "      <td>344</td>\n",
       "      <td>2</td>\n",
       "      <td>Pantai Marina</td>\n",
       "      <td>Pantai Marina (bahasa Jawa: ꦥꦱꦶꦱꦶꦂ​ꦩꦫꦶꦤ, trans...</td>\n",
       "      <td>Semarang</td>\n",
       "      <td>Bahari</td>\n",
       "      <td>3000</td>\n",
       "      <td>Semarang Bahari</td>\n",
       "    </tr>\n",
       "    <tr>\n",
       "      <th>2</th>\n",
       "      <td>1</td>\n",
       "      <td>5</td>\n",
       "      <td>5</td>\n",
       "      <td>Atlantis Water Adventure</td>\n",
       "      <td>Atlantis Water Adventure atau dikenal dengan A...</td>\n",
       "      <td>Jakarta</td>\n",
       "      <td>Taman Hiburan</td>\n",
       "      <td>94000</td>\n",
       "      <td>Jakarta Taman Hiburan</td>\n",
       "    </tr>\n",
       "    <tr>\n",
       "      <th>3</th>\n",
       "      <td>1</td>\n",
       "      <td>373</td>\n",
       "      <td>3</td>\n",
       "      <td>Museum Kereta Ambarawa</td>\n",
       "      <td>Museum Kereta Api Ambarawa (bahasa Inggris: In...</td>\n",
       "      <td>Semarang</td>\n",
       "      <td>Budaya</td>\n",
       "      <td>10000</td>\n",
       "      <td>Semarang Budaya</td>\n",
       "    </tr>\n",
       "    <tr>\n",
       "      <th>4</th>\n",
       "      <td>1</td>\n",
       "      <td>101</td>\n",
       "      <td>4</td>\n",
       "      <td>Kampung Wisata Sosro Menduran</td>\n",
       "      <td>Kampung wisata Sosromenduran merupakan kampung...</td>\n",
       "      <td>Yogyakarta</td>\n",
       "      <td>Budaya</td>\n",
       "      <td>0</td>\n",
       "      <td>Yogyakarta Budaya</td>\n",
       "    </tr>\n",
       "  </tbody>\n",
       "</table>\n",
       "</div>"
      ],
      "text/plain": [
       "   User_Id  Place_Id  Place_Ratings                     Place_Name  \\\n",
       "0        1       179              3                Candi Ratu Boko   \n",
       "1        1       344              2                  Pantai Marina   \n",
       "2        1         5              5       Atlantis Water Adventure   \n",
       "3        1       373              3         Museum Kereta Ambarawa   \n",
       "4        1       101              4  Kampung Wisata Sosro Menduran   \n",
       "\n",
       "                                         Description        City  \\\n",
       "0  Situs Ratu Baka atau Candi Boko (Hanacaraka:ꦕꦤ...  Yogyakarta   \n",
       "1  Pantai Marina (bahasa Jawa: ꦥꦱꦶꦱꦶꦂ​ꦩꦫꦶꦤ, trans...    Semarang   \n",
       "2  Atlantis Water Adventure atau dikenal dengan A...     Jakarta   \n",
       "3  Museum Kereta Api Ambarawa (bahasa Inggris: In...    Semarang   \n",
       "4  Kampung wisata Sosromenduran merupakan kampung...  Yogyakarta   \n",
       "\n",
       "        Category  Price          city_category  \n",
       "0         Budaya  75000      Yogyakarta Budaya  \n",
       "1         Bahari   3000        Semarang Bahari  \n",
       "2  Taman Hiburan  94000  Jakarta Taman Hiburan  \n",
       "3         Budaya  10000        Semarang Budaya  \n",
       "4         Budaya      0      Yogyakarta Budaya  "
      ]
     },
     "execution_count": 23,
     "metadata": {},
     "output_type": "execute_result"
    }
   ],
   "source": [
    "all_rate_tourism['city_category'] = all_rate_tourism[['City','Category']].agg(' '.join,axis=1)\n",
    "all_rate_tourism.head()"
   ]
  },
  {
   "cell_type": "markdown",
   "id": "8d77330c",
   "metadata": {
    "papermill": {
     "duration": 0.029227,
     "end_time": "2024-09-08T09:50:15.481627",
     "exception": false,
     "start_time": "2024-09-08T09:50:15.452400",
     "status": "completed"
    },
    "tags": []
   },
   "source": [
    "#### Buat atribut baru berupa gabungan city dan category"
   ]
  },
  {
   "cell_type": "markdown",
   "id": "9c402fe8",
   "metadata": {
    "papermill": {
     "duration": 0.028482,
     "end_time": "2024-09-08T09:50:15.539173",
     "exception": false,
     "start_time": "2024-09-08T09:50:15.510691",
     "status": "completed"
    },
    "tags": []
   },
   "source": [
    "## Data Preperation"
   ]
  },
  {
   "cell_type": "code",
   "execution_count": 24,
   "id": "0b911fae",
   "metadata": {
    "execution": {
     "iopub.execute_input": "2024-09-08T09:50:15.598934Z",
     "iopub.status.busy": "2024-09-08T09:50:15.598466Z",
     "iopub.status.idle": "2024-09-08T09:50:15.619440Z",
     "shell.execute_reply": "2024-09-08T09:50:15.618301Z"
    },
    "papermill": {
     "duration": 0.054358,
     "end_time": "2024-09-08T09:50:15.622014",
     "exception": false,
     "start_time": "2024-09-08T09:50:15.567656",
     "status": "completed"
    },
    "tags": []
   },
   "outputs": [
    {
     "data": {
      "text/html": [
       "<div>\n",
       "<style scoped>\n",
       "    .dataframe tbody tr th:only-of-type {\n",
       "        vertical-align: middle;\n",
       "    }\n",
       "\n",
       "    .dataframe tbody tr th {\n",
       "        vertical-align: top;\n",
       "    }\n",
       "\n",
       "    .dataframe thead th {\n",
       "        text-align: right;\n",
       "    }\n",
       "</style>\n",
       "<table border=\"1\" class=\"dataframe\">\n",
       "  <thead>\n",
       "    <tr style=\"text-align: right;\">\n",
       "      <th></th>\n",
       "      <th>User_Id</th>\n",
       "      <th>Place_Id</th>\n",
       "      <th>Place_Ratings</th>\n",
       "      <th>Place_Name</th>\n",
       "      <th>Description</th>\n",
       "      <th>City</th>\n",
       "      <th>Category</th>\n",
       "      <th>Price</th>\n",
       "      <th>city_category</th>\n",
       "    </tr>\n",
       "  </thead>\n",
       "  <tbody>\n",
       "    <tr>\n",
       "      <th>6236</th>\n",
       "      <td>187</td>\n",
       "      <td>1</td>\n",
       "      <td>4</td>\n",
       "      <td>Monumen Nasional</td>\n",
       "      <td>Monumen Nasional atau yang populer disingkat d...</td>\n",
       "      <td>Jakarta</td>\n",
       "      <td>Budaya</td>\n",
       "      <td>20000</td>\n",
       "      <td>Jakarta Budaya</td>\n",
       "    </tr>\n",
       "    <tr>\n",
       "      <th>5348</th>\n",
       "      <td>162</td>\n",
       "      <td>1</td>\n",
       "      <td>5</td>\n",
       "      <td>Monumen Nasional</td>\n",
       "      <td>Monumen Nasional atau yang populer disingkat d...</td>\n",
       "      <td>Jakarta</td>\n",
       "      <td>Budaya</td>\n",
       "      <td>20000</td>\n",
       "      <td>Jakarta Budaya</td>\n",
       "    </tr>\n",
       "    <tr>\n",
       "      <th>5610</th>\n",
       "      <td>169</td>\n",
       "      <td>1</td>\n",
       "      <td>5</td>\n",
       "      <td>Monumen Nasional</td>\n",
       "      <td>Monumen Nasional atau yang populer disingkat d...</td>\n",
       "      <td>Jakarta</td>\n",
       "      <td>Budaya</td>\n",
       "      <td>20000</td>\n",
       "      <td>Jakarta Budaya</td>\n",
       "    </tr>\n",
       "    <tr>\n",
       "      <th>2089</th>\n",
       "      <td>64</td>\n",
       "      <td>1</td>\n",
       "      <td>2</td>\n",
       "      <td>Monumen Nasional</td>\n",
       "      <td>Monumen Nasional atau yang populer disingkat d...</td>\n",
       "      <td>Jakarta</td>\n",
       "      <td>Budaya</td>\n",
       "      <td>20000</td>\n",
       "      <td>Jakarta Budaya</td>\n",
       "    </tr>\n",
       "    <tr>\n",
       "      <th>5231</th>\n",
       "      <td>159</td>\n",
       "      <td>1</td>\n",
       "      <td>1</td>\n",
       "      <td>Monumen Nasional</td>\n",
       "      <td>Monumen Nasional atau yang populer disingkat d...</td>\n",
       "      <td>Jakarta</td>\n",
       "      <td>Budaya</td>\n",
       "      <td>20000</td>\n",
       "      <td>Jakarta Budaya</td>\n",
       "    </tr>\n",
       "    <tr>\n",
       "      <th>...</th>\n",
       "      <td>...</td>\n",
       "      <td>...</td>\n",
       "      <td>...</td>\n",
       "      <td>...</td>\n",
       "      <td>...</td>\n",
       "      <td>...</td>\n",
       "      <td>...</td>\n",
       "      <td>...</td>\n",
       "      <td>...</td>\n",
       "    </tr>\n",
       "    <tr>\n",
       "      <th>8710</th>\n",
       "      <td>263</td>\n",
       "      <td>437</td>\n",
       "      <td>5</td>\n",
       "      <td>Gereja Perawan Maria Tak Berdosa Surabaya</td>\n",
       "      <td>Gereja Katolik Kelahiran Santa Perawan Maria m...</td>\n",
       "      <td>Surabaya</td>\n",
       "      <td>Tempat Ibadah</td>\n",
       "      <td>10000</td>\n",
       "      <td>Surabaya Tempat Ibadah</td>\n",
       "    </tr>\n",
       "    <tr>\n",
       "      <th>6209</th>\n",
       "      <td>187</td>\n",
       "      <td>437</td>\n",
       "      <td>5</td>\n",
       "      <td>Gereja Perawan Maria Tak Berdosa Surabaya</td>\n",
       "      <td>Gereja Katolik Kelahiran Santa Perawan Maria m...</td>\n",
       "      <td>Surabaya</td>\n",
       "      <td>Tempat Ibadah</td>\n",
       "      <td>10000</td>\n",
       "      <td>Surabaya Tempat Ibadah</td>\n",
       "    </tr>\n",
       "    <tr>\n",
       "      <th>7082</th>\n",
       "      <td>213</td>\n",
       "      <td>437</td>\n",
       "      <td>4</td>\n",
       "      <td>Gereja Perawan Maria Tak Berdosa Surabaya</td>\n",
       "      <td>Gereja Katolik Kelahiran Santa Perawan Maria m...</td>\n",
       "      <td>Surabaya</td>\n",
       "      <td>Tempat Ibadah</td>\n",
       "      <td>10000</td>\n",
       "      <td>Surabaya Tempat Ibadah</td>\n",
       "    </tr>\n",
       "    <tr>\n",
       "      <th>6041</th>\n",
       "      <td>182</td>\n",
       "      <td>437</td>\n",
       "      <td>1</td>\n",
       "      <td>Gereja Perawan Maria Tak Berdosa Surabaya</td>\n",
       "      <td>Gereja Katolik Kelahiran Santa Perawan Maria m...</td>\n",
       "      <td>Surabaya</td>\n",
       "      <td>Tempat Ibadah</td>\n",
       "      <td>10000</td>\n",
       "      <td>Surabaya Tempat Ibadah</td>\n",
       "    </tr>\n",
       "    <tr>\n",
       "      <th>7372</th>\n",
       "      <td>222</td>\n",
       "      <td>437</td>\n",
       "      <td>2</td>\n",
       "      <td>Gereja Perawan Maria Tak Berdosa Surabaya</td>\n",
       "      <td>Gereja Katolik Kelahiran Santa Perawan Maria m...</td>\n",
       "      <td>Surabaya</td>\n",
       "      <td>Tempat Ibadah</td>\n",
       "      <td>10000</td>\n",
       "      <td>Surabaya Tempat Ibadah</td>\n",
       "    </tr>\n",
       "  </tbody>\n",
       "</table>\n",
       "<p>10000 rows × 9 columns</p>\n",
       "</div>"
      ],
      "text/plain": [
       "      User_Id  Place_Id  Place_Ratings  \\\n",
       "6236      187         1              4   \n",
       "5348      162         1              5   \n",
       "5610      169         1              5   \n",
       "2089       64         1              2   \n",
       "5231      159         1              1   \n",
       "...       ...       ...            ...   \n",
       "8710      263       437              5   \n",
       "6209      187       437              5   \n",
       "7082      213       437              4   \n",
       "6041      182       437              1   \n",
       "7372      222       437              2   \n",
       "\n",
       "                                     Place_Name  \\\n",
       "6236                           Monumen Nasional   \n",
       "5348                           Monumen Nasional   \n",
       "5610                           Monumen Nasional   \n",
       "2089                           Monumen Nasional   \n",
       "5231                           Monumen Nasional   \n",
       "...                                         ...   \n",
       "8710  Gereja Perawan Maria Tak Berdosa Surabaya   \n",
       "6209  Gereja Perawan Maria Tak Berdosa Surabaya   \n",
       "7082  Gereja Perawan Maria Tak Berdosa Surabaya   \n",
       "6041  Gereja Perawan Maria Tak Berdosa Surabaya   \n",
       "7372  Gereja Perawan Maria Tak Berdosa Surabaya   \n",
       "\n",
       "                                            Description      City  \\\n",
       "6236  Monumen Nasional atau yang populer disingkat d...   Jakarta   \n",
       "5348  Monumen Nasional atau yang populer disingkat d...   Jakarta   \n",
       "5610  Monumen Nasional atau yang populer disingkat d...   Jakarta   \n",
       "2089  Monumen Nasional atau yang populer disingkat d...   Jakarta   \n",
       "5231  Monumen Nasional atau yang populer disingkat d...   Jakarta   \n",
       "...                                                 ...       ...   \n",
       "8710  Gereja Katolik Kelahiran Santa Perawan Maria m...  Surabaya   \n",
       "6209  Gereja Katolik Kelahiran Santa Perawan Maria m...  Surabaya   \n",
       "7082  Gereja Katolik Kelahiran Santa Perawan Maria m...  Surabaya   \n",
       "6041  Gereja Katolik Kelahiran Santa Perawan Maria m...  Surabaya   \n",
       "7372  Gereja Katolik Kelahiran Santa Perawan Maria m...  Surabaya   \n",
       "\n",
       "           Category  Price           city_category  \n",
       "6236         Budaya  20000          Jakarta Budaya  \n",
       "5348         Budaya  20000          Jakarta Budaya  \n",
       "5610         Budaya  20000          Jakarta Budaya  \n",
       "2089         Budaya  20000          Jakarta Budaya  \n",
       "5231         Budaya  20000          Jakarta Budaya  \n",
       "...             ...    ...                     ...  \n",
       "8710  Tempat Ibadah  10000  Surabaya Tempat Ibadah  \n",
       "6209  Tempat Ibadah  10000  Surabaya Tempat Ibadah  \n",
       "7082  Tempat Ibadah  10000  Surabaya Tempat Ibadah  \n",
       "6041  Tempat Ibadah  10000  Surabaya Tempat Ibadah  \n",
       "7372  Tempat Ibadah  10000  Surabaya Tempat Ibadah  \n",
       "\n",
       "[10000 rows x 9 columns]"
      ]
     },
     "execution_count": 24,
     "metadata": {},
     "output_type": "execute_result"
    }
   ],
   "source": [
    "fix_tourism = all_rate_tourism.sort_values('Place_Id', ascending=True)\n",
    "fix_tourism"
   ]
  },
  {
   "cell_type": "markdown",
   "id": "31e9aa33",
   "metadata": {
    "papermill": {
     "duration": 0.029249,
     "end_time": "2024-09-08T09:50:15.680558",
     "exception": false,
     "start_time": "2024-09-08T09:50:15.651309",
     "status": "completed"
    },
    "tags": []
   },
   "source": [
    "#### Urutkan berdasarkan Place_id secara ascending"
   ]
  },
  {
   "cell_type": "code",
   "execution_count": 25,
   "id": "441a60ff",
   "metadata": {
    "execution": {
     "iopub.execute_input": "2024-09-08T09:50:15.741386Z",
     "iopub.status.busy": "2024-09-08T09:50:15.740967Z",
     "iopub.status.idle": "2024-09-08T09:50:15.748978Z",
     "shell.execute_reply": "2024-09-08T09:50:15.747785Z"
    },
    "papermill": {
     "duration": 0.041642,
     "end_time": "2024-09-08T09:50:15.752043",
     "exception": false,
     "start_time": "2024-09-08T09:50:15.710401",
     "status": "completed"
    },
    "tags": []
   },
   "outputs": [],
   "source": [
    "def check_null(df):\n",
    "    col_na = df.isnull().sum().sort_values(ascending=True)\n",
    "    percent = col_na / len(df)\n",
    "    missing_data = pd.concat([col_na, percent], axis=1, keys=['Total', 'Percent'])\n",
    "\n",
    "    if (missing_data[missing_data['Total'] > 0].shape[0] == 0):\n",
    "        print(\"Tidak ditemukan missing value pada dataset\")\n",
    "    else:\n",
    "        print(missing_data[missing_data['Total'] > 0])\n",
    "    "
   ]
  },
  {
   "cell_type": "markdown",
   "id": "03b8716a",
   "metadata": {
    "papermill": {
     "duration": 0.029058,
     "end_time": "2024-09-08T09:50:15.811217",
     "exception": false,
     "start_time": "2024-09-08T09:50:15.782159",
     "status": "completed"
    },
    "tags": []
   },
   "source": [
    "#### Buat function untuk check null"
   ]
  },
  {
   "cell_type": "code",
   "execution_count": 26,
   "id": "1106a9bf",
   "metadata": {
    "execution": {
     "iopub.execute_input": "2024-09-08T09:50:15.872404Z",
     "iopub.status.busy": "2024-09-08T09:50:15.871958Z",
     "iopub.status.idle": "2024-09-08T09:50:15.888060Z",
     "shell.execute_reply": "2024-09-08T09:50:15.886644Z"
    },
    "papermill": {
     "duration": 0.050113,
     "end_time": "2024-09-08T09:50:15.890823",
     "exception": false,
     "start_time": "2024-09-08T09:50:15.840710",
     "status": "completed"
    },
    "tags": []
   },
   "outputs": [
    {
     "name": "stdout",
     "output_type": "stream",
     "text": [
      "Tidak ditemukan missing value pada dataset\n"
     ]
    }
   ],
   "source": [
    "check_null(all_rate_tourism)"
   ]
  },
  {
   "cell_type": "markdown",
   "id": "965bc0df",
   "metadata": {
    "papermill": {
     "duration": 0.028703,
     "end_time": "2024-09-08T09:50:15.948690",
     "exception": false,
     "start_time": "2024-09-08T09:50:15.919987",
     "status": "completed"
    },
    "tags": []
   },
   "source": [
    "#### Lakukan pengecekan null"
   ]
  },
  {
   "cell_type": "code",
   "execution_count": 27,
   "id": "aff456d5",
   "metadata": {
    "execution": {
     "iopub.execute_input": "2024-09-08T09:50:16.008576Z",
     "iopub.status.busy": "2024-09-08T09:50:16.008152Z",
     "iopub.status.idle": "2024-09-08T09:50:16.034888Z",
     "shell.execute_reply": "2024-09-08T09:50:16.033616Z"
    },
    "papermill": {
     "duration": 0.060179,
     "end_time": "2024-09-08T09:50:16.037691",
     "exception": false,
     "start_time": "2024-09-08T09:50:15.977512",
     "status": "completed"
    },
    "tags": []
   },
   "outputs": [
    {
     "data": {
      "text/plain": [
       "79"
      ]
     },
     "execution_count": 27,
     "metadata": {},
     "output_type": "execute_result"
    }
   ],
   "source": [
    "duplicates_all_columns = all_rate_tourism[all_rate_tourism.duplicated()]\n",
    "len(duplicates_all_columns)"
   ]
  },
  {
   "cell_type": "markdown",
   "id": "cf37b87f",
   "metadata": {
    "papermill": {
     "duration": 0.029261,
     "end_time": "2024-09-08T09:50:16.096501",
     "exception": false,
     "start_time": "2024-09-08T09:50:16.067240",
     "status": "completed"
    },
    "tags": []
   },
   "source": [
    "#### Cek data yang duplikat"
   ]
  },
  {
   "cell_type": "code",
   "execution_count": 28,
   "id": "43ee902e",
   "metadata": {
    "execution": {
     "iopub.execute_input": "2024-09-08T09:50:16.171500Z",
     "iopub.status.busy": "2024-09-08T09:50:16.170757Z",
     "iopub.status.idle": "2024-09-08T09:50:16.180223Z",
     "shell.execute_reply": "2024-09-08T09:50:16.178716Z"
    },
    "papermill": {
     "duration": 0.057149,
     "end_time": "2024-09-08T09:50:16.184286",
     "exception": false,
     "start_time": "2024-09-08T09:50:16.127137",
     "status": "completed"
    },
    "tags": []
   },
   "outputs": [],
   "source": [
    "all_rate_tourism = all_rate_tourism.drop_duplicates('Place_Id')"
   ]
  },
  {
   "cell_type": "markdown",
   "id": "58f5a87c",
   "metadata": {
    "papermill": {
     "duration": 0.030157,
     "end_time": "2024-09-08T09:50:16.247842",
     "exception": false,
     "start_time": "2024-09-08T09:50:16.217685",
     "status": "completed"
    },
    "tags": []
   },
   "source": [
    "#### Drop data yang duplikat berdasarkan Place_Id"
   ]
  },
  {
   "cell_type": "code",
   "execution_count": 29,
   "id": "e54e559d",
   "metadata": {
    "execution": {
     "iopub.execute_input": "2024-09-08T09:50:16.315837Z",
     "iopub.status.busy": "2024-09-08T09:50:16.315266Z",
     "iopub.status.idle": "2024-09-08T09:50:16.333186Z",
     "shell.execute_reply": "2024-09-08T09:50:16.331887Z"
    },
    "papermill": {
     "duration": 0.055608,
     "end_time": "2024-09-08T09:50:16.336316",
     "exception": false,
     "start_time": "2024-09-08T09:50:16.280708",
     "status": "completed"
    },
    "tags": []
   },
   "outputs": [
    {
     "data": {
      "text/plain": [
       "0"
      ]
     },
     "execution_count": 29,
     "metadata": {},
     "output_type": "execute_result"
    }
   ],
   "source": [
    "duplicates_all_columns = all_rate_tourism[all_rate_tourism.duplicated()]\n",
    "len(duplicates_all_columns)"
   ]
  },
  {
   "cell_type": "markdown",
   "id": "ba07c6a4",
   "metadata": {
    "papermill": {
     "duration": 0.037468,
     "end_time": "2024-09-08T09:50:16.417992",
     "exception": false,
     "start_time": "2024-09-08T09:50:16.380524",
     "status": "completed"
    },
    "tags": []
   },
   "source": [
    "#### Cek kembali duplikasi data"
   ]
  },
  {
   "cell_type": "code",
   "execution_count": 30,
   "id": "f6f7c02e",
   "metadata": {
    "execution": {
     "iopub.execute_input": "2024-09-08T09:50:16.479437Z",
     "iopub.status.busy": "2024-09-08T09:50:16.479008Z",
     "iopub.status.idle": "2024-09-08T09:50:16.499332Z",
     "shell.execute_reply": "2024-09-08T09:50:16.497577Z"
    },
    "papermill": {
     "duration": 0.054245,
     "end_time": "2024-09-08T09:50:16.502222",
     "exception": false,
     "start_time": "2024-09-08T09:50:16.447977",
     "status": "completed"
    },
    "tags": []
   },
   "outputs": [
    {
     "data": {
      "text/html": [
       "<div>\n",
       "<style scoped>\n",
       "    .dataframe tbody tr th:only-of-type {\n",
       "        vertical-align: middle;\n",
       "    }\n",
       "\n",
       "    .dataframe tbody tr th {\n",
       "        vertical-align: top;\n",
       "    }\n",
       "\n",
       "    .dataframe thead th {\n",
       "        text-align: right;\n",
       "    }\n",
       "</style>\n",
       "<table border=\"1\" class=\"dataframe\">\n",
       "  <thead>\n",
       "    <tr style=\"text-align: right;\">\n",
       "      <th></th>\n",
       "      <th>User_Id</th>\n",
       "      <th>Place_Id</th>\n",
       "      <th>Place_Ratings</th>\n",
       "      <th>Place_Name</th>\n",
       "      <th>Description</th>\n",
       "      <th>City</th>\n",
       "      <th>Category</th>\n",
       "      <th>Price</th>\n",
       "      <th>city_category</th>\n",
       "    </tr>\n",
       "  </thead>\n",
       "  <tbody>\n",
       "    <tr>\n",
       "      <th>0</th>\n",
       "      <td>1</td>\n",
       "      <td>179</td>\n",
       "      <td>3</td>\n",
       "      <td>Candi Ratu Boko</td>\n",
       "      <td>Situs Ratu Baka atau Candi Boko (Hanacaraka:ꦕꦤ...</td>\n",
       "      <td>Yogyakarta</td>\n",
       "      <td>Budaya</td>\n",
       "      <td>75000</td>\n",
       "      <td>Yogyakarta Budaya</td>\n",
       "    </tr>\n",
       "    <tr>\n",
       "      <th>1</th>\n",
       "      <td>1</td>\n",
       "      <td>344</td>\n",
       "      <td>2</td>\n",
       "      <td>Pantai Marina</td>\n",
       "      <td>Pantai Marina (bahasa Jawa: ꦥꦱꦶꦱꦶꦂ​ꦩꦫꦶꦤ, trans...</td>\n",
       "      <td>Semarang</td>\n",
       "      <td>Bahari</td>\n",
       "      <td>3000</td>\n",
       "      <td>Semarang Bahari</td>\n",
       "    </tr>\n",
       "    <tr>\n",
       "      <th>2</th>\n",
       "      <td>1</td>\n",
       "      <td>5</td>\n",
       "      <td>5</td>\n",
       "      <td>Atlantis Water Adventure</td>\n",
       "      <td>Atlantis Water Adventure atau dikenal dengan A...</td>\n",
       "      <td>Jakarta</td>\n",
       "      <td>Taman Hiburan</td>\n",
       "      <td>94000</td>\n",
       "      <td>Jakarta Taman Hiburan</td>\n",
       "    </tr>\n",
       "    <tr>\n",
       "      <th>3</th>\n",
       "      <td>1</td>\n",
       "      <td>373</td>\n",
       "      <td>3</td>\n",
       "      <td>Museum Kereta Ambarawa</td>\n",
       "      <td>Museum Kereta Api Ambarawa (bahasa Inggris: In...</td>\n",
       "      <td>Semarang</td>\n",
       "      <td>Budaya</td>\n",
       "      <td>10000</td>\n",
       "      <td>Semarang Budaya</td>\n",
       "    </tr>\n",
       "    <tr>\n",
       "      <th>4</th>\n",
       "      <td>1</td>\n",
       "      <td>101</td>\n",
       "      <td>4</td>\n",
       "      <td>Kampung Wisata Sosro Menduran</td>\n",
       "      <td>Kampung wisata Sosromenduran merupakan kampung...</td>\n",
       "      <td>Yogyakarta</td>\n",
       "      <td>Budaya</td>\n",
       "      <td>0</td>\n",
       "      <td>Yogyakarta Budaya</td>\n",
       "    </tr>\n",
       "  </tbody>\n",
       "</table>\n",
       "</div>"
      ],
      "text/plain": [
       "   User_Id  Place_Id  Place_Ratings                     Place_Name  \\\n",
       "0        1       179              3                Candi Ratu Boko   \n",
       "1        1       344              2                  Pantai Marina   \n",
       "2        1         5              5       Atlantis Water Adventure   \n",
       "3        1       373              3         Museum Kereta Ambarawa   \n",
       "4        1       101              4  Kampung Wisata Sosro Menduran   \n",
       "\n",
       "                                         Description        City  \\\n",
       "0  Situs Ratu Baka atau Candi Boko (Hanacaraka:ꦕꦤ...  Yogyakarta   \n",
       "1  Pantai Marina (bahasa Jawa: ꦥꦱꦶꦱꦶꦂ​ꦩꦫꦶꦤ, trans...    Semarang   \n",
       "2  Atlantis Water Adventure atau dikenal dengan A...     Jakarta   \n",
       "3  Museum Kereta Api Ambarawa (bahasa Inggris: In...    Semarang   \n",
       "4  Kampung wisata Sosromenduran merupakan kampung...  Yogyakarta   \n",
       "\n",
       "        Category  Price          city_category  \n",
       "0         Budaya  75000      Yogyakarta Budaya  \n",
       "1         Bahari   3000        Semarang Bahari  \n",
       "2  Taman Hiburan  94000  Jakarta Taman Hiburan  \n",
       "3         Budaya  10000        Semarang Budaya  \n",
       "4         Budaya      0      Yogyakarta Budaya  "
      ]
     },
     "execution_count": 30,
     "metadata": {},
     "output_type": "execute_result"
    }
   ],
   "source": [
    "all_rate_tourism.head()"
   ]
  },
  {
   "cell_type": "code",
   "execution_count": 31,
   "id": "79769012",
   "metadata": {
    "execution": {
     "iopub.execute_input": "2024-09-08T09:50:16.570919Z",
     "iopub.status.busy": "2024-09-08T09:50:16.570444Z",
     "iopub.status.idle": "2024-09-08T09:50:16.577712Z",
     "shell.execute_reply": "2024-09-08T09:50:16.576495Z"
    },
    "papermill": {
     "duration": 0.043631,
     "end_time": "2024-09-08T09:50:16.580336",
     "exception": false,
     "start_time": "2024-09-08T09:50:16.536705",
     "status": "completed"
    },
    "tags": []
   },
   "outputs": [],
   "source": [
    "id_place = all_rate_tourism.Place_Id.tolist()\n",
    "name = all_rate_tourism.Place_Name.tolist()\n",
    "description = all_rate_tourism.Description.tolist()\n",
    "city = all_rate_tourism.City.tolist()\n",
    "category = all_rate_tourism.Category.tolist()\n",
    "city_category = all_rate_tourism.city_category.tolist()\n",
    "price = all_rate_tourism.Price.tolist()"
   ]
  },
  {
   "cell_type": "code",
   "execution_count": 32,
   "id": "1319a04f",
   "metadata": {
    "execution": {
     "iopub.execute_input": "2024-09-08T09:50:16.642236Z",
     "iopub.status.busy": "2024-09-08T09:50:16.641775Z",
     "iopub.status.idle": "2024-09-08T09:50:16.659512Z",
     "shell.execute_reply": "2024-09-08T09:50:16.658278Z"
    },
    "papermill": {
     "duration": 0.052324,
     "end_time": "2024-09-08T09:50:16.662289",
     "exception": false,
     "start_time": "2024-09-08T09:50:16.609965",
     "status": "completed"
    },
    "tags": []
   },
   "outputs": [
    {
     "data": {
      "text/html": [
       "<div>\n",
       "<style scoped>\n",
       "    .dataframe tbody tr th:only-of-type {\n",
       "        vertical-align: middle;\n",
       "    }\n",
       "\n",
       "    .dataframe tbody tr th {\n",
       "        vertical-align: top;\n",
       "    }\n",
       "\n",
       "    .dataframe thead th {\n",
       "        text-align: right;\n",
       "    }\n",
       "</style>\n",
       "<table border=\"1\" class=\"dataframe\">\n",
       "  <thead>\n",
       "    <tr style=\"text-align: right;\">\n",
       "      <th></th>\n",
       "      <th>id</th>\n",
       "      <th>name</th>\n",
       "      <th>description</th>\n",
       "      <th>city</th>\n",
       "      <th>category</th>\n",
       "      <th>city_category</th>\n",
       "      <th>price</th>\n",
       "    </tr>\n",
       "  </thead>\n",
       "  <tbody>\n",
       "    <tr>\n",
       "      <th>0</th>\n",
       "      <td>179</td>\n",
       "      <td>Candi Ratu Boko</td>\n",
       "      <td>Situs Ratu Baka atau Candi Boko (Hanacaraka:ꦕꦤ...</td>\n",
       "      <td>Yogyakarta</td>\n",
       "      <td>Budaya</td>\n",
       "      <td>Yogyakarta Budaya</td>\n",
       "      <td>75000</td>\n",
       "    </tr>\n",
       "    <tr>\n",
       "      <th>1</th>\n",
       "      <td>344</td>\n",
       "      <td>Pantai Marina</td>\n",
       "      <td>Pantai Marina (bahasa Jawa: ꦥꦱꦶꦱꦶꦂ​ꦩꦫꦶꦤ, trans...</td>\n",
       "      <td>Semarang</td>\n",
       "      <td>Bahari</td>\n",
       "      <td>Semarang Bahari</td>\n",
       "      <td>3000</td>\n",
       "    </tr>\n",
       "    <tr>\n",
       "      <th>2</th>\n",
       "      <td>5</td>\n",
       "      <td>Atlantis Water Adventure</td>\n",
       "      <td>Atlantis Water Adventure atau dikenal dengan A...</td>\n",
       "      <td>Jakarta</td>\n",
       "      <td>Taman Hiburan</td>\n",
       "      <td>Jakarta Taman Hiburan</td>\n",
       "      <td>94000</td>\n",
       "    </tr>\n",
       "    <tr>\n",
       "      <th>3</th>\n",
       "      <td>373</td>\n",
       "      <td>Museum Kereta Ambarawa</td>\n",
       "      <td>Museum Kereta Api Ambarawa (bahasa Inggris: In...</td>\n",
       "      <td>Semarang</td>\n",
       "      <td>Budaya</td>\n",
       "      <td>Semarang Budaya</td>\n",
       "      <td>10000</td>\n",
       "    </tr>\n",
       "    <tr>\n",
       "      <th>4</th>\n",
       "      <td>101</td>\n",
       "      <td>Kampung Wisata Sosro Menduran</td>\n",
       "      <td>Kampung wisata Sosromenduran merupakan kampung...</td>\n",
       "      <td>Yogyakarta</td>\n",
       "      <td>Budaya</td>\n",
       "      <td>Yogyakarta Budaya</td>\n",
       "      <td>0</td>\n",
       "    </tr>\n",
       "  </tbody>\n",
       "</table>\n",
       "</div>"
      ],
      "text/plain": [
       "    id                           name  \\\n",
       "0  179                Candi Ratu Boko   \n",
       "1  344                  Pantai Marina   \n",
       "2    5       Atlantis Water Adventure   \n",
       "3  373         Museum Kereta Ambarawa   \n",
       "4  101  Kampung Wisata Sosro Menduran   \n",
       "\n",
       "                                         description        city  \\\n",
       "0  Situs Ratu Baka atau Candi Boko (Hanacaraka:ꦕꦤ...  Yogyakarta   \n",
       "1  Pantai Marina (bahasa Jawa: ꦥꦱꦶꦱꦶꦂ​ꦩꦫꦶꦤ, trans...    Semarang   \n",
       "2  Atlantis Water Adventure atau dikenal dengan A...     Jakarta   \n",
       "3  Museum Kereta Api Ambarawa (bahasa Inggris: In...    Semarang   \n",
       "4  Kampung wisata Sosromenduran merupakan kampung...  Yogyakarta   \n",
       "\n",
       "        category          city_category  price  \n",
       "0         Budaya      Yogyakarta Budaya  75000  \n",
       "1         Bahari        Semarang Bahari   3000  \n",
       "2  Taman Hiburan  Jakarta Taman Hiburan  94000  \n",
       "3         Budaya        Semarang Budaya  10000  \n",
       "4         Budaya      Yogyakarta Budaya      0  "
      ]
     },
     "execution_count": 32,
     "metadata": {},
     "output_type": "execute_result"
    }
   ],
   "source": [
    "fix_tourism = pd.DataFrame({\n",
    "    'id' : id_place,\n",
    "    'name' : name,\n",
    "    'description' : description,\n",
    "    'city' : city,\n",
    "    'category' : category,\n",
    "    'city_category' : city_category,\n",
    "    'price' : price,\n",
    "})\n",
    "\n",
    "fix_tourism.head()"
   ]
  },
  {
   "cell_type": "markdown",
   "id": "f8ac4dfa",
   "metadata": {
    "papermill": {
     "duration": 0.029811,
     "end_time": "2024-09-08T09:50:16.722438",
     "exception": false,
     "start_time": "2024-09-08T09:50:16.692627",
     "status": "completed"
    },
    "tags": []
   },
   "source": [
    "#### Buat dataframe baru yang memuat data-data khusus terkait destinasi wisata"
   ]
  },
  {
   "cell_type": "markdown",
   "id": "c59d91dd",
   "metadata": {
    "papermill": {
     "duration": 0.031032,
     "end_time": "2024-09-08T09:50:16.783885",
     "exception": false,
     "start_time": "2024-09-08T09:50:16.752853",
     "status": "completed"
    },
    "tags": []
   },
   "source": [
    "## Content Based Model Development"
   ]
  },
  {
   "cell_type": "code",
   "execution_count": 33,
   "id": "5941b425",
   "metadata": {
    "execution": {
     "iopub.execute_input": "2024-09-08T09:50:16.847327Z",
     "iopub.status.busy": "2024-09-08T09:50:16.846922Z",
     "iopub.status.idle": "2024-09-08T09:50:16.852539Z",
     "shell.execute_reply": "2024-09-08T09:50:16.851418Z"
    },
    "papermill": {
     "duration": 0.040599,
     "end_time": "2024-09-08T09:50:16.855032",
     "exception": false,
     "start_time": "2024-09-08T09:50:16.814433",
     "status": "completed"
    },
    "tags": []
   },
   "outputs": [],
   "source": [
    "data_content_based = fix_tourism"
   ]
  },
  {
   "cell_type": "code",
   "execution_count": 34,
   "id": "dd5f5922",
   "metadata": {
    "execution": {
     "iopub.execute_input": "2024-09-08T09:50:16.918292Z",
     "iopub.status.busy": "2024-09-08T09:50:16.917853Z",
     "iopub.status.idle": "2024-09-08T09:50:17.120620Z",
     "shell.execute_reply": "2024-09-08T09:50:17.119469Z"
    },
    "papermill": {
     "duration": 0.237745,
     "end_time": "2024-09-08T09:50:17.123286",
     "exception": false,
     "start_time": "2024-09-08T09:50:16.885541",
     "status": "completed"
    },
    "tags": []
   },
   "outputs": [
    {
     "data": {
      "text/plain": [
       "array(['alam', 'bahari', 'bandung', 'budaya', 'cagar', 'hiburan',\n",
       "       'ibadah', 'jakarta', 'perbelanjaan', 'pusat', 'semarang',\n",
       "       'surabaya', 'taman', 'tempat', 'yogyakarta'], dtype=object)"
      ]
     },
     "execution_count": 34,
     "metadata": {},
     "output_type": "execute_result"
    }
   ],
   "source": [
    "from sklearn.feature_extraction.text import TfidfVectorizer\n",
    "\n",
    "# Inisialisasi TfidfVectorizer\n",
    "tf = TfidfVectorizer()\n",
    "\n",
    "# Melakukan perhitungan idf pada data city_category\n",
    "tf.fit(data_content_based['city_category'])\n",
    "\n",
    "# Mapping array dari fitur index integer ke fitur nama\n",
    "tf.get_feature_names_out()"
   ]
  },
  {
   "cell_type": "code",
   "execution_count": 35,
   "id": "09160f99",
   "metadata": {
    "execution": {
     "iopub.execute_input": "2024-09-08T09:50:17.188841Z",
     "iopub.status.busy": "2024-09-08T09:50:17.188391Z",
     "iopub.status.idle": "2024-09-08T09:50:17.208267Z",
     "shell.execute_reply": "2024-09-08T09:50:17.206950Z"
    },
    "papermill": {
     "duration": 0.057131,
     "end_time": "2024-09-08T09:50:17.210968",
     "exception": false,
     "start_time": "2024-09-08T09:50:17.153837",
     "status": "completed"
    },
    "tags": []
   },
   "outputs": [
    {
     "data": {
      "text/plain": [
       "(437, 15)"
      ]
     },
     "execution_count": 35,
     "metadata": {},
     "output_type": "execute_result"
    }
   ],
   "source": [
    "# Melakukan fit lalu ditransformasikan ke bentuk matrix\n",
    "tfidf_matrix = tf.fit_transform(data_content_based['city_category'])\n",
    "\n",
    "# Melihat ukuran matrix tfidf\n",
    "tfidf_matrix.shape"
   ]
  },
  {
   "cell_type": "code",
   "execution_count": 36,
   "id": "c2a9d97f",
   "metadata": {
    "execution": {
     "iopub.execute_input": "2024-09-08T09:50:17.273849Z",
     "iopub.status.busy": "2024-09-08T09:50:17.273349Z",
     "iopub.status.idle": "2024-09-08T09:50:17.282474Z",
     "shell.execute_reply": "2024-09-08T09:50:17.281204Z"
    },
    "papermill": {
     "duration": 0.04358,
     "end_time": "2024-09-08T09:50:17.285034",
     "exception": false,
     "start_time": "2024-09-08T09:50:17.241454",
     "status": "completed"
    },
    "tags": []
   },
   "outputs": [
    {
     "data": {
      "text/plain": [
       "matrix([[0.        , 0.        , 0.        , ..., 0.        , 0.        ,\n",
       "         0.69559204],\n",
       "        [0.        , 0.72824058, 0.        , ..., 0.        , 0.        ,\n",
       "         0.        ],\n",
       "        [0.        , 0.        , 0.        , ..., 0.5360408 , 0.        ,\n",
       "         0.        ],\n",
       "        ...,\n",
       "        [0.        , 0.7724966 , 0.        , ..., 0.        , 0.        ,\n",
       "         0.        ],\n",
       "        [0.55900007, 0.        , 0.        , ..., 0.        , 0.        ,\n",
       "         0.        ],\n",
       "        [0.        , 0.        , 0.        , ..., 0.57127819, 0.        ,\n",
       "         0.58930677]])"
      ]
     },
     "execution_count": 36,
     "metadata": {},
     "output_type": "execute_result"
    }
   ],
   "source": [
    "#melihat tfidf matrix\n",
    "tfidf_matrix.todense()"
   ]
  },
  {
   "cell_type": "code",
   "execution_count": 37,
   "id": "d0d63f70",
   "metadata": {
    "execution": {
     "iopub.execute_input": "2024-09-08T09:50:17.348072Z",
     "iopub.status.busy": "2024-09-08T09:50:17.347557Z",
     "iopub.status.idle": "2024-09-08T09:50:17.384999Z",
     "shell.execute_reply": "2024-09-08T09:50:17.383551Z"
    },
    "papermill": {
     "duration": 0.07165,
     "end_time": "2024-09-08T09:50:17.387462",
     "exception": false,
     "start_time": "2024-09-08T09:50:17.315812",
     "status": "completed"
    },
    "tags": []
   },
   "outputs": [
    {
     "data": {
      "text/html": [
       "<div>\n",
       "<style scoped>\n",
       "    .dataframe tbody tr th:only-of-type {\n",
       "        vertical-align: middle;\n",
       "    }\n",
       "\n",
       "    .dataframe tbody tr th {\n",
       "        vertical-align: top;\n",
       "    }\n",
       "\n",
       "    .dataframe thead th {\n",
       "        text-align: right;\n",
       "    }\n",
       "</style>\n",
       "<table border=\"1\" class=\"dataframe\">\n",
       "  <thead>\n",
       "    <tr style=\"text-align: right;\">\n",
       "      <th></th>\n",
       "      <th>budaya</th>\n",
       "      <th>semarang</th>\n",
       "      <th>tempat</th>\n",
       "      <th>bandung</th>\n",
       "      <th>yogyakarta</th>\n",
       "      <th>taman</th>\n",
       "      <th>surabaya</th>\n",
       "      <th>pusat</th>\n",
       "      <th>hiburan</th>\n",
       "      <th>ibadah</th>\n",
       "      <th>bahari</th>\n",
       "      <th>perbelanjaan</th>\n",
       "      <th>jakarta</th>\n",
       "      <th>cagar</th>\n",
       "      <th>alam</th>\n",
       "    </tr>\n",
       "    <tr>\n",
       "      <th>name</th>\n",
       "      <th></th>\n",
       "      <th></th>\n",
       "      <th></th>\n",
       "      <th></th>\n",
       "      <th></th>\n",
       "      <th></th>\n",
       "      <th></th>\n",
       "      <th></th>\n",
       "      <th></th>\n",
       "      <th></th>\n",
       "      <th></th>\n",
       "      <th></th>\n",
       "      <th></th>\n",
       "      <th></th>\n",
       "      <th></th>\n",
       "    </tr>\n",
       "  </thead>\n",
       "  <tbody>\n",
       "    <tr>\n",
       "      <th>Trans Studio Bandung</th>\n",
       "      <td>0.000000</td>\n",
       "      <td>0.000000</td>\n",
       "      <td>0.0</td>\n",
       "      <td>0.592025</td>\n",
       "      <td>0.000000</td>\n",
       "      <td>0.569871</td>\n",
       "      <td>0.0</td>\n",
       "      <td>0.0</td>\n",
       "      <td>0.569871</td>\n",
       "      <td>0.0</td>\n",
       "      <td>0.0</td>\n",
       "      <td>0.0</td>\n",
       "      <td>0.000000</td>\n",
       "      <td>0.000000</td>\n",
       "      <td>0.000000</td>\n",
       "    </tr>\n",
       "    <tr>\n",
       "      <th>Museum Macan (Modern and Contemporary Art in Nusantara)</th>\n",
       "      <td>0.658813</td>\n",
       "      <td>0.000000</td>\n",
       "      <td>0.0</td>\n",
       "      <td>0.000000</td>\n",
       "      <td>0.000000</td>\n",
       "      <td>0.000000</td>\n",
       "      <td>0.0</td>\n",
       "      <td>0.0</td>\n",
       "      <td>0.000000</td>\n",
       "      <td>0.0</td>\n",
       "      <td>0.0</td>\n",
       "      <td>0.0</td>\n",
       "      <td>0.752306</td>\n",
       "      <td>0.000000</td>\n",
       "      <td>0.000000</td>\n",
       "    </tr>\n",
       "    <tr>\n",
       "      <th>Wot Batu</th>\n",
       "      <td>0.000000</td>\n",
       "      <td>0.000000</td>\n",
       "      <td>0.0</td>\n",
       "      <td>0.551699</td>\n",
       "      <td>0.000000</td>\n",
       "      <td>0.000000</td>\n",
       "      <td>0.0</td>\n",
       "      <td>0.0</td>\n",
       "      <td>0.000000</td>\n",
       "      <td>0.0</td>\n",
       "      <td>0.0</td>\n",
       "      <td>0.0</td>\n",
       "      <td>0.000000</td>\n",
       "      <td>0.589758</td>\n",
       "      <td>0.589758</td>\n",
       "    </tr>\n",
       "    <tr>\n",
       "      <th>Kota Tua</th>\n",
       "      <td>0.658813</td>\n",
       "      <td>0.000000</td>\n",
       "      <td>0.0</td>\n",
       "      <td>0.000000</td>\n",
       "      <td>0.000000</td>\n",
       "      <td>0.000000</td>\n",
       "      <td>0.0</td>\n",
       "      <td>0.0</td>\n",
       "      <td>0.000000</td>\n",
       "      <td>0.0</td>\n",
       "      <td>0.0</td>\n",
       "      <td>0.0</td>\n",
       "      <td>0.752306</td>\n",
       "      <td>0.000000</td>\n",
       "      <td>0.000000</td>\n",
       "    </tr>\n",
       "    <tr>\n",
       "      <th>Taman Bunga Cihideung</th>\n",
       "      <td>0.000000</td>\n",
       "      <td>0.000000</td>\n",
       "      <td>0.0</td>\n",
       "      <td>0.551699</td>\n",
       "      <td>0.000000</td>\n",
       "      <td>0.000000</td>\n",
       "      <td>0.0</td>\n",
       "      <td>0.0</td>\n",
       "      <td>0.000000</td>\n",
       "      <td>0.0</td>\n",
       "      <td>0.0</td>\n",
       "      <td>0.0</td>\n",
       "      <td>0.000000</td>\n",
       "      <td>0.589758</td>\n",
       "      <td>0.589758</td>\n",
       "    </tr>\n",
       "    <tr>\n",
       "      <th>Curug Dago</th>\n",
       "      <td>0.000000</td>\n",
       "      <td>0.000000</td>\n",
       "      <td>0.0</td>\n",
       "      <td>0.551699</td>\n",
       "      <td>0.000000</td>\n",
       "      <td>0.000000</td>\n",
       "      <td>0.0</td>\n",
       "      <td>0.0</td>\n",
       "      <td>0.000000</td>\n",
       "      <td>0.0</td>\n",
       "      <td>0.0</td>\n",
       "      <td>0.0</td>\n",
       "      <td>0.000000</td>\n",
       "      <td>0.589758</td>\n",
       "      <td>0.589758</td>\n",
       "    </tr>\n",
       "    <tr>\n",
       "      <th>Taman Suropati</th>\n",
       "      <td>0.000000</td>\n",
       "      <td>0.000000</td>\n",
       "      <td>0.0</td>\n",
       "      <td>0.000000</td>\n",
       "      <td>0.000000</td>\n",
       "      <td>0.536041</td>\n",
       "      <td>0.0</td>\n",
       "      <td>0.0</td>\n",
       "      <td>0.536041</td>\n",
       "      <td>0.0</td>\n",
       "      <td>0.0</td>\n",
       "      <td>0.0</td>\n",
       "      <td>0.652166</td>\n",
       "      <td>0.000000</td>\n",
       "      <td>0.000000</td>\n",
       "    </tr>\n",
       "    <tr>\n",
       "      <th>Watu Gunung Ungaran</th>\n",
       "      <td>0.000000</td>\n",
       "      <td>0.663503</td>\n",
       "      <td>0.0</td>\n",
       "      <td>0.000000</td>\n",
       "      <td>0.000000</td>\n",
       "      <td>0.000000</td>\n",
       "      <td>0.0</td>\n",
       "      <td>0.0</td>\n",
       "      <td>0.000000</td>\n",
       "      <td>0.0</td>\n",
       "      <td>0.0</td>\n",
       "      <td>0.0</td>\n",
       "      <td>0.000000</td>\n",
       "      <td>0.529039</td>\n",
       "      <td>0.529039</td>\n",
       "    </tr>\n",
       "    <tr>\n",
       "      <th>Observatorium Bosscha</th>\n",
       "      <td>0.000000</td>\n",
       "      <td>0.000000</td>\n",
       "      <td>0.0</td>\n",
       "      <td>0.551699</td>\n",
       "      <td>0.000000</td>\n",
       "      <td>0.000000</td>\n",
       "      <td>0.0</td>\n",
       "      <td>0.0</td>\n",
       "      <td>0.000000</td>\n",
       "      <td>0.0</td>\n",
       "      <td>0.0</td>\n",
       "      <td>0.0</td>\n",
       "      <td>0.000000</td>\n",
       "      <td>0.589758</td>\n",
       "      <td>0.589758</td>\n",
       "    </tr>\n",
       "    <tr>\n",
       "      <th>Monumen Sanapati</th>\n",
       "      <td>0.718437</td>\n",
       "      <td>0.000000</td>\n",
       "      <td>0.0</td>\n",
       "      <td>0.000000</td>\n",
       "      <td>0.695592</td>\n",
       "      <td>0.000000</td>\n",
       "      <td>0.0</td>\n",
       "      <td>0.0</td>\n",
       "      <td>0.000000</td>\n",
       "      <td>0.0</td>\n",
       "      <td>0.0</td>\n",
       "      <td>0.0</td>\n",
       "      <td>0.000000</td>\n",
       "      <td>0.000000</td>\n",
       "      <td>0.000000</td>\n",
       "    </tr>\n",
       "  </tbody>\n",
       "</table>\n",
       "</div>"
      ],
      "text/plain": [
       "                                                      budaya  semarang  \\\n",
       "name                                                                     \n",
       "Trans Studio Bandung                                0.000000  0.000000   \n",
       "Museum Macan (Modern and Contemporary Art in Nu...  0.658813  0.000000   \n",
       "Wot Batu                                            0.000000  0.000000   \n",
       "Kota Tua                                            0.658813  0.000000   \n",
       "Taman Bunga Cihideung                               0.000000  0.000000   \n",
       "Curug Dago                                          0.000000  0.000000   \n",
       "Taman Suropati                                      0.000000  0.000000   \n",
       "Watu Gunung Ungaran                                 0.000000  0.663503   \n",
       "Observatorium Bosscha                               0.000000  0.000000   \n",
       "Monumen Sanapati                                    0.718437  0.000000   \n",
       "\n",
       "                                                    tempat   bandung  \\\n",
       "name                                                                   \n",
       "Trans Studio Bandung                                   0.0  0.592025   \n",
       "Museum Macan (Modern and Contemporary Art in Nu...     0.0  0.000000   \n",
       "Wot Batu                                               0.0  0.551699   \n",
       "Kota Tua                                               0.0  0.000000   \n",
       "Taman Bunga Cihideung                                  0.0  0.551699   \n",
       "Curug Dago                                             0.0  0.551699   \n",
       "Taman Suropati                                         0.0  0.000000   \n",
       "Watu Gunung Ungaran                                    0.0  0.000000   \n",
       "Observatorium Bosscha                                  0.0  0.551699   \n",
       "Monumen Sanapati                                       0.0  0.000000   \n",
       "\n",
       "                                                    yogyakarta     taman  \\\n",
       "name                                                                       \n",
       "Trans Studio Bandung                                  0.000000  0.569871   \n",
       "Museum Macan (Modern and Contemporary Art in Nu...    0.000000  0.000000   \n",
       "Wot Batu                                              0.000000  0.000000   \n",
       "Kota Tua                                              0.000000  0.000000   \n",
       "Taman Bunga Cihideung                                 0.000000  0.000000   \n",
       "Curug Dago                                            0.000000  0.000000   \n",
       "Taman Suropati                                        0.000000  0.536041   \n",
       "Watu Gunung Ungaran                                   0.000000  0.000000   \n",
       "Observatorium Bosscha                                 0.000000  0.000000   \n",
       "Monumen Sanapati                                      0.695592  0.000000   \n",
       "\n",
       "                                                    surabaya  pusat   hiburan  \\\n",
       "name                                                                            \n",
       "Trans Studio Bandung                                     0.0    0.0  0.569871   \n",
       "Museum Macan (Modern and Contemporary Art in Nu...       0.0    0.0  0.000000   \n",
       "Wot Batu                                                 0.0    0.0  0.000000   \n",
       "Kota Tua                                                 0.0    0.0  0.000000   \n",
       "Taman Bunga Cihideung                                    0.0    0.0  0.000000   \n",
       "Curug Dago                                               0.0    0.0  0.000000   \n",
       "Taman Suropati                                           0.0    0.0  0.536041   \n",
       "Watu Gunung Ungaran                                      0.0    0.0  0.000000   \n",
       "Observatorium Bosscha                                    0.0    0.0  0.000000   \n",
       "Monumen Sanapati                                         0.0    0.0  0.000000   \n",
       "\n",
       "                                                    ibadah  bahari  \\\n",
       "name                                                                 \n",
       "Trans Studio Bandung                                   0.0     0.0   \n",
       "Museum Macan (Modern and Contemporary Art in Nu...     0.0     0.0   \n",
       "Wot Batu                                               0.0     0.0   \n",
       "Kota Tua                                               0.0     0.0   \n",
       "Taman Bunga Cihideung                                  0.0     0.0   \n",
       "Curug Dago                                             0.0     0.0   \n",
       "Taman Suropati                                         0.0     0.0   \n",
       "Watu Gunung Ungaran                                    0.0     0.0   \n",
       "Observatorium Bosscha                                  0.0     0.0   \n",
       "Monumen Sanapati                                       0.0     0.0   \n",
       "\n",
       "                                                    perbelanjaan   jakarta  \\\n",
       "name                                                                         \n",
       "Trans Studio Bandung                                         0.0  0.000000   \n",
       "Museum Macan (Modern and Contemporary Art in Nu...           0.0  0.752306   \n",
       "Wot Batu                                                     0.0  0.000000   \n",
       "Kota Tua                                                     0.0  0.752306   \n",
       "Taman Bunga Cihideung                                        0.0  0.000000   \n",
       "Curug Dago                                                   0.0  0.000000   \n",
       "Taman Suropati                                               0.0  0.652166   \n",
       "Watu Gunung Ungaran                                          0.0  0.000000   \n",
       "Observatorium Bosscha                                        0.0  0.000000   \n",
       "Monumen Sanapati                                             0.0  0.000000   \n",
       "\n",
       "                                                       cagar      alam  \n",
       "name                                                                    \n",
       "Trans Studio Bandung                                0.000000  0.000000  \n",
       "Museum Macan (Modern and Contemporary Art in Nu...  0.000000  0.000000  \n",
       "Wot Batu                                            0.589758  0.589758  \n",
       "Kota Tua                                            0.000000  0.000000  \n",
       "Taman Bunga Cihideung                               0.589758  0.589758  \n",
       "Curug Dago                                          0.589758  0.589758  \n",
       "Taman Suropati                                      0.000000  0.000000  \n",
       "Watu Gunung Ungaran                                 0.529039  0.529039  \n",
       "Observatorium Bosscha                               0.589758  0.589758  \n",
       "Monumen Sanapati                                    0.000000  0.000000  "
      ]
     },
     "execution_count": 37,
     "metadata": {},
     "output_type": "execute_result"
    }
   ],
   "source": [
    "# Membuat dataframe untuk melihat tf-idf matrix\n",
    "# Kolom diisi dengan city category\n",
    "# Baris diisi dengan nama destinasi wisata\n",
    "\n",
    "pd.DataFrame(\n",
    "    tfidf_matrix.todense(),\n",
    "    columns=tf.get_feature_names_out(),\n",
    "    index=data_content_based.name\n",
    ").sample(15, axis=1).sample(10, axis=0)"
   ]
  },
  {
   "cell_type": "code",
   "execution_count": 38,
   "id": "98e69eaf",
   "metadata": {
    "execution": {
     "iopub.execute_input": "2024-09-08T09:50:17.453641Z",
     "iopub.status.busy": "2024-09-08T09:50:17.453187Z",
     "iopub.status.idle": "2024-09-08T09:50:17.561145Z",
     "shell.execute_reply": "2024-09-08T09:50:17.559968Z"
    },
    "papermill": {
     "duration": 0.143844,
     "end_time": "2024-09-08T09:50:17.563832",
     "exception": false,
     "start_time": "2024-09-08T09:50:17.419988",
     "status": "completed"
    },
    "tags": []
   },
   "outputs": [
    {
     "data": {
      "text/plain": [
       "array([[1.        , 0.        , 0.        , ..., 0.        , 0.        ,\n",
       "        0.4099171 ],\n",
       "       [0.        , 1.        , 0.        , ..., 0.56256337, 0.        ,\n",
       "        0.        ],\n",
       "       [0.        , 0.        , 1.        , ..., 0.41413775, 0.39938865,\n",
       "        0.61245683],\n",
       "       ...,\n",
       "       [0.        , 0.56256337, 0.41413775, ..., 1.        , 0.38888769,\n",
       "        0.        ],\n",
       "       [0.        , 0.        , 0.39938865, ..., 0.38888769, 1.        ,\n",
       "        0.        ],\n",
       "       [0.4099171 , 0.        , 0.61245683, ..., 0.        , 0.        ,\n",
       "        1.        ]])"
      ]
     },
     "execution_count": 38,
     "metadata": {},
     "output_type": "execute_result"
    }
   ],
   "source": [
    "from sklearn.metrics.pairwise import cosine_similarity\n",
    "\n",
    "# Menghitung cosine similarity pada matrix tf-idf\n",
    "cosine_sim = cosine_similarity(tfidf_matrix)\n",
    "cosine_sim"
   ]
  },
  {
   "cell_type": "code",
   "execution_count": 39,
   "id": "dafc14a9",
   "metadata": {
    "execution": {
     "iopub.execute_input": "2024-09-08T09:50:17.628144Z",
     "iopub.status.busy": "2024-09-08T09:50:17.627659Z",
     "iopub.status.idle": "2024-09-08T09:50:17.648204Z",
     "shell.execute_reply": "2024-09-08T09:50:17.646974Z"
    },
    "papermill": {
     "duration": 0.056766,
     "end_time": "2024-09-08T09:50:17.651695",
     "exception": false,
     "start_time": "2024-09-08T09:50:17.594929",
     "status": "completed"
    },
    "tags": []
   },
   "outputs": [
    {
     "name": "stdout",
     "output_type": "stream",
     "text": [
      "Shape: (437, 437)\n"
     ]
    },
    {
     "data": {
      "text/html": [
       "<div>\n",
       "<style scoped>\n",
       "    .dataframe tbody tr th:only-of-type {\n",
       "        vertical-align: middle;\n",
       "    }\n",
       "\n",
       "    .dataframe tbody tr th {\n",
       "        vertical-align: top;\n",
       "    }\n",
       "\n",
       "    .dataframe thead th {\n",
       "        text-align: right;\n",
       "    }\n",
       "</style>\n",
       "<table border=\"1\" class=\"dataframe\">\n",
       "  <thead>\n",
       "    <tr style=\"text-align: right;\">\n",
       "      <th>name</th>\n",
       "      <th>Kyotoku Floating Market</th>\n",
       "      <th>Jakarta Aquarium dan Safari</th>\n",
       "      <th>Monumen Bambu Runcing Surabaya</th>\n",
       "      <th>Pantai Indrayanti</th>\n",
       "      <th>Museum Tengah Kebun</th>\n",
       "    </tr>\n",
       "    <tr>\n",
       "      <th>name</th>\n",
       "      <th></th>\n",
       "      <th></th>\n",
       "      <th></th>\n",
       "      <th></th>\n",
       "      <th></th>\n",
       "    </tr>\n",
       "  </thead>\n",
       "  <tbody>\n",
       "    <tr>\n",
       "      <th>Selasar Sunaryo Art Space</th>\n",
       "      <td>0.413308</td>\n",
       "      <td>0.610949</td>\n",
       "      <td>0.000000</td>\n",
       "      <td>0.000000</td>\n",
       "      <td>0.000000</td>\n",
       "    </tr>\n",
       "    <tr>\n",
       "      <th>Jembatan Merah</th>\n",
       "      <td>0.416500</td>\n",
       "      <td>0.000000</td>\n",
       "      <td>1.000000</td>\n",
       "      <td>0.000000</td>\n",
       "      <td>0.383247</td>\n",
       "    </tr>\n",
       "    <tr>\n",
       "      <th>Alun Alun Selatan Yogyakarta</th>\n",
       "      <td>0.000000</td>\n",
       "      <td>0.612457</td>\n",
       "      <td>0.000000</td>\n",
       "      <td>0.336966</td>\n",
       "      <td>0.000000</td>\n",
       "    </tr>\n",
       "    <tr>\n",
       "      <th>Pantai Indrayanti</th>\n",
       "      <td>0.000000</td>\n",
       "      <td>0.000000</td>\n",
       "      <td>0.000000</td>\n",
       "      <td>1.000000</td>\n",
       "      <td>0.000000</td>\n",
       "    </tr>\n",
       "    <tr>\n",
       "      <th>Tebing Breksi</th>\n",
       "      <td>0.514383</td>\n",
       "      <td>0.000000</td>\n",
       "      <td>0.417932</td>\n",
       "      <td>0.397740</td>\n",
       "      <td>0.473316</td>\n",
       "    </tr>\n",
       "    <tr>\n",
       "      <th>SnowBay Waterpark</th>\n",
       "      <td>0.000000</td>\n",
       "      <td>1.000000</td>\n",
       "      <td>0.000000</td>\n",
       "      <td>0.000000</td>\n",
       "      <td>0.490629</td>\n",
       "    </tr>\n",
       "    <tr>\n",
       "      <th>Curug Bugbrug</th>\n",
       "      <td>0.385155</td>\n",
       "      <td>0.000000</td>\n",
       "      <td>0.000000</td>\n",
       "      <td>0.000000</td>\n",
       "      <td>0.000000</td>\n",
       "    </tr>\n",
       "    <tr>\n",
       "      <th>Istana Negara Republik Indonesia</th>\n",
       "      <td>0.471694</td>\n",
       "      <td>0.490629</td>\n",
       "      <td>0.383247</td>\n",
       "      <td>0.000000</td>\n",
       "      <td>1.000000</td>\n",
       "    </tr>\n",
       "    <tr>\n",
       "      <th>Masjid Muhammad Cheng Hoo</th>\n",
       "      <td>0.000000</td>\n",
       "      <td>0.000000</td>\n",
       "      <td>0.389355</td>\n",
       "      <td>0.000000</td>\n",
       "      <td>0.000000</td>\n",
       "    </tr>\n",
       "    <tr>\n",
       "      <th>Taman Lansia</th>\n",
       "      <td>0.413308</td>\n",
       "      <td>0.610949</td>\n",
       "      <td>0.000000</td>\n",
       "      <td>0.000000</td>\n",
       "      <td>0.000000</td>\n",
       "    </tr>\n",
       "  </tbody>\n",
       "</table>\n",
       "</div>"
      ],
      "text/plain": [
       "name                              Kyotoku Floating Market  \\\n",
       "name                                                        \n",
       "Selasar Sunaryo Art Space                        0.413308   \n",
       "Jembatan Merah                                   0.416500   \n",
       "Alun Alun Selatan Yogyakarta                     0.000000   \n",
       "Pantai Indrayanti                                0.000000   \n",
       "Tebing Breksi                                    0.514383   \n",
       "SnowBay Waterpark                                0.000000   \n",
       "Curug Bugbrug                                    0.385155   \n",
       "Istana Negara Republik Indonesia                 0.471694   \n",
       "Masjid Muhammad Cheng Hoo                        0.000000   \n",
       "Taman Lansia                                     0.413308   \n",
       "\n",
       "name                              Jakarta Aquarium dan Safari  \\\n",
       "name                                                            \n",
       "Selasar Sunaryo Art Space                            0.610949   \n",
       "Jembatan Merah                                       0.000000   \n",
       "Alun Alun Selatan Yogyakarta                         0.612457   \n",
       "Pantai Indrayanti                                    0.000000   \n",
       "Tebing Breksi                                        0.000000   \n",
       "SnowBay Waterpark                                    1.000000   \n",
       "Curug Bugbrug                                        0.000000   \n",
       "Istana Negara Republik Indonesia                     0.490629   \n",
       "Masjid Muhammad Cheng Hoo                            0.000000   \n",
       "Taman Lansia                                         0.610949   \n",
       "\n",
       "name                              Monumen Bambu Runcing Surabaya  \\\n",
       "name                                                               \n",
       "Selasar Sunaryo Art Space                               0.000000   \n",
       "Jembatan Merah                                          1.000000   \n",
       "Alun Alun Selatan Yogyakarta                            0.000000   \n",
       "Pantai Indrayanti                                       0.000000   \n",
       "Tebing Breksi                                           0.417932   \n",
       "SnowBay Waterpark                                       0.000000   \n",
       "Curug Bugbrug                                           0.000000   \n",
       "Istana Negara Republik Indonesia                        0.383247   \n",
       "Masjid Muhammad Cheng Hoo                               0.389355   \n",
       "Taman Lansia                                            0.000000   \n",
       "\n",
       "name                              Pantai Indrayanti  Museum Tengah Kebun  \n",
       "name                                                                      \n",
       "Selasar Sunaryo Art Space                  0.000000             0.000000  \n",
       "Jembatan Merah                             0.000000             0.383247  \n",
       "Alun Alun Selatan Yogyakarta               0.336966             0.000000  \n",
       "Pantai Indrayanti                          1.000000             0.000000  \n",
       "Tebing Breksi                              0.397740             0.473316  \n",
       "SnowBay Waterpark                          0.000000             0.490629  \n",
       "Curug Bugbrug                              0.000000             0.000000  \n",
       "Istana Negara Republik Indonesia           0.000000             1.000000  \n",
       "Masjid Muhammad Cheng Hoo                  0.000000             0.000000  \n",
       "Taman Lansia                               0.000000             0.000000  "
      ]
     },
     "execution_count": 39,
     "metadata": {},
     "output_type": "execute_result"
    }
   ],
   "source": [
    "# Membuat dataframe dari variabel cosine_sim dengan baris dan kolom berupa nama destinasi wisata\n",
    "cosine_sim_df = pd.DataFrame(cosine_sim, index=data_content_based['name'], columns=data_content_based['name'])\n",
    "print('Shape:', cosine_sim_df.shape)\n",
    "\n",
    "# Melihat similarity matrix pada setiap tourism\n",
    "cosine_sim_df.sample(5, axis=1).sample(10, axis=0)"
   ]
  },
  {
   "cell_type": "code",
   "execution_count": 40,
   "id": "2fd95cec",
   "metadata": {
    "execution": {
     "iopub.execute_input": "2024-09-08T09:50:17.717615Z",
     "iopub.status.busy": "2024-09-08T09:50:17.717207Z",
     "iopub.status.idle": "2024-09-08T09:50:17.728214Z",
     "shell.execute_reply": "2024-09-08T09:50:17.727067Z"
    },
    "papermill": {
     "duration": 0.046583,
     "end_time": "2024-09-08T09:50:17.730679",
     "exception": false,
     "start_time": "2024-09-08T09:50:17.684096",
     "status": "completed"
    },
    "tags": []
   },
   "outputs": [],
   "source": [
    "def tourism_recommendations(nama_wisata, similarity_data=cosine_sim_df, items=data_content_based[['name','description','city_category', 'price']], k=5):\n",
    "    \"\"\"\n",
    "    Rekomendasi tourism berdasarkan kemiripan dataframe\n",
    "\n",
    "    Parameter:\n",
    "    ---\n",
    "    nama_wisata : tipe data string (str)\n",
    "                 nama_wisata (index kemiripan dataframe)\n",
    "    similarity_data : tipe data pd.DataFrame (object)\n",
    "                      Kesamaan dataframe, simetrik, dengan wisata sebagai\n",
    "                      indeks dan kolom\n",
    "    items : tipe data pd.DataFrame (object)\n",
    "            Mengandung kedua nama dan fitur lainnya yang digunakan untuk mendefinisikan kemiripan\n",
    "    k : tipe data integer (int)\n",
    "        Banyaknya jumlah rekomendasi yang diberikan\n",
    "    ---\n",
    "\n",
    "\n",
    "    Pada index ini, kita mengambil k dengan nilai similarity terbesar\n",
    "    pada index matrix yang diberikan (i).\n",
    "    \"\"\"\n",
    "\n",
    "\n",
    "    # Mengambil data dengan menggunakan argpartition untuk melakukan partisi secara tidak langsung sepanjang sumbu yang diberikan\n",
    "    # Dataframe diubah menjadi numpy\n",
    "    # Range(start, stop, step)\n",
    "    index = similarity_data.loc[:,nama_wisata].to_numpy().argpartition(\n",
    "        range(-1, -k, -1))\n",
    "\n",
    "    # Mengambil data dengan similarity terbesar dari index yang ada\n",
    "    closest = similarity_data.columns[index[-1:-(k+2):-1]]\n",
    "\n",
    "    # Drop nama_wisata agar nama_wisata yang dicari tidak muncul dalam daftar rekomendasi\n",
    "    closest = closest.drop(nama_wisata, errors='ignore')\n",
    "\n",
    "    return pd.DataFrame(closest).merge(items).head(k)"
   ]
  },
  {
   "cell_type": "markdown",
   "id": "36166889",
   "metadata": {
    "papermill": {
     "duration": 0.031791,
     "end_time": "2024-09-08T09:50:17.794663",
     "exception": false,
     "start_time": "2024-09-08T09:50:17.762872",
     "status": "completed"
    },
    "tags": []
   },
   "source": [
    "#### Membuat function tourism_recommendation"
   ]
  },
  {
   "cell_type": "code",
   "execution_count": 41,
   "id": "49250e45",
   "metadata": {
    "execution": {
     "iopub.execute_input": "2024-09-08T09:50:17.860258Z",
     "iopub.status.busy": "2024-09-08T09:50:17.859842Z",
     "iopub.status.idle": "2024-09-08T09:50:17.875924Z",
     "shell.execute_reply": "2024-09-08T09:50:17.874681Z"
    },
    "papermill": {
     "duration": 0.051992,
     "end_time": "2024-09-08T09:50:17.878416",
     "exception": false,
     "start_time": "2024-09-08T09:50:17.826424",
     "status": "completed"
    },
    "tags": []
   },
   "outputs": [
    {
     "data": {
      "text/html": [
       "<div>\n",
       "<style scoped>\n",
       "    .dataframe tbody tr th:only-of-type {\n",
       "        vertical-align: middle;\n",
       "    }\n",
       "\n",
       "    .dataframe tbody tr th {\n",
       "        vertical-align: top;\n",
       "    }\n",
       "\n",
       "    .dataframe thead th {\n",
       "        text-align: right;\n",
       "    }\n",
       "</style>\n",
       "<table border=\"1\" class=\"dataframe\">\n",
       "  <thead>\n",
       "    <tr style=\"text-align: right;\">\n",
       "      <th></th>\n",
       "      <th>id</th>\n",
       "      <th>name</th>\n",
       "      <th>description</th>\n",
       "      <th>city</th>\n",
       "      <th>category</th>\n",
       "      <th>city_category</th>\n",
       "      <th>price</th>\n",
       "    </tr>\n",
       "  </thead>\n",
       "  <tbody>\n",
       "    <tr>\n",
       "      <th>334</th>\n",
       "      <td>62</td>\n",
       "      <td>Taman Legenda Keong Emas</td>\n",
       "      <td>Taman Legenda Keong Emas merupakan salah satu ...</td>\n",
       "      <td>Jakarta</td>\n",
       "      <td>Taman Hiburan</td>\n",
       "      <td>Jakarta Taman Hiburan</td>\n",
       "      <td>30000</td>\n",
       "    </tr>\n",
       "  </tbody>\n",
       "</table>\n",
       "</div>"
      ],
      "text/plain": [
       "     id                      name  \\\n",
       "334  62  Taman Legenda Keong Emas   \n",
       "\n",
       "                                           description     city  \\\n",
       "334  Taman Legenda Keong Emas merupakan salah satu ...  Jakarta   \n",
       "\n",
       "          category          city_category  price  \n",
       "334  Taman Hiburan  Jakarta Taman Hiburan  30000  "
      ]
     },
     "execution_count": 41,
     "metadata": {},
     "output_type": "execute_result"
    }
   ],
   "source": [
    "data_content_based[data_content_based.name.eq('Taman Legenda Keong Emas')]"
   ]
  },
  {
   "cell_type": "code",
   "execution_count": 42,
   "id": "2e0b8f59",
   "metadata": {
    "execution": {
     "iopub.execute_input": "2024-09-08T09:50:17.945954Z",
     "iopub.status.busy": "2024-09-08T09:50:17.944789Z",
     "iopub.status.idle": "2024-09-08T09:50:17.962916Z",
     "shell.execute_reply": "2024-09-08T09:50:17.961785Z"
    },
    "papermill": {
     "duration": 0.054623,
     "end_time": "2024-09-08T09:50:17.965651",
     "exception": false,
     "start_time": "2024-09-08T09:50:17.911028",
     "status": "completed"
    },
    "tags": []
   },
   "outputs": [
    {
     "data": {
      "text/html": [
       "<div>\n",
       "<style scoped>\n",
       "    .dataframe tbody tr th:only-of-type {\n",
       "        vertical-align: middle;\n",
       "    }\n",
       "\n",
       "    .dataframe tbody tr th {\n",
       "        vertical-align: top;\n",
       "    }\n",
       "\n",
       "    .dataframe thead th {\n",
       "        text-align: right;\n",
       "    }\n",
       "</style>\n",
       "<table border=\"1\" class=\"dataframe\">\n",
       "  <thead>\n",
       "    <tr style=\"text-align: right;\">\n",
       "      <th></th>\n",
       "      <th>name</th>\n",
       "      <th>description</th>\n",
       "      <th>city_category</th>\n",
       "      <th>price</th>\n",
       "    </tr>\n",
       "  </thead>\n",
       "  <tbody>\n",
       "    <tr>\n",
       "      <th>0</th>\n",
       "      <td>Taman Impian Jaya Ancol</td>\n",
       "      <td>Taman Impian Jaya Ancol merupakan sebuah objek...</td>\n",
       "      <td>Jakarta Taman Hiburan</td>\n",
       "      <td>25000</td>\n",
       "    </tr>\n",
       "    <tr>\n",
       "      <th>1</th>\n",
       "      <td>Taman Spathodea</td>\n",
       "      <td>Objek Wisata Taman Spathodea di Jagakarsa DKI ...</td>\n",
       "      <td>Jakarta Taman Hiburan</td>\n",
       "      <td>0</td>\n",
       "    </tr>\n",
       "    <tr>\n",
       "      <th>2</th>\n",
       "      <td>Jakarta Aquarium dan Safari</td>\n",
       "      <td>Jika telah mengunjungi Seaworld Ancol, mungkin...</td>\n",
       "      <td>Jakarta Taman Hiburan</td>\n",
       "      <td>185000</td>\n",
       "    </tr>\n",
       "    <tr>\n",
       "      <th>3</th>\n",
       "      <td>Kidzania</td>\n",
       "      <td>KidZania adalah sebuah waralaba swasta Meksiko...</td>\n",
       "      <td>Jakarta Taman Hiburan</td>\n",
       "      <td>185000</td>\n",
       "    </tr>\n",
       "    <tr>\n",
       "      <th>4</th>\n",
       "      <td>Sea World</td>\n",
       "      <td>Seaworld Indonesia adalah sebuah miniatur peso...</td>\n",
       "      <td>Jakarta Taman Hiburan</td>\n",
       "      <td>115000</td>\n",
       "    </tr>\n",
       "  </tbody>\n",
       "</table>\n",
       "</div>"
      ],
      "text/plain": [
       "                          name  \\\n",
       "0      Taman Impian Jaya Ancol   \n",
       "1              Taman Spathodea   \n",
       "2  Jakarta Aquarium dan Safari   \n",
       "3                     Kidzania   \n",
       "4                    Sea World   \n",
       "\n",
       "                                         description          city_category  \\\n",
       "0  Taman Impian Jaya Ancol merupakan sebuah objek...  Jakarta Taman Hiburan   \n",
       "1  Objek Wisata Taman Spathodea di Jagakarsa DKI ...  Jakarta Taman Hiburan   \n",
       "2  Jika telah mengunjungi Seaworld Ancol, mungkin...  Jakarta Taman Hiburan   \n",
       "3  KidZania adalah sebuah waralaba swasta Meksiko...  Jakarta Taman Hiburan   \n",
       "4  Seaworld Indonesia adalah sebuah miniatur peso...  Jakarta Taman Hiburan   \n",
       "\n",
       "    price  \n",
       "0   25000  \n",
       "1       0  \n",
       "2  185000  \n",
       "3  185000  \n",
       "4  115000  "
      ]
     },
     "execution_count": 42,
     "metadata": {},
     "output_type": "execute_result"
    }
   ],
   "source": [
    "tourism_recommendations('Taman Legenda Keong Emas')"
   ]
  },
  {
   "cell_type": "markdown",
   "id": "d925caaa",
   "metadata": {
    "papermill": {
     "duration": 0.031889,
     "end_time": "2024-09-08T09:50:18.029904",
     "exception": false,
     "start_time": "2024-09-08T09:50:17.998015",
     "status": "completed"
    },
    "tags": []
   },
   "source": [
    "#### Melakukan rekomendasi dengan function tourism_recommendation"
   ]
  },
  {
   "cell_type": "markdown",
   "id": "f075f2f0",
   "metadata": {
    "papermill": {
     "duration": 0.03206,
     "end_time": "2024-09-08T09:50:18.095293",
     "exception": false,
     "start_time": "2024-09-08T09:50:18.063233",
     "status": "completed"
    },
    "tags": []
   },
   "source": [
    "#### Bisa dilihat rekomendasi wisat yang paling similiar dengan Taman Legenda keong emas adalah daftar diatas dan dari ke 5 hasil rekomendasi sesuai dengan city_category Taman Legenda Keong Emas sehingga accuracy 100 %"
   ]
  },
  {
   "cell_type": "markdown",
   "id": "21fec8b8",
   "metadata": {
    "papermill": {
     "duration": 0.031618,
     "end_time": "2024-09-08T09:50:18.159142",
     "exception": false,
     "start_time": "2024-09-08T09:50:18.127524",
     "status": "completed"
    },
    "tags": []
   },
   "source": [
    "# Indonesia Tourism Recommendation [Collaborative Filtering]"
   ]
  },
  {
   "cell_type": "code",
   "execution_count": 43,
   "id": "7150b747",
   "metadata": {
    "execution": {
     "iopub.execute_input": "2024-09-08T09:50:18.227059Z",
     "iopub.status.busy": "2024-09-08T09:50:18.226613Z",
     "iopub.status.idle": "2024-09-08T09:50:18.238056Z",
     "shell.execute_reply": "2024-09-08T09:50:18.236800Z"
    },
    "papermill": {
     "duration": 0.04757,
     "end_time": "2024-09-08T09:50:18.240844",
     "exception": false,
     "start_time": "2024-09-08T09:50:18.193274",
     "status": "completed"
    },
    "tags": []
   },
   "outputs": [
    {
     "data": {
      "text/html": [
       "<div>\n",
       "<style scoped>\n",
       "    .dataframe tbody tr th:only-of-type {\n",
       "        vertical-align: middle;\n",
       "    }\n",
       "\n",
       "    .dataframe tbody tr th {\n",
       "        vertical-align: top;\n",
       "    }\n",
       "\n",
       "    .dataframe thead th {\n",
       "        text-align: right;\n",
       "    }\n",
       "</style>\n",
       "<table border=\"1\" class=\"dataframe\">\n",
       "  <thead>\n",
       "    <tr style=\"text-align: right;\">\n",
       "      <th></th>\n",
       "      <th>User_Id</th>\n",
       "      <th>Place_Id</th>\n",
       "      <th>Place_Ratings</th>\n",
       "    </tr>\n",
       "  </thead>\n",
       "  <tbody>\n",
       "    <tr>\n",
       "      <th>0</th>\n",
       "      <td>1</td>\n",
       "      <td>179</td>\n",
       "      <td>3</td>\n",
       "    </tr>\n",
       "    <tr>\n",
       "      <th>1</th>\n",
       "      <td>1</td>\n",
       "      <td>344</td>\n",
       "      <td>2</td>\n",
       "    </tr>\n",
       "    <tr>\n",
       "      <th>2</th>\n",
       "      <td>1</td>\n",
       "      <td>5</td>\n",
       "      <td>5</td>\n",
       "    </tr>\n",
       "    <tr>\n",
       "      <th>3</th>\n",
       "      <td>1</td>\n",
       "      <td>373</td>\n",
       "      <td>3</td>\n",
       "    </tr>\n",
       "    <tr>\n",
       "      <th>4</th>\n",
       "      <td>1</td>\n",
       "      <td>101</td>\n",
       "      <td>4</td>\n",
       "    </tr>\n",
       "  </tbody>\n",
       "</table>\n",
       "</div>"
      ],
      "text/plain": [
       "   User_Id  Place_Id  Place_Ratings\n",
       "0        1       179              3\n",
       "1        1       344              2\n",
       "2        1         5              5\n",
       "3        1       373              3\n",
       "4        1       101              4"
      ]
     },
     "execution_count": 43,
     "metadata": {},
     "output_type": "execute_result"
    }
   ],
   "source": [
    "data_collaborative = tourism_rating_df\n",
    "data_collaborative.head()"
   ]
  },
  {
   "cell_type": "markdown",
   "id": "29083055",
   "metadata": {
    "papermill": {
     "duration": 0.032146,
     "end_time": "2024-09-08T09:50:18.306993",
     "exception": false,
     "start_time": "2024-09-08T09:50:18.274847",
     "status": "completed"
    },
    "tags": []
   },
   "source": [
    "## Data Preparation"
   ]
  },
  {
   "cell_type": "code",
   "execution_count": 44,
   "id": "fd302817",
   "metadata": {
    "execution": {
     "iopub.execute_input": "2024-09-08T09:50:18.374196Z",
     "iopub.status.busy": "2024-09-08T09:50:18.373769Z",
     "iopub.status.idle": "2024-09-08T09:50:18.383273Z",
     "shell.execute_reply": "2024-09-08T09:50:18.382132Z"
    },
    "papermill": {
     "duration": 0.04671,
     "end_time": "2024-09-08T09:50:18.386115",
     "exception": false,
     "start_time": "2024-09-08T09:50:18.339405",
     "status": "completed"
    },
    "tags": []
   },
   "outputs": [
    {
     "name": "stdout",
     "output_type": "stream",
     "text": [
      "list User_Id:  [1, 2, 3, 4, 5, 6, 7, 8, 9, 10, 11, 12, 13, 14, 15, 16, 17, 18, 19, 20, 21, 22, 23, 24, 25, 26, 27, 28, 29, 30, 31, 32, 33, 34, 35, 36, 37, 38, 39, 40, 41, 42, 43, 44, 45, 46, 47, 48, 49, 50, 51, 52, 53, 54, 55, 56, 57, 58, 59, 60, 61, 62, 63, 64, 65, 66, 67, 68, 69, 70, 71, 72, 73, 74, 75, 76, 77, 78, 79, 80, 81, 82, 83, 84, 85, 86, 87, 88, 89, 90, 91, 92, 93, 94, 95, 96, 97, 98, 99, 100, 101, 102, 103, 104, 105, 106, 107, 108, 109, 110, 111, 112, 113, 114, 115, 116, 117, 118, 119, 120, 121, 122, 123, 124, 125, 126, 127, 128, 129, 130, 131, 132, 133, 134, 135, 136, 137, 138, 139, 140, 141, 142, 143, 144, 145, 146, 147, 148, 149, 150, 151, 152, 153, 154, 155, 156, 157, 158, 159, 160, 161, 162, 163, 164, 165, 166, 167, 168, 169, 170, 171, 172, 173, 174, 175, 176, 177, 178, 179, 180, 181, 182, 183, 184, 185, 186, 187, 188, 189, 190, 191, 192, 193, 194, 195, 196, 197, 198, 199, 200, 201, 202, 203, 204, 205, 206, 207, 208, 209, 210, 211, 212, 213, 214, 215, 216, 217, 218, 219, 220, 221, 222, 223, 224, 225, 226, 227, 228, 229, 230, 231, 232, 233, 234, 235, 236, 237, 238, 239, 240, 241, 242, 243, 244, 245, 246, 247, 248, 249, 250, 251, 252, 253, 254, 255, 256, 257, 258, 259, 260, 261, 262, 263, 264, 265, 266, 267, 268, 269, 270, 271, 272, 273, 274, 275, 276, 277, 278, 279, 280, 281, 282, 283, 284, 285, 286, 287, 288, 289, 290, 291, 292, 293, 294, 295, 296, 297, 298, 299, 300]\n",
      "\n",
      "encoded user_id :  {1: 0, 2: 1, 3: 2, 4: 3, 5: 4, 6: 5, 7: 6, 8: 7, 9: 8, 10: 9, 11: 10, 12: 11, 13: 12, 14: 13, 15: 14, 16: 15, 17: 16, 18: 17, 19: 18, 20: 19, 21: 20, 22: 21, 23: 22, 24: 23, 25: 24, 26: 25, 27: 26, 28: 27, 29: 28, 30: 29, 31: 30, 32: 31, 33: 32, 34: 33, 35: 34, 36: 35, 37: 36, 38: 37, 39: 38, 40: 39, 41: 40, 42: 41, 43: 42, 44: 43, 45: 44, 46: 45, 47: 46, 48: 47, 49: 48, 50: 49, 51: 50, 52: 51, 53: 52, 54: 53, 55: 54, 56: 55, 57: 56, 58: 57, 59: 58, 60: 59, 61: 60, 62: 61, 63: 62, 64: 63, 65: 64, 66: 65, 67: 66, 68: 67, 69: 68, 70: 69, 71: 70, 72: 71, 73: 72, 74: 73, 75: 74, 76: 75, 77: 76, 78: 77, 79: 78, 80: 79, 81: 80, 82: 81, 83: 82, 84: 83, 85: 84, 86: 85, 87: 86, 88: 87, 89: 88, 90: 89, 91: 90, 92: 91, 93: 92, 94: 93, 95: 94, 96: 95, 97: 96, 98: 97, 99: 98, 100: 99, 101: 100, 102: 101, 103: 102, 104: 103, 105: 104, 106: 105, 107: 106, 108: 107, 109: 108, 110: 109, 111: 110, 112: 111, 113: 112, 114: 113, 115: 114, 116: 115, 117: 116, 118: 117, 119: 118, 120: 119, 121: 120, 122: 121, 123: 122, 124: 123, 125: 124, 126: 125, 127: 126, 128: 127, 129: 128, 130: 129, 131: 130, 132: 131, 133: 132, 134: 133, 135: 134, 136: 135, 137: 136, 138: 137, 139: 138, 140: 139, 141: 140, 142: 141, 143: 142, 144: 143, 145: 144, 146: 145, 147: 146, 148: 147, 149: 148, 150: 149, 151: 150, 152: 151, 153: 152, 154: 153, 155: 154, 156: 155, 157: 156, 158: 157, 159: 158, 160: 159, 161: 160, 162: 161, 163: 162, 164: 163, 165: 164, 166: 165, 167: 166, 168: 167, 169: 168, 170: 169, 171: 170, 172: 171, 173: 172, 174: 173, 175: 174, 176: 175, 177: 176, 178: 177, 179: 178, 180: 179, 181: 180, 182: 181, 183: 182, 184: 183, 185: 184, 186: 185, 187: 186, 188: 187, 189: 188, 190: 189, 191: 190, 192: 191, 193: 192, 194: 193, 195: 194, 196: 195, 197: 196, 198: 197, 199: 198, 200: 199, 201: 200, 202: 201, 203: 202, 204: 203, 205: 204, 206: 205, 207: 206, 208: 207, 209: 208, 210: 209, 211: 210, 212: 211, 213: 212, 214: 213, 215: 214, 216: 215, 217: 216, 218: 217, 219: 218, 220: 219, 221: 220, 222: 221, 223: 222, 224: 223, 225: 224, 226: 225, 227: 226, 228: 227, 229: 228, 230: 229, 231: 230, 232: 231, 233: 232, 234: 233, 235: 234, 236: 235, 237: 236, 238: 237, 239: 238, 240: 239, 241: 240, 242: 241, 243: 242, 244: 243, 245: 244, 246: 245, 247: 246, 248: 247, 249: 248, 250: 249, 251: 250, 252: 251, 253: 252, 254: 253, 255: 254, 256: 255, 257: 256, 258: 257, 259: 258, 260: 259, 261: 260, 262: 261, 263: 262, 264: 263, 265: 264, 266: 265, 267: 266, 268: 267, 269: 268, 270: 269, 271: 270, 272: 271, 273: 272, 274: 273, 275: 274, 276: 275, 277: 276, 278: 277, 279: 278, 280: 279, 281: 280, 282: 281, 283: 282, 284: 283, 285: 284, 286: 285, 287: 286, 288: 287, 289: 288, 290: 289, 291: 290, 292: 291, 293: 292, 294: 293, 295: 294, 296: 295, 297: 296, 298: 297, 299: 298, 300: 299}\n",
      "\n",
      "encoded angka ke user_id:  {0: 1, 1: 2, 2: 3, 3: 4, 4: 5, 5: 6, 6: 7, 7: 8, 8: 9, 9: 10, 10: 11, 11: 12, 12: 13, 13: 14, 14: 15, 15: 16, 16: 17, 17: 18, 18: 19, 19: 20, 20: 21, 21: 22, 22: 23, 23: 24, 24: 25, 25: 26, 26: 27, 27: 28, 28: 29, 29: 30, 30: 31, 31: 32, 32: 33, 33: 34, 34: 35, 35: 36, 36: 37, 37: 38, 38: 39, 39: 40, 40: 41, 41: 42, 42: 43, 43: 44, 44: 45, 45: 46, 46: 47, 47: 48, 48: 49, 49: 50, 50: 51, 51: 52, 52: 53, 53: 54, 54: 55, 55: 56, 56: 57, 57: 58, 58: 59, 59: 60, 60: 61, 61: 62, 62: 63, 63: 64, 64: 65, 65: 66, 66: 67, 67: 68, 68: 69, 69: 70, 70: 71, 71: 72, 72: 73, 73: 74, 74: 75, 75: 76, 76: 77, 77: 78, 78: 79, 79: 80, 80: 81, 81: 82, 82: 83, 83: 84, 84: 85, 85: 86, 86: 87, 87: 88, 88: 89, 89: 90, 90: 91, 91: 92, 92: 93, 93: 94, 94: 95, 95: 96, 96: 97, 97: 98, 98: 99, 99: 100, 100: 101, 101: 102, 102: 103, 103: 104, 104: 105, 105: 106, 106: 107, 107: 108, 108: 109, 109: 110, 110: 111, 111: 112, 112: 113, 113: 114, 114: 115, 115: 116, 116: 117, 117: 118, 118: 119, 119: 120, 120: 121, 121: 122, 122: 123, 123: 124, 124: 125, 125: 126, 126: 127, 127: 128, 128: 129, 129: 130, 130: 131, 131: 132, 132: 133, 133: 134, 134: 135, 135: 136, 136: 137, 137: 138, 138: 139, 139: 140, 140: 141, 141: 142, 142: 143, 143: 144, 144: 145, 145: 146, 146: 147, 147: 148, 148: 149, 149: 150, 150: 151, 151: 152, 152: 153, 153: 154, 154: 155, 155: 156, 156: 157, 157: 158, 158: 159, 159: 160, 160: 161, 161: 162, 162: 163, 163: 164, 164: 165, 165: 166, 166: 167, 167: 168, 168: 169, 169: 170, 170: 171, 171: 172, 172: 173, 173: 174, 174: 175, 175: 176, 176: 177, 177: 178, 178: 179, 179: 180, 180: 181, 181: 182, 182: 183, 183: 184, 184: 185, 185: 186, 186: 187, 187: 188, 188: 189, 189: 190, 190: 191, 191: 192, 192: 193, 193: 194, 194: 195, 195: 196, 196: 197, 197: 198, 198: 199, 199: 200, 200: 201, 201: 202, 202: 203, 203: 204, 204: 205, 205: 206, 206: 207, 207: 208, 208: 209, 209: 210, 210: 211, 211: 212, 212: 213, 213: 214, 214: 215, 215: 216, 216: 217, 217: 218, 218: 219, 219: 220, 220: 221, 221: 222, 222: 223, 223: 224, 224: 225, 225: 226, 226: 227, 227: 228, 228: 229, 229: 230, 230: 231, 231: 232, 232: 233, 233: 234, 234: 235, 235: 236, 236: 237, 237: 238, 238: 239, 239: 240, 240: 241, 241: 242, 242: 243, 243: 244, 244: 245, 245: 246, 246: 247, 247: 248, 248: 249, 249: 250, 250: 251, 251: 252, 252: 253, 253: 254, 254: 255, 255: 256, 256: 257, 257: 258, 258: 259, 259: 260, 260: 261, 261: 262, 262: 263, 263: 264, 264: 265, 265: 266, 266: 267, 267: 268, 268: 269, 269: 270, 270: 271, 271: 272, 272: 273, 273: 274, 274: 275, 275: 276, 276: 277, 277: 278, 278: 279, 279: 280, 280: 281, 281: 282, 282: 283, 283: 284, 284: 285, 285: 286, 286: 287, 287: 288, 288: 289, 289: 290, 290: 291, 291: 292, 292: 293, 293: 294, 294: 295, 295: 296, 296: 297, 297: 298, 298: 299, 299: 300}\n"
     ]
    }
   ],
   "source": [
    "# Mengubah user_id menjadi list tanpa nilai yang sama\n",
    "user_ids = data_collaborative['User_Id'].unique().tolist()\n",
    "print('list User_Id: ', user_ids)\n",
    "\n",
    "print()\n",
    "\n",
    "# Melakukan encoding user_id\n",
    "user_to_user_encoded = {x: i for i, x in enumerate(user_ids)}\n",
    "print('encoded user_id : ', user_to_user_encoded)\n",
    "\n",
    "print()\n",
    "\n",
    "# Melakukan proses encoding angka ke ke user_id\n",
    "user_encoded_to_user = {i: x for i, x in enumerate(user_ids)}\n",
    "print('encoded angka ke user_id: ', user_encoded_to_user)"
   ]
  },
  {
   "cell_type": "code",
   "execution_count": 45,
   "id": "c9091867",
   "metadata": {
    "execution": {
     "iopub.execute_input": "2024-09-08T09:50:18.453910Z",
     "iopub.status.busy": "2024-09-08T09:50:18.453308Z",
     "iopub.status.idle": "2024-09-08T09:50:18.462536Z",
     "shell.execute_reply": "2024-09-08T09:50:18.461434Z"
    },
    "papermill": {
     "duration": 0.047172,
     "end_time": "2024-09-08T09:50:18.466350",
     "exception": false,
     "start_time": "2024-09-08T09:50:18.419178",
     "status": "completed"
    },
    "tags": []
   },
   "outputs": [
    {
     "name": "stdout",
     "output_type": "stream",
     "text": [
      "list Place_Id:  [179, 344, 5, 373, 101, 312, 258, 20, 154, 393, 103, 208, 89, 405, 41, 336, 67, 292, 222, 76, 428, 15, 246, 265, 21, 328, 307, 302, 48, 147, 2, 322, 23, 85, 371, 78, 111, 107, 185, 413, 389, 437, 105, 176, 407, 281, 167, 384, 426, 390, 367, 166, 18, 321, 262, 223, 17, 319, 310, 421, 202, 283, 250, 118, 54, 70, 33, 227, 86, 249, 131, 382, 193, 104, 24, 128, 134, 228, 237, 100, 198, 50, 376, 268, 242, 82, 348, 409, 88, 4, 377, 43, 91, 44, 14, 406, 383, 229, 290, 294, 309, 74, 97, 138, 436, 395, 300, 68, 55, 434, 9, 151, 61, 159, 397, 391, 301, 143, 27, 190, 346, 381, 368, 433, 420, 335, 115, 334, 219, 178, 266, 92, 64, 102, 257, 243, 116, 359, 121, 385, 398, 119, 298, 410, 224, 379, 255, 269, 213, 126, 192, 183, 129, 303, 296, 99, 148, 13, 247, 31, 77, 158, 306, 98, 235, 45, 173, 275, 25, 130, 164, 267, 56, 30, 238, 402, 196, 417, 304, 206, 211, 28, 264, 403, 253, 331, 188, 416, 378, 233, 95, 204, 225, 341, 145, 36, 168, 12, 280, 236, 42, 90, 75, 63, 205, 234, 284, 230, 197, 339, 35, 226, 430, 37, 109, 355, 186, 149, 6, 150, 11, 127, 429, 194, 49, 369, 94, 274, 72, 46, 65, 203, 139, 141, 71, 52, 293, 422, 214, 114, 191, 156, 177, 163, 142, 245, 325, 259, 396, 96, 8, 362, 435, 59, 171, 277, 342, 365, 340, 260, 187, 297, 207, 248, 153, 239, 360, 170, 357, 73, 201, 252, 414, 132, 26, 347, 270, 16, 19, 318, 256, 181, 199, 288, 330, 3, 47, 32, 308, 210, 279, 289, 332, 80, 375, 182, 412, 272, 184, 113, 399, 261, 112, 327, 418, 84, 400, 195, 34, 295, 38, 165, 212, 124, 432, 317, 333, 81, 374, 136, 278, 108, 404, 83, 425, 22, 349, 411, 241, 427, 209, 323, 137, 315, 62, 244, 135, 169, 366, 152, 29, 60, 240, 200, 161, 66, 372, 338, 311, 53, 392, 299, 386, 337, 326, 423, 352, 172, 286, 251, 162, 356, 93, 160, 125, 316, 123, 174, 221, 408, 263, 358, 353, 401, 364, 215, 110, 144, 40, 291, 431, 120, 216, 313, 157, 282, 231, 324, 329, 345, 39, 273, 122, 79, 388, 380, 343, 254, 117, 133, 1, 354, 287, 155, 285, 58, 69, 305, 218, 220, 189, 106, 87, 351, 363, 175, 180, 415, 387, 394, 424, 146, 232, 314, 320, 276, 217, 57, 51, 361, 419, 271, 370, 350, 10, 7, 140]\n",
      "\n",
      "encoded Place_Id :  {179: 0, 344: 1, 5: 2, 373: 3, 101: 4, 312: 5, 258: 6, 20: 7, 154: 8, 393: 9, 103: 10, 208: 11, 89: 12, 405: 13, 41: 14, 336: 15, 67: 16, 292: 17, 222: 18, 76: 19, 428: 20, 15: 21, 246: 22, 265: 23, 21: 24, 328: 25, 307: 26, 302: 27, 48: 28, 147: 29, 2: 30, 322: 31, 23: 32, 85: 33, 371: 34, 78: 35, 111: 36, 107: 37, 185: 38, 413: 39, 389: 40, 437: 41, 105: 42, 176: 43, 407: 44, 281: 45, 167: 46, 384: 47, 426: 48, 390: 49, 367: 50, 166: 51, 18: 52, 321: 53, 262: 54, 223: 55, 17: 56, 319: 57, 310: 58, 421: 59, 202: 60, 283: 61, 250: 62, 118: 63, 54: 64, 70: 65, 33: 66, 227: 67, 86: 68, 249: 69, 131: 70, 382: 71, 193: 72, 104: 73, 24: 74, 128: 75, 134: 76, 228: 77, 237: 78, 100: 79, 198: 80, 50: 81, 376: 82, 268: 83, 242: 84, 82: 85, 348: 86, 409: 87, 88: 88, 4: 89, 377: 90, 43: 91, 91: 92, 44: 93, 14: 94, 406: 95, 383: 96, 229: 97, 290: 98, 294: 99, 309: 100, 74: 101, 97: 102, 138: 103, 436: 104, 395: 105, 300: 106, 68: 107, 55: 108, 434: 109, 9: 110, 151: 111, 61: 112, 159: 113, 397: 114, 391: 115, 301: 116, 143: 117, 27: 118, 190: 119, 346: 120, 381: 121, 368: 122, 433: 123, 420: 124, 335: 125, 115: 126, 334: 127, 219: 128, 178: 129, 266: 130, 92: 131, 64: 132, 102: 133, 257: 134, 243: 135, 116: 136, 359: 137, 121: 138, 385: 139, 398: 140, 119: 141, 298: 142, 410: 143, 224: 144, 379: 145, 255: 146, 269: 147, 213: 148, 126: 149, 192: 150, 183: 151, 129: 152, 303: 153, 296: 154, 99: 155, 148: 156, 13: 157, 247: 158, 31: 159, 77: 160, 158: 161, 306: 162, 98: 163, 235: 164, 45: 165, 173: 166, 275: 167, 25: 168, 130: 169, 164: 170, 267: 171, 56: 172, 30: 173, 238: 174, 402: 175, 196: 176, 417: 177, 304: 178, 206: 179, 211: 180, 28: 181, 264: 182, 403: 183, 253: 184, 331: 185, 188: 186, 416: 187, 378: 188, 233: 189, 95: 190, 204: 191, 225: 192, 341: 193, 145: 194, 36: 195, 168: 196, 12: 197, 280: 198, 236: 199, 42: 200, 90: 201, 75: 202, 63: 203, 205: 204, 234: 205, 284: 206, 230: 207, 197: 208, 339: 209, 35: 210, 226: 211, 430: 212, 37: 213, 109: 214, 355: 215, 186: 216, 149: 217, 6: 218, 150: 219, 11: 220, 127: 221, 429: 222, 194: 223, 49: 224, 369: 225, 94: 226, 274: 227, 72: 228, 46: 229, 65: 230, 203: 231, 139: 232, 141: 233, 71: 234, 52: 235, 293: 236, 422: 237, 214: 238, 114: 239, 191: 240, 156: 241, 177: 242, 163: 243, 142: 244, 245: 245, 325: 246, 259: 247, 396: 248, 96: 249, 8: 250, 362: 251, 435: 252, 59: 253, 171: 254, 277: 255, 342: 256, 365: 257, 340: 258, 260: 259, 187: 260, 297: 261, 207: 262, 248: 263, 153: 264, 239: 265, 360: 266, 170: 267, 357: 268, 73: 269, 201: 270, 252: 271, 414: 272, 132: 273, 26: 274, 347: 275, 270: 276, 16: 277, 19: 278, 318: 279, 256: 280, 181: 281, 199: 282, 288: 283, 330: 284, 3: 285, 47: 286, 32: 287, 308: 288, 210: 289, 279: 290, 289: 291, 332: 292, 80: 293, 375: 294, 182: 295, 412: 296, 272: 297, 184: 298, 113: 299, 399: 300, 261: 301, 112: 302, 327: 303, 418: 304, 84: 305, 400: 306, 195: 307, 34: 308, 295: 309, 38: 310, 165: 311, 212: 312, 124: 313, 432: 314, 317: 315, 333: 316, 81: 317, 374: 318, 136: 319, 278: 320, 108: 321, 404: 322, 83: 323, 425: 324, 22: 325, 349: 326, 411: 327, 241: 328, 427: 329, 209: 330, 323: 331, 137: 332, 315: 333, 62: 334, 244: 335, 135: 336, 169: 337, 366: 338, 152: 339, 29: 340, 60: 341, 240: 342, 200: 343, 161: 344, 66: 345, 372: 346, 338: 347, 311: 348, 53: 349, 392: 350, 299: 351, 386: 352, 337: 353, 326: 354, 423: 355, 352: 356, 172: 357, 286: 358, 251: 359, 162: 360, 356: 361, 93: 362, 160: 363, 125: 364, 316: 365, 123: 366, 174: 367, 221: 368, 408: 369, 263: 370, 358: 371, 353: 372, 401: 373, 364: 374, 215: 375, 110: 376, 144: 377, 40: 378, 291: 379, 431: 380, 120: 381, 216: 382, 313: 383, 157: 384, 282: 385, 231: 386, 324: 387, 329: 388, 345: 389, 39: 390, 273: 391, 122: 392, 79: 393, 388: 394, 380: 395, 343: 396, 254: 397, 117: 398, 133: 399, 1: 400, 354: 401, 287: 402, 155: 403, 285: 404, 58: 405, 69: 406, 305: 407, 218: 408, 220: 409, 189: 410, 106: 411, 87: 412, 351: 413, 363: 414, 175: 415, 180: 416, 415: 417, 387: 418, 394: 419, 424: 420, 146: 421, 232: 422, 314: 423, 320: 424, 276: 425, 217: 426, 57: 427, 51: 428, 361: 429, 419: 430, 271: 431, 370: 432, 350: 433, 10: 434, 7: 435, 140: 436}\n",
      "\n",
      "encoded angka ke Place_Id:  {0: 179, 1: 344, 2: 5, 3: 373, 4: 101, 5: 312, 6: 258, 7: 20, 8: 154, 9: 393, 10: 103, 11: 208, 12: 89, 13: 405, 14: 41, 15: 336, 16: 67, 17: 292, 18: 222, 19: 76, 20: 428, 21: 15, 22: 246, 23: 265, 24: 21, 25: 328, 26: 307, 27: 302, 28: 48, 29: 147, 30: 2, 31: 322, 32: 23, 33: 85, 34: 371, 35: 78, 36: 111, 37: 107, 38: 185, 39: 413, 40: 389, 41: 437, 42: 105, 43: 176, 44: 407, 45: 281, 46: 167, 47: 384, 48: 426, 49: 390, 50: 367, 51: 166, 52: 18, 53: 321, 54: 262, 55: 223, 56: 17, 57: 319, 58: 310, 59: 421, 60: 202, 61: 283, 62: 250, 63: 118, 64: 54, 65: 70, 66: 33, 67: 227, 68: 86, 69: 249, 70: 131, 71: 382, 72: 193, 73: 104, 74: 24, 75: 128, 76: 134, 77: 228, 78: 237, 79: 100, 80: 198, 81: 50, 82: 376, 83: 268, 84: 242, 85: 82, 86: 348, 87: 409, 88: 88, 89: 4, 90: 377, 91: 43, 92: 91, 93: 44, 94: 14, 95: 406, 96: 383, 97: 229, 98: 290, 99: 294, 100: 309, 101: 74, 102: 97, 103: 138, 104: 436, 105: 395, 106: 300, 107: 68, 108: 55, 109: 434, 110: 9, 111: 151, 112: 61, 113: 159, 114: 397, 115: 391, 116: 301, 117: 143, 118: 27, 119: 190, 120: 346, 121: 381, 122: 368, 123: 433, 124: 420, 125: 335, 126: 115, 127: 334, 128: 219, 129: 178, 130: 266, 131: 92, 132: 64, 133: 102, 134: 257, 135: 243, 136: 116, 137: 359, 138: 121, 139: 385, 140: 398, 141: 119, 142: 298, 143: 410, 144: 224, 145: 379, 146: 255, 147: 269, 148: 213, 149: 126, 150: 192, 151: 183, 152: 129, 153: 303, 154: 296, 155: 99, 156: 148, 157: 13, 158: 247, 159: 31, 160: 77, 161: 158, 162: 306, 163: 98, 164: 235, 165: 45, 166: 173, 167: 275, 168: 25, 169: 130, 170: 164, 171: 267, 172: 56, 173: 30, 174: 238, 175: 402, 176: 196, 177: 417, 178: 304, 179: 206, 180: 211, 181: 28, 182: 264, 183: 403, 184: 253, 185: 331, 186: 188, 187: 416, 188: 378, 189: 233, 190: 95, 191: 204, 192: 225, 193: 341, 194: 145, 195: 36, 196: 168, 197: 12, 198: 280, 199: 236, 200: 42, 201: 90, 202: 75, 203: 63, 204: 205, 205: 234, 206: 284, 207: 230, 208: 197, 209: 339, 210: 35, 211: 226, 212: 430, 213: 37, 214: 109, 215: 355, 216: 186, 217: 149, 218: 6, 219: 150, 220: 11, 221: 127, 222: 429, 223: 194, 224: 49, 225: 369, 226: 94, 227: 274, 228: 72, 229: 46, 230: 65, 231: 203, 232: 139, 233: 141, 234: 71, 235: 52, 236: 293, 237: 422, 238: 214, 239: 114, 240: 191, 241: 156, 242: 177, 243: 163, 244: 142, 245: 245, 246: 325, 247: 259, 248: 396, 249: 96, 250: 8, 251: 362, 252: 435, 253: 59, 254: 171, 255: 277, 256: 342, 257: 365, 258: 340, 259: 260, 260: 187, 261: 297, 262: 207, 263: 248, 264: 153, 265: 239, 266: 360, 267: 170, 268: 357, 269: 73, 270: 201, 271: 252, 272: 414, 273: 132, 274: 26, 275: 347, 276: 270, 277: 16, 278: 19, 279: 318, 280: 256, 281: 181, 282: 199, 283: 288, 284: 330, 285: 3, 286: 47, 287: 32, 288: 308, 289: 210, 290: 279, 291: 289, 292: 332, 293: 80, 294: 375, 295: 182, 296: 412, 297: 272, 298: 184, 299: 113, 300: 399, 301: 261, 302: 112, 303: 327, 304: 418, 305: 84, 306: 400, 307: 195, 308: 34, 309: 295, 310: 38, 311: 165, 312: 212, 313: 124, 314: 432, 315: 317, 316: 333, 317: 81, 318: 374, 319: 136, 320: 278, 321: 108, 322: 404, 323: 83, 324: 425, 325: 22, 326: 349, 327: 411, 328: 241, 329: 427, 330: 209, 331: 323, 332: 137, 333: 315, 334: 62, 335: 244, 336: 135, 337: 169, 338: 366, 339: 152, 340: 29, 341: 60, 342: 240, 343: 200, 344: 161, 345: 66, 346: 372, 347: 338, 348: 311, 349: 53, 350: 392, 351: 299, 352: 386, 353: 337, 354: 326, 355: 423, 356: 352, 357: 172, 358: 286, 359: 251, 360: 162, 361: 356, 362: 93, 363: 160, 364: 125, 365: 316, 366: 123, 367: 174, 368: 221, 369: 408, 370: 263, 371: 358, 372: 353, 373: 401, 374: 364, 375: 215, 376: 110, 377: 144, 378: 40, 379: 291, 380: 431, 381: 120, 382: 216, 383: 313, 384: 157, 385: 282, 386: 231, 387: 324, 388: 329, 389: 345, 390: 39, 391: 273, 392: 122, 393: 79, 394: 388, 395: 380, 396: 343, 397: 254, 398: 117, 399: 133, 400: 1, 401: 354, 402: 287, 403: 155, 404: 285, 405: 58, 406: 69, 407: 305, 408: 218, 409: 220, 410: 189, 411: 106, 412: 87, 413: 351, 414: 363, 415: 175, 416: 180, 417: 415, 418: 387, 419: 394, 420: 424, 421: 146, 422: 232, 423: 314, 424: 320, 425: 276, 426: 217, 427: 57, 428: 51, 429: 361, 430: 419, 431: 271, 432: 370, 433: 350, 434: 10, 435: 7, 436: 140}\n"
     ]
    }
   ],
   "source": [
    "# Mengubah place_id menjadi list tanpa nilai yang sama\n",
    "place_ids = data_collaborative['Place_Id'].unique().tolist()\n",
    "print('list Place_Id: ', place_ids)\n",
    "\n",
    "print()\n",
    "\n",
    "# Melakukan encoding place_id\n",
    "placeID_to_placeID_encoded = {x: i for i, x in enumerate(place_ids)}\n",
    "print('encoded Place_Id : ', placeID_to_placeID_encoded)\n",
    "\n",
    "print()\n",
    "\n",
    "# Melakukan proses encoding angka ke ke user_id\n",
    "placeID_encoded_to_placeID = {i: x for i, x in enumerate(place_ids)}\n",
    "print('encoded angka ke Place_Id: ', placeID_encoded_to_placeID)"
   ]
  },
  {
   "cell_type": "code",
   "execution_count": 46,
   "id": "53ae0c9a",
   "metadata": {
    "execution": {
     "iopub.execute_input": "2024-09-08T09:50:18.537279Z",
     "iopub.status.busy": "2024-09-08T09:50:18.536852Z",
     "iopub.status.idle": "2024-09-08T09:50:18.553170Z",
     "shell.execute_reply": "2024-09-08T09:50:18.551996Z"
    },
    "papermill": {
     "duration": 0.05479,
     "end_time": "2024-09-08T09:50:18.555880",
     "exception": false,
     "start_time": "2024-09-08T09:50:18.501090",
     "status": "completed"
    },
    "tags": []
   },
   "outputs": [
    {
     "data": {
      "text/html": [
       "<div>\n",
       "<style scoped>\n",
       "    .dataframe tbody tr th:only-of-type {\n",
       "        vertical-align: middle;\n",
       "    }\n",
       "\n",
       "    .dataframe tbody tr th {\n",
       "        vertical-align: top;\n",
       "    }\n",
       "\n",
       "    .dataframe thead th {\n",
       "        text-align: right;\n",
       "    }\n",
       "</style>\n",
       "<table border=\"1\" class=\"dataframe\">\n",
       "  <thead>\n",
       "    <tr style=\"text-align: right;\">\n",
       "      <th></th>\n",
       "      <th>User_Id</th>\n",
       "      <th>Place_Id</th>\n",
       "      <th>Place_Ratings</th>\n",
       "      <th>user</th>\n",
       "      <th>tourism</th>\n",
       "    </tr>\n",
       "  </thead>\n",
       "  <tbody>\n",
       "    <tr>\n",
       "      <th>0</th>\n",
       "      <td>1</td>\n",
       "      <td>179</td>\n",
       "      <td>3</td>\n",
       "      <td>0</td>\n",
       "      <td>0</td>\n",
       "    </tr>\n",
       "    <tr>\n",
       "      <th>1</th>\n",
       "      <td>1</td>\n",
       "      <td>344</td>\n",
       "      <td>2</td>\n",
       "      <td>0</td>\n",
       "      <td>1</td>\n",
       "    </tr>\n",
       "    <tr>\n",
       "      <th>2</th>\n",
       "      <td>1</td>\n",
       "      <td>5</td>\n",
       "      <td>5</td>\n",
       "      <td>0</td>\n",
       "      <td>2</td>\n",
       "    </tr>\n",
       "    <tr>\n",
       "      <th>3</th>\n",
       "      <td>1</td>\n",
       "      <td>373</td>\n",
       "      <td>3</td>\n",
       "      <td>0</td>\n",
       "      <td>3</td>\n",
       "    </tr>\n",
       "    <tr>\n",
       "      <th>4</th>\n",
       "      <td>1</td>\n",
       "      <td>101</td>\n",
       "      <td>4</td>\n",
       "      <td>0</td>\n",
       "      <td>4</td>\n",
       "    </tr>\n",
       "  </tbody>\n",
       "</table>\n",
       "</div>"
      ],
      "text/plain": [
       "   User_Id  Place_Id  Place_Ratings  user  tourism\n",
       "0        1       179              3     0        0\n",
       "1        1       344              2     0        1\n",
       "2        1         5              5     0        2\n",
       "3        1       373              3     0        3\n",
       "4        1       101              4     0        4"
      ]
     },
     "execution_count": 46,
     "metadata": {},
     "output_type": "execute_result"
    }
   ],
   "source": [
    "# Mapping user_id ke dataframe tourism_rating\n",
    "data_collaborative['user'] = data_collaborative['User_Id'].map(user_to_user_encoded)\n",
    "\n",
    "# Mapping place_id ke dataframe tourism_rating\n",
    "data_collaborative['tourism'] = data_collaborative['Place_Id'].map(placeID_to_placeID_encoded)\n",
    "data_collaborative.head()"
   ]
  },
  {
   "cell_type": "code",
   "execution_count": 47,
   "id": "19b2aa39",
   "metadata": {
    "execution": {
     "iopub.execute_input": "2024-09-08T09:50:18.625299Z",
     "iopub.status.busy": "2024-09-08T09:50:18.624849Z",
     "iopub.status.idle": "2024-09-08T09:50:18.637754Z",
     "shell.execute_reply": "2024-09-08T09:50:18.636439Z"
    },
    "papermill": {
     "duration": 0.050286,
     "end_time": "2024-09-08T09:50:18.640236",
     "exception": false,
     "start_time": "2024-09-08T09:50:18.589950",
     "status": "completed"
    },
    "tags": []
   },
   "outputs": [
    {
     "name": "stdout",
     "output_type": "stream",
     "text": [
      "300\n",
      "437\n",
      "Number of User: 300, Number of tourism: 437, Min Rating: 1.0, Max Rating: 5.0\n"
     ]
    }
   ],
   "source": [
    "# Mendapatkan jumlah user\n",
    "num_users = len(user_to_user_encoded)\n",
    "print(num_users)\n",
    "\n",
    "# Mendapatkan jumlah destinasi wisata\n",
    "num_tourism = len(placeID_to_placeID_encoded)\n",
    "print(num_tourism)\n",
    "\n",
    "# Mengubah rating menjadi nilai float\n",
    "data_collaborative['Place_Ratings'] = data_collaborative['Place_Ratings'].values.astype(np.float32)\n",
    "\n",
    "# Nilai minimum rating\n",
    "min_rating = min(data_collaborative['Place_Ratings'])\n",
    "\n",
    "# Nilai maksimal rating\n",
    "max_rating = max(data_collaborative['Place_Ratings'])\n",
    "\n",
    "print('Number of User: {}, Number of tourism: {}, Min Rating: {}, Max Rating: {}'.format(\n",
    "    num_users, num_tourism, min_rating, max_rating\n",
    "))"
   ]
  },
  {
   "cell_type": "markdown",
   "id": "e58b4658",
   "metadata": {
    "papermill": {
     "duration": 0.032988,
     "end_time": "2024-09-08T09:50:18.707651",
     "exception": false,
     "start_time": "2024-09-08T09:50:18.674663",
     "status": "completed"
    },
    "tags": []
   },
   "source": [
    "## Training Split"
   ]
  },
  {
   "cell_type": "code",
   "execution_count": 48,
   "id": "8844319b",
   "metadata": {
    "execution": {
     "iopub.execute_input": "2024-09-08T09:50:18.776523Z",
     "iopub.status.busy": "2024-09-08T09:50:18.776087Z",
     "iopub.status.idle": "2024-09-08T09:50:18.793452Z",
     "shell.execute_reply": "2024-09-08T09:50:18.792347Z"
    },
    "papermill": {
     "duration": 0.055267,
     "end_time": "2024-09-08T09:50:18.796374",
     "exception": false,
     "start_time": "2024-09-08T09:50:18.741107",
     "status": "completed"
    },
    "tags": []
   },
   "outputs": [
    {
     "data": {
      "text/html": [
       "<div>\n",
       "<style scoped>\n",
       "    .dataframe tbody tr th:only-of-type {\n",
       "        vertical-align: middle;\n",
       "    }\n",
       "\n",
       "    .dataframe tbody tr th {\n",
       "        vertical-align: top;\n",
       "    }\n",
       "\n",
       "    .dataframe thead th {\n",
       "        text-align: right;\n",
       "    }\n",
       "</style>\n",
       "<table border=\"1\" class=\"dataframe\">\n",
       "  <thead>\n",
       "    <tr style=\"text-align: right;\">\n",
       "      <th></th>\n",
       "      <th>User_Id</th>\n",
       "      <th>Place_Id</th>\n",
       "      <th>Place_Ratings</th>\n",
       "      <th>user</th>\n",
       "      <th>tourism</th>\n",
       "    </tr>\n",
       "  </thead>\n",
       "  <tbody>\n",
       "    <tr>\n",
       "      <th>9535</th>\n",
       "      <td>287</td>\n",
       "      <td>17</td>\n",
       "      <td>5.0</td>\n",
       "      <td>286</td>\n",
       "      <td>56</td>\n",
       "    </tr>\n",
       "    <tr>\n",
       "      <th>5494</th>\n",
       "      <td>166</td>\n",
       "      <td>59</td>\n",
       "      <td>3.0</td>\n",
       "      <td>165</td>\n",
       "      <td>253</td>\n",
       "    </tr>\n",
       "    <tr>\n",
       "      <th>1038</th>\n",
       "      <td>33</td>\n",
       "      <td>388</td>\n",
       "      <td>2.0</td>\n",
       "      <td>32</td>\n",
       "      <td>394</td>\n",
       "    </tr>\n",
       "    <tr>\n",
       "      <th>9276</th>\n",
       "      <td>279</td>\n",
       "      <td>288</td>\n",
       "      <td>2.0</td>\n",
       "      <td>278</td>\n",
       "      <td>283</td>\n",
       "    </tr>\n",
       "    <tr>\n",
       "      <th>5928</th>\n",
       "      <td>179</td>\n",
       "      <td>381</td>\n",
       "      <td>4.0</td>\n",
       "      <td>178</td>\n",
       "      <td>121</td>\n",
       "    </tr>\n",
       "    <tr>\n",
       "      <th>...</th>\n",
       "      <td>...</td>\n",
       "      <td>...</td>\n",
       "      <td>...</td>\n",
       "      <td>...</td>\n",
       "      <td>...</td>\n",
       "    </tr>\n",
       "    <tr>\n",
       "      <th>266</th>\n",
       "      <td>10</td>\n",
       "      <td>168</td>\n",
       "      <td>5.0</td>\n",
       "      <td>9</td>\n",
       "      <td>196</td>\n",
       "    </tr>\n",
       "    <tr>\n",
       "      <th>1209</th>\n",
       "      <td>38</td>\n",
       "      <td>215</td>\n",
       "      <td>5.0</td>\n",
       "      <td>37</td>\n",
       "      <td>375</td>\n",
       "    </tr>\n",
       "    <tr>\n",
       "      <th>2675</th>\n",
       "      <td>83</td>\n",
       "      <td>374</td>\n",
       "      <td>2.0</td>\n",
       "      <td>82</td>\n",
       "      <td>318</td>\n",
       "    </tr>\n",
       "    <tr>\n",
       "      <th>4671</th>\n",
       "      <td>142</td>\n",
       "      <td>329</td>\n",
       "      <td>2.0</td>\n",
       "      <td>141</td>\n",
       "      <td>388</td>\n",
       "    </tr>\n",
       "    <tr>\n",
       "      <th>4486</th>\n",
       "      <td>137</td>\n",
       "      <td>371</td>\n",
       "      <td>5.0</td>\n",
       "      <td>136</td>\n",
       "      <td>34</td>\n",
       "    </tr>\n",
       "  </tbody>\n",
       "</table>\n",
       "<p>10000 rows × 5 columns</p>\n",
       "</div>"
      ],
      "text/plain": [
       "      User_Id  Place_Id  Place_Ratings  user  tourism\n",
       "9535      287        17            5.0   286       56\n",
       "5494      166        59            3.0   165      253\n",
       "1038       33       388            2.0    32      394\n",
       "9276      279       288            2.0   278      283\n",
       "5928      179       381            4.0   178      121\n",
       "...       ...       ...            ...   ...      ...\n",
       "266        10       168            5.0     9      196\n",
       "1209       38       215            5.0    37      375\n",
       "2675       83       374            2.0    82      318\n",
       "4671      142       329            2.0   141      388\n",
       "4486      137       371            5.0   136       34\n",
       "\n",
       "[10000 rows x 5 columns]"
      ]
     },
     "execution_count": 48,
     "metadata": {},
     "output_type": "execute_result"
    }
   ],
   "source": [
    "# Mengacak dataset\n",
    "data_collaborative = data_collaborative.sample(frac=1, random_state=420)\n",
    "data_collaborative"
   ]
  },
  {
   "cell_type": "code",
   "execution_count": 49,
   "id": "f2cc5fc5",
   "metadata": {
    "execution": {
     "iopub.execute_input": "2024-09-08T09:50:18.867646Z",
     "iopub.status.busy": "2024-09-08T09:50:18.866330Z",
     "iopub.status.idle": "2024-09-08T09:50:18.885004Z",
     "shell.execute_reply": "2024-09-08T09:50:18.883449Z"
    },
    "papermill": {
     "duration": 0.056768,
     "end_time": "2024-09-08T09:50:18.887808",
     "exception": false,
     "start_time": "2024-09-08T09:50:18.831040",
     "status": "completed"
    },
    "tags": []
   },
   "outputs": [
    {
     "name": "stdout",
     "output_type": "stream",
     "text": [
      "[[286  56]\n",
      " [165 253]\n",
      " [ 32 394]\n",
      " ...\n",
      " [ 82 318]\n",
      " [141 388]\n",
      " [136  34]] [1.   0.5  0.25 ... 0.25 0.25 1.  ]\n"
     ]
    }
   ],
   "source": [
    "x = data_collaborative[['user', 'tourism']].values\n",
    "\n",
    "# Membuat variabel y untuk membuat rating dari hasil\n",
    "y = data_collaborative['Place_Ratings'].apply(lambda x: (x - min_rating) / (max_rating - min_rating)).values\n",
    "\n",
    "# Membagi menjadi 80% data train dan 20% data validasi\n",
    "train_indices = int(0.8 * data_collaborative.shape[0])\n",
    "x_train, x_val, y_train, y_val = (\n",
    "    x[:train_indices],\n",
    "    x[train_indices:],\n",
    "    y[:train_indices],\n",
    "    y[train_indices:]\n",
    ")\n",
    "\n",
    "print(x, y)"
   ]
  },
  {
   "cell_type": "code",
   "execution_count": 50,
   "id": "181e96d2",
   "metadata": {
    "execution": {
     "iopub.execute_input": "2024-09-08T09:50:18.957560Z",
     "iopub.status.busy": "2024-09-08T09:50:18.957124Z",
     "iopub.status.idle": "2024-09-08T09:50:33.562617Z",
     "shell.execute_reply": "2024-09-08T09:50:33.561435Z"
    },
    "papermill": {
     "duration": 14.6436,
     "end_time": "2024-09-08T09:50:33.565499",
     "exception": false,
     "start_time": "2024-09-08T09:50:18.921899",
     "status": "completed"
    },
    "tags": []
   },
   "outputs": [],
   "source": [
    "import tensorflow as tf\n",
    "from tensorflow import keras\n",
    "from tensorflow.keras import layers\n",
    "from pathlib import Path\n",
    "\n",
    "class RecommenderNet(tf.keras.Model):\n",
    "\n",
    "    # Insialisasi fungsi\n",
    "    def __init__(self, num_users, num_tourism, embedding_size, **kwargs):\n",
    "        super(RecommenderNet, self).__init__(**kwargs)\n",
    "        self.num_users = num_users\n",
    "        self.num_tourism = num_tourism\n",
    "        self.embedding_size = embedding_size\n",
    "        self.user_embedding = layers.Embedding( # layer embedding user\n",
    "            num_users,\n",
    "            embedding_size,\n",
    "            embeddings_initializer = 'he_normal',\n",
    "            embeddings_regularizer = keras.regularizers.l2(1e-6)\n",
    "        )\n",
    "        self.user_dropout = layers.Dropout(0.3)\n",
    "        self.user_bias = layers.Embedding(num_users, 1) # layer embedding user bias\n",
    "        self.tourism_embedding = layers.Embedding( # layer embeddings tourism\n",
    "            num_tourism,\n",
    "            embedding_size,\n",
    "            embeddings_initializer = 'he_normal',\n",
    "            embeddings_regularizer = keras.regularizers.l2(1e-6)\n",
    "        )\n",
    "        self.tourism_dropout = layers.Dropout(0.3)\n",
    "        self.tourism_bias = layers.Embedding(num_tourism, 1) # layer embedding tourism bias\n",
    "\n",
    "    def call(self, inputs):\n",
    "        user_vector = self.user_embedding(inputs[:,0]) # memanggil layer embedding 1\n",
    "        user_vector = self.user_dropout(user_vector)\n",
    "        user_bias = self.user_bias(inputs[:, 0]) # memanggil layer embedding 2\n",
    "        tourism_vector = self.tourism_embedding(inputs[:, 1]) # memanggil layer embedding 3\n",
    "        tourism_vector = self.tourism_dropout(tourism_vector)\n",
    "        tourism_bias = self.tourism_bias(inputs[:, 1]) # memanggil layer embedding 4\n",
    "\n",
    "        dot_user_tourism = tf.tensordot(user_vector, tourism_vector, 2)\n",
    "\n",
    "        x = dot_user_tourism + user_bias + tourism_bias\n",
    "\n",
    "        return tf.nn.sigmoid(x) # activation sigmoid"
   ]
  },
  {
   "cell_type": "code",
   "execution_count": 51,
   "id": "547188ca",
   "metadata": {
    "execution": {
     "iopub.execute_input": "2024-09-08T09:50:33.636294Z",
     "iopub.status.busy": "2024-09-08T09:50:33.635506Z",
     "iopub.status.idle": "2024-09-08T09:50:33.709919Z",
     "shell.execute_reply": "2024-09-08T09:50:33.708957Z"
    },
    "papermill": {
     "duration": 0.112522,
     "end_time": "2024-09-08T09:50:33.712728",
     "exception": false,
     "start_time": "2024-09-08T09:50:33.600206",
     "status": "completed"
    },
    "tags": []
   },
   "outputs": [],
   "source": [
    "model = RecommenderNet(num_users, num_tourism, 100) # inisialisasi model\n",
    "\n",
    "# model compile\n",
    "model.compile(\n",
    "    loss = tf.keras.losses.BinaryCrossentropy(),\n",
    "    optimizer = keras.optimizers.Adam(learning_rate=0.0001),\n",
    "    metrics=[tf.keras.metrics.RootMeanSquaredError()]\n",
    ")"
   ]
  },
  {
   "cell_type": "code",
   "execution_count": 52,
   "id": "71ced8d9",
   "metadata": {
    "execution": {
     "iopub.execute_input": "2024-09-08T09:50:33.782165Z",
     "iopub.status.busy": "2024-09-08T09:50:33.781717Z",
     "iopub.status.idle": "2024-09-08T09:53:56.811487Z",
     "shell.execute_reply": "2024-09-08T09:53:56.810090Z"
    },
    "papermill": {
     "duration": 203.06796,
     "end_time": "2024-09-08T09:53:56.814550",
     "exception": false,
     "start_time": "2024-09-08T09:50:33.746590",
     "status": "completed"
    },
    "tags": []
   },
   "outputs": [
    {
     "name": "stdout",
     "output_type": "stream",
     "text": [
      "Epoch 1/100\n",
      "\u001b[1m1000/1000\u001b[0m \u001b[32m━━━━━━━━━━━━━━━━━━━━\u001b[0m\u001b[37m\u001b[0m \u001b[1m4s\u001b[0m 2ms/step - loss: 0.6960 - root_mean_squared_error: 0.3458 - val_loss: 0.6963 - val_root_mean_squared_error: 0.3472\n",
      "Epoch 2/100\n",
      "\u001b[1m1000/1000\u001b[0m \u001b[32m━━━━━━━━━━━━━━━━━━━━\u001b[0m\u001b[37m\u001b[0m \u001b[1m2s\u001b[0m 2ms/step - loss: 0.6935 - root_mean_squared_error: 0.3403 - val_loss: 0.6958 - val_root_mean_squared_error: 0.3469\n",
      "Epoch 3/100\n",
      "\u001b[1m1000/1000\u001b[0m \u001b[32m━━━━━━━━━━━━━━━━━━━━\u001b[0m\u001b[37m\u001b[0m \u001b[1m2s\u001b[0m 2ms/step - loss: 0.6921 - root_mean_squared_error: 0.3455 - val_loss: 0.6958 - val_root_mean_squared_error: 0.3469\n",
      "Epoch 4/100\n",
      "\u001b[1m1000/1000\u001b[0m \u001b[32m━━━━━━━━━━━━━━━━━━━━\u001b[0m\u001b[37m\u001b[0m \u001b[1m2s\u001b[0m 2ms/step - loss: 0.6918 - root_mean_squared_error: 0.3452 - val_loss: 0.6957 - val_root_mean_squared_error: 0.3468\n",
      "Epoch 5/100\n",
      "\u001b[1m1000/1000\u001b[0m \u001b[32m━━━━━━━━━━━━━━━━━━━━\u001b[0m\u001b[37m\u001b[0m \u001b[1m2s\u001b[0m 2ms/step - loss: 0.6901 - root_mean_squared_error: 0.3463 - val_loss: 0.6959 - val_root_mean_squared_error: 0.3470\n",
      "Epoch 6/100\n",
      "\u001b[1m1000/1000\u001b[0m \u001b[32m━━━━━━━━━━━━━━━━━━━━\u001b[0m\u001b[37m\u001b[0m \u001b[1m2s\u001b[0m 2ms/step - loss: 0.6879 - root_mean_squared_error: 0.3403 - val_loss: 0.6959 - val_root_mean_squared_error: 0.3470\n",
      "Epoch 7/100\n",
      "\u001b[1m1000/1000\u001b[0m \u001b[32m━━━━━━━━━━━━━━━━━━━━\u001b[0m\u001b[37m\u001b[0m \u001b[1m2s\u001b[0m 2ms/step - loss: 0.6877 - root_mean_squared_error: 0.3399 - val_loss: 0.6959 - val_root_mean_squared_error: 0.3470\n",
      "Epoch 8/100\n",
      "\u001b[1m1000/1000\u001b[0m \u001b[32m━━━━━━━━━━━━━━━━━━━━\u001b[0m\u001b[37m\u001b[0m \u001b[1m2s\u001b[0m 2ms/step - loss: 0.6868 - root_mean_squared_error: 0.3379 - val_loss: 0.6957 - val_root_mean_squared_error: 0.3468\n",
      "Epoch 9/100\n",
      "\u001b[1m1000/1000\u001b[0m \u001b[32m━━━━━━━━━━━━━━━━━━━━\u001b[0m\u001b[37m\u001b[0m \u001b[1m2s\u001b[0m 2ms/step - loss: 0.6859 - root_mean_squared_error: 0.3403 - val_loss: 0.6955 - val_root_mean_squared_error: 0.3467\n",
      "Epoch 10/100\n",
      "\u001b[1m1000/1000\u001b[0m \u001b[32m━━━━━━━━━━━━━━━━━━━━\u001b[0m\u001b[37m\u001b[0m \u001b[1m2s\u001b[0m 2ms/step - loss: 0.6830 - root_mean_squared_error: 0.3378 - val_loss: 0.6957 - val_root_mean_squared_error: 0.3468\n",
      "Epoch 11/100\n",
      "\u001b[1m1000/1000\u001b[0m \u001b[32m━━━━━━━━━━━━━━━━━━━━\u001b[0m\u001b[37m\u001b[0m \u001b[1m2s\u001b[0m 2ms/step - loss: 0.6805 - root_mean_squared_error: 0.3338 - val_loss: 0.6957 - val_root_mean_squared_error: 0.3468\n",
      "Epoch 12/100\n",
      "\u001b[1m1000/1000\u001b[0m \u001b[32m━━━━━━━━━━━━━━━━━━━━\u001b[0m\u001b[37m\u001b[0m \u001b[1m2s\u001b[0m 2ms/step - loss: 0.6809 - root_mean_squared_error: 0.3342 - val_loss: 0.6957 - val_root_mean_squared_error: 0.3468\n",
      "Epoch 13/100\n",
      "\u001b[1m1000/1000\u001b[0m \u001b[32m━━━━━━━━━━━━━━━━━━━━\u001b[0m\u001b[37m\u001b[0m \u001b[1m2s\u001b[0m 2ms/step - loss: 0.6790 - root_mean_squared_error: 0.3366 - val_loss: 0.6956 - val_root_mean_squared_error: 0.3467\n",
      "Epoch 14/100\n",
      "\u001b[1m1000/1000\u001b[0m \u001b[32m━━━━━━━━━━━━━━━━━━━━\u001b[0m\u001b[37m\u001b[0m \u001b[1m2s\u001b[0m 2ms/step - loss: 0.6779 - root_mean_squared_error: 0.3360 - val_loss: 0.6955 - val_root_mean_squared_error: 0.3467\n",
      "Epoch 15/100\n",
      "\u001b[1m1000/1000\u001b[0m \u001b[32m━━━━━━━━━━━━━━━━━━━━\u001b[0m\u001b[37m\u001b[0m \u001b[1m2s\u001b[0m 2ms/step - loss: 0.6753 - root_mean_squared_error: 0.3335 - val_loss: 0.6956 - val_root_mean_squared_error: 0.3467\n",
      "Epoch 16/100\n",
      "\u001b[1m1000/1000\u001b[0m \u001b[32m━━━━━━━━━━━━━━━━━━━━\u001b[0m\u001b[37m\u001b[0m \u001b[1m2s\u001b[0m 2ms/step - loss: 0.6767 - root_mean_squared_error: 0.3305 - val_loss: 0.6957 - val_root_mean_squared_error: 0.3468\n",
      "Epoch 17/100\n",
      "\u001b[1m1000/1000\u001b[0m \u001b[32m━━━━━━━━━━━━━━━━━━━━\u001b[0m\u001b[37m\u001b[0m \u001b[1m2s\u001b[0m 2ms/step - loss: 0.6730 - root_mean_squared_error: 0.3303 - val_loss: 0.6958 - val_root_mean_squared_error: 0.3469\n",
      "Epoch 18/100\n",
      "\u001b[1m1000/1000\u001b[0m \u001b[32m━━━━━━━━━━━━━━━━━━━━\u001b[0m\u001b[37m\u001b[0m \u001b[1m2s\u001b[0m 2ms/step - loss: 0.6736 - root_mean_squared_error: 0.3340 - val_loss: 0.6959 - val_root_mean_squared_error: 0.3470\n",
      "Epoch 19/100\n",
      "\u001b[1m1000/1000\u001b[0m \u001b[32m━━━━━━━━━━━━━━━━━━━━\u001b[0m\u001b[37m\u001b[0m \u001b[1m2s\u001b[0m 2ms/step - loss: 0.6716 - root_mean_squared_error: 0.3292 - val_loss: 0.6961 - val_root_mean_squared_error: 0.3471\n",
      "Epoch 20/100\n",
      "\u001b[1m1000/1000\u001b[0m \u001b[32m━━━━━━━━━━━━━━━━━━━━\u001b[0m\u001b[37m\u001b[0m \u001b[1m2s\u001b[0m 2ms/step - loss: 0.6729 - root_mean_squared_error: 0.3329 - val_loss: 0.6963 - val_root_mean_squared_error: 0.3473\n",
      "Epoch 21/100\n",
      "\u001b[1m1000/1000\u001b[0m \u001b[32m━━━━━━━━━━━━━━━━━━━━\u001b[0m\u001b[37m\u001b[0m \u001b[1m2s\u001b[0m 2ms/step - loss: 0.6707 - root_mean_squared_error: 0.3280 - val_loss: 0.6964 - val_root_mean_squared_error: 0.3473\n",
      "Epoch 22/100\n",
      "\u001b[1m1000/1000\u001b[0m \u001b[32m━━━━━━━━━━━━━━━━━━━━\u001b[0m\u001b[37m\u001b[0m \u001b[1m2s\u001b[0m 2ms/step - loss: 0.6698 - root_mean_squared_error: 0.3295 - val_loss: 0.6965 - val_root_mean_squared_error: 0.3474\n",
      "Epoch 23/100\n",
      "\u001b[1m1000/1000\u001b[0m \u001b[32m━━━━━━━━━━━━━━━━━━━━\u001b[0m\u001b[37m\u001b[0m \u001b[1m2s\u001b[0m 2ms/step - loss: 0.6683 - root_mean_squared_error: 0.3248 - val_loss: 0.6968 - val_root_mean_squared_error: 0.3476\n",
      "Epoch 24/100\n",
      "\u001b[1m1000/1000\u001b[0m \u001b[32m━━━━━━━━━━━━━━━━━━━━\u001b[0m\u001b[37m\u001b[0m \u001b[1m2s\u001b[0m 2ms/step - loss: 0.6690 - root_mean_squared_error: 0.3273 - val_loss: 0.6970 - val_root_mean_squared_error: 0.3477\n",
      "Epoch 25/100\n",
      "\u001b[1m1000/1000\u001b[0m \u001b[32m━━━━━━━━━━━━━━━━━━━━\u001b[0m\u001b[37m\u001b[0m \u001b[1m2s\u001b[0m 2ms/step - loss: 0.6642 - root_mean_squared_error: 0.3239 - val_loss: 0.6970 - val_root_mean_squared_error: 0.3477\n",
      "Epoch 26/100\n",
      "\u001b[1m1000/1000\u001b[0m \u001b[32m━━━━━━━━━━━━━━━━━━━━\u001b[0m\u001b[37m\u001b[0m \u001b[1m2s\u001b[0m 2ms/step - loss: 0.6642 - root_mean_squared_error: 0.3252 - val_loss: 0.6973 - val_root_mean_squared_error: 0.3479\n",
      "Epoch 27/100\n",
      "\u001b[1m1000/1000\u001b[0m \u001b[32m━━━━━━━━━━━━━━━━━━━━\u001b[0m\u001b[37m\u001b[0m \u001b[1m3s\u001b[0m 2ms/step - loss: 0.6620 - root_mean_squared_error: 0.3236 - val_loss: 0.6974 - val_root_mean_squared_error: 0.3480\n",
      "Epoch 28/100\n",
      "\u001b[1m1000/1000\u001b[0m \u001b[32m━━━━━━━━━━━━━━━━━━━━\u001b[0m\u001b[37m\u001b[0m \u001b[1m2s\u001b[0m 2ms/step - loss: 0.6636 - root_mean_squared_error: 0.3257 - val_loss: 0.6976 - val_root_mean_squared_error: 0.3481\n",
      "Epoch 29/100\n",
      "\u001b[1m1000/1000\u001b[0m \u001b[32m━━━━━━━━━━━━━━━━━━━━\u001b[0m\u001b[37m\u001b[0m \u001b[1m2s\u001b[0m 2ms/step - loss: 0.6631 - root_mean_squared_error: 0.3238 - val_loss: 0.6978 - val_root_mean_squared_error: 0.3483\n",
      "Epoch 30/100\n",
      "\u001b[1m1000/1000\u001b[0m \u001b[32m━━━━━━━━━━━━━━━━━━━━\u001b[0m\u001b[37m\u001b[0m \u001b[1m2s\u001b[0m 2ms/step - loss: 0.6613 - root_mean_squared_error: 0.3252 - val_loss: 0.6980 - val_root_mean_squared_error: 0.3484\n",
      "Epoch 31/100\n",
      "\u001b[1m1000/1000\u001b[0m \u001b[32m━━━━━━━━━━━━━━━━━━━━\u001b[0m\u001b[37m\u001b[0m \u001b[1m2s\u001b[0m 2ms/step - loss: 0.6628 - root_mean_squared_error: 0.3211 - val_loss: 0.6979 - val_root_mean_squared_error: 0.3483\n",
      "Epoch 32/100\n",
      "\u001b[1m1000/1000\u001b[0m \u001b[32m━━━━━━━━━━━━━━━━━━━━\u001b[0m\u001b[37m\u001b[0m \u001b[1m2s\u001b[0m 2ms/step - loss: 0.6602 - root_mean_squared_error: 0.3241 - val_loss: 0.6980 - val_root_mean_squared_error: 0.3484\n",
      "Epoch 33/100\n",
      "\u001b[1m1000/1000\u001b[0m \u001b[32m━━━━━━━━━━━━━━━━━━━━\u001b[0m\u001b[37m\u001b[0m \u001b[1m2s\u001b[0m 2ms/step - loss: 0.6611 - root_mean_squared_error: 0.3238 - val_loss: 0.6982 - val_root_mean_squared_error: 0.3485\n",
      "Epoch 34/100\n",
      "\u001b[1m1000/1000\u001b[0m \u001b[32m━━━━━━━━━━━━━━━━━━━━\u001b[0m\u001b[37m\u001b[0m \u001b[1m2s\u001b[0m 2ms/step - loss: 0.6621 - root_mean_squared_error: 0.3209 - val_loss: 0.6984 - val_root_mean_squared_error: 0.3487\n",
      "Epoch 35/100\n",
      "\u001b[1m1000/1000\u001b[0m \u001b[32m━━━━━━━━━━━━━━━━━━━━\u001b[0m\u001b[37m\u001b[0m \u001b[1m2s\u001b[0m 2ms/step - loss: 0.6590 - root_mean_squared_error: 0.3204 - val_loss: 0.6988 - val_root_mean_squared_error: 0.3489\n",
      "Epoch 36/100\n",
      "\u001b[1m1000/1000\u001b[0m \u001b[32m━━━━━━━━━━━━━━━━━━━━\u001b[0m\u001b[37m\u001b[0m \u001b[1m2s\u001b[0m 2ms/step - loss: 0.6587 - root_mean_squared_error: 0.3195 - val_loss: 0.6990 - val_root_mean_squared_error: 0.3491\n",
      "Epoch 37/100\n",
      "\u001b[1m1000/1000\u001b[0m \u001b[32m━━━━━━━━━━━━━━━━━━━━\u001b[0m\u001b[37m\u001b[0m \u001b[1m2s\u001b[0m 2ms/step - loss: 0.6572 - root_mean_squared_error: 0.3191 - val_loss: 0.6992 - val_root_mean_squared_error: 0.3492\n",
      "Epoch 38/100\n",
      "\u001b[1m1000/1000\u001b[0m \u001b[32m━━━━━━━━━━━━━━━━━━━━\u001b[0m\u001b[37m\u001b[0m \u001b[1m2s\u001b[0m 2ms/step - loss: 0.6567 - root_mean_squared_error: 0.3217 - val_loss: 0.6994 - val_root_mean_squared_error: 0.3493\n",
      "Epoch 39/100\n",
      "\u001b[1m1000/1000\u001b[0m \u001b[32m━━━━━━━━━━━━━━━━━━━━\u001b[0m\u001b[37m\u001b[0m \u001b[1m2s\u001b[0m 2ms/step - loss: 0.6582 - root_mean_squared_error: 0.3201 - val_loss: 0.6994 - val_root_mean_squared_error: 0.3493\n",
      "Epoch 40/100\n",
      "\u001b[1m1000/1000\u001b[0m \u001b[32m━━━━━━━━━━━━━━━━━━━━\u001b[0m\u001b[37m\u001b[0m \u001b[1m2s\u001b[0m 2ms/step - loss: 0.6534 - root_mean_squared_error: 0.3166 - val_loss: 0.6996 - val_root_mean_squared_error: 0.3495\n",
      "Epoch 41/100\n",
      "\u001b[1m1000/1000\u001b[0m \u001b[32m━━━━━━━━━━━━━━━━━━━━\u001b[0m\u001b[37m\u001b[0m \u001b[1m2s\u001b[0m 2ms/step - loss: 0.6556 - root_mean_squared_error: 0.3147 - val_loss: 0.6998 - val_root_mean_squared_error: 0.3496\n",
      "Epoch 42/100\n",
      "\u001b[1m1000/1000\u001b[0m \u001b[32m━━━━━━━━━━━━━━━━━━━━\u001b[0m\u001b[37m\u001b[0m \u001b[1m2s\u001b[0m 2ms/step - loss: 0.6522 - root_mean_squared_error: 0.3144 - val_loss: 0.7000 - val_root_mean_squared_error: 0.3498\n",
      "Epoch 43/100\n",
      "\u001b[1m1000/1000\u001b[0m \u001b[32m━━━━━━━━━━━━━━━━━━━━\u001b[0m\u001b[37m\u001b[0m \u001b[1m2s\u001b[0m 2ms/step - loss: 0.6537 - root_mean_squared_error: 0.3163 - val_loss: 0.7004 - val_root_mean_squared_error: 0.3500\n",
      "Epoch 44/100\n",
      "\u001b[1m1000/1000\u001b[0m \u001b[32m━━━━━━━━━━━━━━━━━━━━\u001b[0m\u001b[37m\u001b[0m \u001b[1m2s\u001b[0m 2ms/step - loss: 0.6529 - root_mean_squared_error: 0.3149 - val_loss: 0.7009 - val_root_mean_squared_error: 0.3503\n",
      "Epoch 45/100\n",
      "\u001b[1m1000/1000\u001b[0m \u001b[32m━━━━━━━━━━━━━━━━━━━━\u001b[0m\u001b[37m\u001b[0m \u001b[1m2s\u001b[0m 2ms/step - loss: 0.6546 - root_mean_squared_error: 0.3153 - val_loss: 0.7011 - val_root_mean_squared_error: 0.3505\n",
      "Epoch 46/100\n",
      "\u001b[1m1000/1000\u001b[0m \u001b[32m━━━━━━━━━━━━━━━━━━━━\u001b[0m\u001b[37m\u001b[0m \u001b[1m2s\u001b[0m 2ms/step - loss: 0.6535 - root_mean_squared_error: 0.3155 - val_loss: 0.7013 - val_root_mean_squared_error: 0.3506\n",
      "Epoch 47/100\n",
      "\u001b[1m1000/1000\u001b[0m \u001b[32m━━━━━━━━━━━━━━━━━━━━\u001b[0m\u001b[37m\u001b[0m \u001b[1m2s\u001b[0m 2ms/step - loss: 0.6515 - root_mean_squared_error: 0.3153 - val_loss: 0.7015 - val_root_mean_squared_error: 0.3508\n",
      "Epoch 48/100\n",
      "\u001b[1m1000/1000\u001b[0m \u001b[32m━━━━━━━━━━━━━━━━━━━━\u001b[0m\u001b[37m\u001b[0m \u001b[1m2s\u001b[0m 2ms/step - loss: 0.6511 - root_mean_squared_error: 0.3158 - val_loss: 0.7015 - val_root_mean_squared_error: 0.3507\n",
      "Epoch 49/100\n",
      "\u001b[1m1000/1000\u001b[0m \u001b[32m━━━━━━━━━━━━━━━━━━━━\u001b[0m\u001b[37m\u001b[0m \u001b[1m2s\u001b[0m 2ms/step - loss: 0.6492 - root_mean_squared_error: 0.3149 - val_loss: 0.7015 - val_root_mean_squared_error: 0.3508\n",
      "Epoch 50/100\n",
      "\u001b[1m1000/1000\u001b[0m \u001b[32m━━━━━━━━━━━━━━━━━━━━\u001b[0m\u001b[37m\u001b[0m \u001b[1m2s\u001b[0m 2ms/step - loss: 0.6497 - root_mean_squared_error: 0.3118 - val_loss: 0.7018 - val_root_mean_squared_error: 0.3509\n",
      "Epoch 51/100\n",
      "\u001b[1m1000/1000\u001b[0m \u001b[32m━━━━━━━━━━━━━━━━━━━━\u001b[0m\u001b[37m\u001b[0m \u001b[1m2s\u001b[0m 2ms/step - loss: 0.6497 - root_mean_squared_error: 0.3134 - val_loss: 0.7020 - val_root_mean_squared_error: 0.3511\n",
      "Epoch 52/100\n",
      "\u001b[1m1000/1000\u001b[0m \u001b[32m━━━━━━━━━━━━━━━━━━━━\u001b[0m\u001b[37m\u001b[0m \u001b[1m2s\u001b[0m 2ms/step - loss: 0.6479 - root_mean_squared_error: 0.3089 - val_loss: 0.7022 - val_root_mean_squared_error: 0.3512\n",
      "Epoch 53/100\n",
      "\u001b[1m1000/1000\u001b[0m \u001b[32m━━━━━━━━━━━━━━━━━━━━\u001b[0m\u001b[37m\u001b[0m \u001b[1m2s\u001b[0m 2ms/step - loss: 0.6501 - root_mean_squared_error: 0.3160 - val_loss: 0.7025 - val_root_mean_squared_error: 0.3514\n",
      "Epoch 54/100\n",
      "\u001b[1m1000/1000\u001b[0m \u001b[32m━━━━━━━━━━━━━━━━━━━━\u001b[0m\u001b[37m\u001b[0m \u001b[1m2s\u001b[0m 2ms/step - loss: 0.6527 - root_mean_squared_error: 0.3148 - val_loss: 0.7026 - val_root_mean_squared_error: 0.3515\n",
      "Epoch 55/100\n",
      "\u001b[1m1000/1000\u001b[0m \u001b[32m━━━━━━━━━━━━━━━━━━━━\u001b[0m\u001b[37m\u001b[0m \u001b[1m2s\u001b[0m 2ms/step - loss: 0.6484 - root_mean_squared_error: 0.3123 - val_loss: 0.7028 - val_root_mean_squared_error: 0.3516\n",
      "Epoch 56/100\n",
      "\u001b[1m1000/1000\u001b[0m \u001b[32m━━━━━━━━━━━━━━━━━━━━\u001b[0m\u001b[37m\u001b[0m \u001b[1m2s\u001b[0m 2ms/step - loss: 0.6476 - root_mean_squared_error: 0.3102 - val_loss: 0.7030 - val_root_mean_squared_error: 0.3517\n",
      "Epoch 57/100\n",
      "\u001b[1m1000/1000\u001b[0m \u001b[32m━━━━━━━━━━━━━━━━━━━━\u001b[0m\u001b[37m\u001b[0m \u001b[1m2s\u001b[0m 2ms/step - loss: 0.6488 - root_mean_squared_error: 0.3109 - val_loss: 0.7032 - val_root_mean_squared_error: 0.3519\n",
      "Epoch 58/100\n",
      "\u001b[1m1000/1000\u001b[0m \u001b[32m━━━━━━━━━━━━━━━━━━━━\u001b[0m\u001b[37m\u001b[0m \u001b[1m2s\u001b[0m 2ms/step - loss: 0.6491 - root_mean_squared_error: 0.3144 - val_loss: 0.7034 - val_root_mean_squared_error: 0.3520\n",
      "Epoch 59/100\n",
      "\u001b[1m1000/1000\u001b[0m \u001b[32m━━━━━━━━━━━━━━━━━━━━\u001b[0m\u001b[37m\u001b[0m \u001b[1m2s\u001b[0m 2ms/step - loss: 0.6499 - root_mean_squared_error: 0.3118 - val_loss: 0.7035 - val_root_mean_squared_error: 0.3521\n",
      "Epoch 60/100\n",
      "\u001b[1m1000/1000\u001b[0m \u001b[32m━━━━━━━━━━━━━━━━━━━━\u001b[0m\u001b[37m\u001b[0m \u001b[1m2s\u001b[0m 2ms/step - loss: 0.6524 - root_mean_squared_error: 0.3145 - val_loss: 0.7038 - val_root_mean_squared_error: 0.3523\n",
      "Epoch 61/100\n",
      "\u001b[1m1000/1000\u001b[0m \u001b[32m━━━━━━━━━━━━━━━━━━━━\u001b[0m\u001b[37m\u001b[0m \u001b[1m2s\u001b[0m 2ms/step - loss: 0.6495 - root_mean_squared_error: 0.3112 - val_loss: 0.7040 - val_root_mean_squared_error: 0.3524\n",
      "Epoch 62/100\n",
      "\u001b[1m1000/1000\u001b[0m \u001b[32m━━━━━━━━━━━━━━━━━━━━\u001b[0m\u001b[37m\u001b[0m \u001b[1m2s\u001b[0m 2ms/step - loss: 0.6452 - root_mean_squared_error: 0.3078 - val_loss: 0.7041 - val_root_mean_squared_error: 0.3525\n",
      "Epoch 63/100\n",
      "\u001b[1m1000/1000\u001b[0m \u001b[32m━━━━━━━━━━━━━━━━━━━━\u001b[0m\u001b[37m\u001b[0m \u001b[1m2s\u001b[0m 2ms/step - loss: 0.6464 - root_mean_squared_error: 0.3113 - val_loss: 0.7044 - val_root_mean_squared_error: 0.3526\n",
      "Epoch 64/100\n",
      "\u001b[1m1000/1000\u001b[0m \u001b[32m━━━━━━━━━━━━━━━━━━━━\u001b[0m\u001b[37m\u001b[0m \u001b[1m2s\u001b[0m 2ms/step - loss: 0.6482 - root_mean_squared_error: 0.3119 - val_loss: 0.7043 - val_root_mean_squared_error: 0.3526\n",
      "Epoch 65/100\n",
      "\u001b[1m1000/1000\u001b[0m \u001b[32m━━━━━━━━━━━━━━━━━━━━\u001b[0m\u001b[37m\u001b[0m \u001b[1m2s\u001b[0m 2ms/step - loss: 0.6466 - root_mean_squared_error: 0.3106 - val_loss: 0.7046 - val_root_mean_squared_error: 0.3528\n",
      "Epoch 66/100\n",
      "\u001b[1m1000/1000\u001b[0m \u001b[32m━━━━━━━━━━━━━━━━━━━━\u001b[0m\u001b[37m\u001b[0m \u001b[1m2s\u001b[0m 2ms/step - loss: 0.6453 - root_mean_squared_error: 0.3064 - val_loss: 0.7048 - val_root_mean_squared_error: 0.3529\n",
      "Epoch 67/100\n",
      "\u001b[1m1000/1000\u001b[0m \u001b[32m━━━━━━━━━━━━━━━━━━━━\u001b[0m\u001b[37m\u001b[0m \u001b[1m2s\u001b[0m 2ms/step - loss: 0.6478 - root_mean_squared_error: 0.3143 - val_loss: 0.7047 - val_root_mean_squared_error: 0.3529\n",
      "Epoch 68/100\n",
      "\u001b[1m1000/1000\u001b[0m \u001b[32m━━━━━━━━━━━━━━━━━━━━\u001b[0m\u001b[37m\u001b[0m \u001b[1m2s\u001b[0m 2ms/step - loss: 0.6468 - root_mean_squared_error: 0.3111 - val_loss: 0.7050 - val_root_mean_squared_error: 0.3530\n",
      "Epoch 69/100\n",
      "\u001b[1m1000/1000\u001b[0m \u001b[32m━━━━━━━━━━━━━━━━━━━━\u001b[0m\u001b[37m\u001b[0m \u001b[1m2s\u001b[0m 2ms/step - loss: 0.6467 - root_mean_squared_error: 0.3100 - val_loss: 0.7050 - val_root_mean_squared_error: 0.3531\n",
      "Epoch 70/100\n",
      "\u001b[1m1000/1000\u001b[0m \u001b[32m━━━━━━━━━━━━━━━━━━━━\u001b[0m\u001b[37m\u001b[0m \u001b[1m2s\u001b[0m 2ms/step - loss: 0.6487 - root_mean_squared_error: 0.3113 - val_loss: 0.7052 - val_root_mean_squared_error: 0.3532\n",
      "Epoch 71/100\n",
      "\u001b[1m1000/1000\u001b[0m \u001b[32m━━━━━━━━━━━━━━━━━━━━\u001b[0m\u001b[37m\u001b[0m \u001b[1m2s\u001b[0m 2ms/step - loss: 0.6456 - root_mean_squared_error: 0.3141 - val_loss: 0.7051 - val_root_mean_squared_error: 0.3531\n",
      "Epoch 72/100\n",
      "\u001b[1m1000/1000\u001b[0m \u001b[32m━━━━━━━━━━━━━━━━━━━━\u001b[0m\u001b[37m\u001b[0m \u001b[1m2s\u001b[0m 2ms/step - loss: 0.6447 - root_mean_squared_error: 0.3119 - val_loss: 0.7054 - val_root_mean_squared_error: 0.3533\n",
      "Epoch 73/100\n",
      "\u001b[1m1000/1000\u001b[0m \u001b[32m━━━━━━━━━━━━━━━━━━━━\u001b[0m\u001b[37m\u001b[0m \u001b[1m2s\u001b[0m 2ms/step - loss: 0.6463 - root_mean_squared_error: 0.3099 - val_loss: 0.7053 - val_root_mean_squared_error: 0.3532\n",
      "Epoch 74/100\n",
      "\u001b[1m1000/1000\u001b[0m \u001b[32m━━━━━━━━━━━━━━━━━━━━\u001b[0m\u001b[37m\u001b[0m \u001b[1m2s\u001b[0m 2ms/step - loss: 0.6462 - root_mean_squared_error: 0.3105 - val_loss: 0.7054 - val_root_mean_squared_error: 0.3533\n",
      "Epoch 75/100\n",
      "\u001b[1m1000/1000\u001b[0m \u001b[32m━━━━━━━━━━━━━━━━━━━━\u001b[0m\u001b[37m\u001b[0m \u001b[1m2s\u001b[0m 2ms/step - loss: 0.6478 - root_mean_squared_error: 0.3074 - val_loss: 0.7054 - val_root_mean_squared_error: 0.3533\n",
      "Epoch 76/100\n",
      "\u001b[1m1000/1000\u001b[0m \u001b[32m━━━━━━━━━━━━━━━━━━━━\u001b[0m\u001b[37m\u001b[0m \u001b[1m2s\u001b[0m 2ms/step - loss: 0.6488 - root_mean_squared_error: 0.3107 - val_loss: 0.7055 - val_root_mean_squared_error: 0.3534\n",
      "Epoch 77/100\n",
      "\u001b[1m1000/1000\u001b[0m \u001b[32m━━━━━━━━━━━━━━━━━━━━\u001b[0m\u001b[37m\u001b[0m \u001b[1m2s\u001b[0m 2ms/step - loss: 0.6428 - root_mean_squared_error: 0.3064 - val_loss: 0.7056 - val_root_mean_squared_error: 0.3534\n",
      "Epoch 78/100\n",
      "\u001b[1m1000/1000\u001b[0m \u001b[32m━━━━━━━━━━━━━━━━━━━━\u001b[0m\u001b[37m\u001b[0m \u001b[1m2s\u001b[0m 2ms/step - loss: 0.6475 - root_mean_squared_error: 0.3110 - val_loss: 0.7056 - val_root_mean_squared_error: 0.3534\n",
      "Epoch 79/100\n",
      "\u001b[1m1000/1000\u001b[0m \u001b[32m━━━━━━━━━━━━━━━━━━━━\u001b[0m\u001b[37m\u001b[0m \u001b[1m2s\u001b[0m 2ms/step - loss: 0.6477 - root_mean_squared_error: 0.3085 - val_loss: 0.7058 - val_root_mean_squared_error: 0.3535\n",
      "Epoch 80/100\n",
      "\u001b[1m1000/1000\u001b[0m \u001b[32m━━━━━━━━━━━━━━━━━━━━\u001b[0m\u001b[37m\u001b[0m \u001b[1m2s\u001b[0m 2ms/step - loss: 0.6462 - root_mean_squared_error: 0.3123 - val_loss: 0.7059 - val_root_mean_squared_error: 0.3536\n",
      "Epoch 81/100\n",
      "\u001b[1m1000/1000\u001b[0m \u001b[32m━━━━━━━━━━━━━━━━━━━━\u001b[0m\u001b[37m\u001b[0m \u001b[1m2s\u001b[0m 2ms/step - loss: 0.6477 - root_mean_squared_error: 0.3092 - val_loss: 0.7060 - val_root_mean_squared_error: 0.3537\n",
      "Epoch 82/100\n",
      "\u001b[1m1000/1000\u001b[0m \u001b[32m━━━━━━━━━━━━━━━━━━━━\u001b[0m\u001b[37m\u001b[0m \u001b[1m2s\u001b[0m 2ms/step - loss: 0.6474 - root_mean_squared_error: 0.3115 - val_loss: 0.7064 - val_root_mean_squared_error: 0.3539\n",
      "Epoch 83/100\n",
      "\u001b[1m1000/1000\u001b[0m \u001b[32m━━━━━━━━━━━━━━━━━━━━\u001b[0m\u001b[37m\u001b[0m \u001b[1m2s\u001b[0m 2ms/step - loss: 0.6449 - root_mean_squared_error: 0.3087 - val_loss: 0.7065 - val_root_mean_squared_error: 0.3540\n",
      "Epoch 84/100\n",
      "\u001b[1m1000/1000\u001b[0m \u001b[32m━━━━━━━━━━━━━━━━━━━━\u001b[0m\u001b[37m\u001b[0m \u001b[1m2s\u001b[0m 2ms/step - loss: 0.6453 - root_mean_squared_error: 0.3116 - val_loss: 0.7066 - val_root_mean_squared_error: 0.3541\n",
      "Epoch 85/100\n",
      "\u001b[1m1000/1000\u001b[0m \u001b[32m━━━━━━━━━━━━━━━━━━━━\u001b[0m\u001b[37m\u001b[0m \u001b[1m2s\u001b[0m 2ms/step - loss: 0.6454 - root_mean_squared_error: 0.3055 - val_loss: 0.7067 - val_root_mean_squared_error: 0.3542\n",
      "Epoch 86/100\n",
      "\u001b[1m1000/1000\u001b[0m \u001b[32m━━━━━━━━━━━━━━━━━━━━\u001b[0m\u001b[37m\u001b[0m \u001b[1m2s\u001b[0m 2ms/step - loss: 0.6436 - root_mean_squared_error: 0.3062 - val_loss: 0.7066 - val_root_mean_squared_error: 0.3541\n",
      "Epoch 87/100\n",
      "\u001b[1m1000/1000\u001b[0m \u001b[32m━━━━━━━━━━━━━━━━━━━━\u001b[0m\u001b[37m\u001b[0m \u001b[1m2s\u001b[0m 2ms/step - loss: 0.6458 - root_mean_squared_error: 0.3112 - val_loss: 0.7066 - val_root_mean_squared_error: 0.3541\n",
      "Epoch 88/100\n",
      "\u001b[1m1000/1000\u001b[0m \u001b[32m━━━━━━━━━━━━━━━━━━━━\u001b[0m\u001b[37m\u001b[0m \u001b[1m2s\u001b[0m 2ms/step - loss: 0.6476 - root_mean_squared_error: 0.3091 - val_loss: 0.7069 - val_root_mean_squared_error: 0.3543\n",
      "Epoch 89/100\n",
      "\u001b[1m1000/1000\u001b[0m \u001b[32m━━━━━━━━━━━━━━━━━━━━\u001b[0m\u001b[37m\u001b[0m \u001b[1m2s\u001b[0m 2ms/step - loss: 0.6428 - root_mean_squared_error: 0.3095 - val_loss: 0.7070 - val_root_mean_squared_error: 0.3543\n",
      "Epoch 90/100\n",
      "\u001b[1m1000/1000\u001b[0m \u001b[32m━━━━━━━━━━━━━━━━━━━━\u001b[0m\u001b[37m\u001b[0m \u001b[1m2s\u001b[0m 2ms/step - loss: 0.6451 - root_mean_squared_error: 0.3124 - val_loss: 0.7073 - val_root_mean_squared_error: 0.3545\n",
      "Epoch 91/100\n",
      "\u001b[1m1000/1000\u001b[0m \u001b[32m━━━━━━━━━━━━━━━━━━━━\u001b[0m\u001b[37m\u001b[0m \u001b[1m2s\u001b[0m 2ms/step - loss: 0.6468 - root_mean_squared_error: 0.3110 - val_loss: 0.7074 - val_root_mean_squared_error: 0.3546\n",
      "Epoch 92/100\n",
      "\u001b[1m1000/1000\u001b[0m \u001b[32m━━━━━━━━━━━━━━━━━━━━\u001b[0m\u001b[37m\u001b[0m \u001b[1m2s\u001b[0m 2ms/step - loss: 0.6425 - root_mean_squared_error: 0.3096 - val_loss: 0.7075 - val_root_mean_squared_error: 0.3546\n",
      "Epoch 93/100\n",
      "\u001b[1m1000/1000\u001b[0m \u001b[32m━━━━━━━━━━━━━━━━━━━━\u001b[0m\u001b[37m\u001b[0m \u001b[1m2s\u001b[0m 2ms/step - loss: 0.6441 - root_mean_squared_error: 0.3096 - val_loss: 0.7075 - val_root_mean_squared_error: 0.3547\n",
      "Epoch 94/100\n",
      "\u001b[1m1000/1000\u001b[0m \u001b[32m━━━━━━━━━━━━━━━━━━━━\u001b[0m\u001b[37m\u001b[0m \u001b[1m2s\u001b[0m 2ms/step - loss: 0.6446 - root_mean_squared_error: 0.3101 - val_loss: 0.7074 - val_root_mean_squared_error: 0.3546\n",
      "Epoch 95/100\n",
      "\u001b[1m1000/1000\u001b[0m \u001b[32m━━━━━━━━━━━━━━━━━━━━\u001b[0m\u001b[37m\u001b[0m \u001b[1m2s\u001b[0m 2ms/step - loss: 0.6442 - root_mean_squared_error: 0.3072 - val_loss: 0.7075 - val_root_mean_squared_error: 0.3547\n",
      "Epoch 96/100\n",
      "\u001b[1m1000/1000\u001b[0m \u001b[32m━━━━━━━━━━━━━━━━━━━━\u001b[0m\u001b[37m\u001b[0m \u001b[1m2s\u001b[0m 2ms/step - loss: 0.6453 - root_mean_squared_error: 0.3091 - val_loss: 0.7077 - val_root_mean_squared_error: 0.3548\n",
      "Epoch 97/100\n",
      "\u001b[1m1000/1000\u001b[0m \u001b[32m━━━━━━━━━━━━━━━━━━━━\u001b[0m\u001b[37m\u001b[0m \u001b[1m2s\u001b[0m 2ms/step - loss: 0.6422 - root_mean_squared_error: 0.3065 - val_loss: 0.7078 - val_root_mean_squared_error: 0.3549\n",
      "Epoch 98/100\n",
      "\u001b[1m1000/1000\u001b[0m \u001b[32m━━━━━━━━━━━━━━━━━━━━\u001b[0m\u001b[37m\u001b[0m \u001b[1m2s\u001b[0m 2ms/step - loss: 0.6440 - root_mean_squared_error: 0.3095 - val_loss: 0.7078 - val_root_mean_squared_error: 0.3549\n",
      "Epoch 99/100\n",
      "\u001b[1m1000/1000\u001b[0m \u001b[32m━━━━━━━━━━━━━━━━━━━━\u001b[0m\u001b[37m\u001b[0m \u001b[1m2s\u001b[0m 2ms/step - loss: 0.6460 - root_mean_squared_error: 0.3074 - val_loss: 0.7079 - val_root_mean_squared_error: 0.3550\n",
      "Epoch 100/100\n",
      "\u001b[1m1000/1000\u001b[0m \u001b[32m━━━━━━━━━━━━━━━━━━━━\u001b[0m\u001b[37m\u001b[0m \u001b[1m2s\u001b[0m 2ms/step - loss: 0.6409 - root_mean_squared_error: 0.3068 - val_loss: 0.7079 - val_root_mean_squared_error: 0.3549\n"
     ]
    }
   ],
   "source": [
    "history = model.fit(\n",
    "    x = x_train,\n",
    "    y = y_train,\n",
    "    batch_size = 8,\n",
    "    epochs = 100,\n",
    "    validation_data = (x_val, y_val)\n",
    ")"
   ]
  },
  {
   "cell_type": "markdown",
   "id": "35ccc97a",
   "metadata": {
    "papermill": {
     "duration": 0.380259,
     "end_time": "2024-09-08T09:53:57.636061",
     "exception": false,
     "start_time": "2024-09-08T09:53:57.255802",
     "status": "completed"
    },
    "tags": []
   },
   "source": [
    "## Evaluasi Metrik"
   ]
  },
  {
   "cell_type": "code",
   "execution_count": 53,
   "id": "2033c4fc",
   "metadata": {
    "execution": {
     "iopub.execute_input": "2024-09-08T09:53:58.386486Z",
     "iopub.status.busy": "2024-09-08T09:53:58.386046Z",
     "iopub.status.idle": "2024-09-08T09:53:58.725656Z",
     "shell.execute_reply": "2024-09-08T09:53:58.724254Z"
    },
    "papermill": {
     "duration": 0.721162,
     "end_time": "2024-09-08T09:53:58.728558",
     "exception": false,
     "start_time": "2024-09-08T09:53:58.007396",
     "status": "completed"
    },
    "tags": []
   },
   "outputs": [
    {
     "data": {
      "image/png": "[encoded data removed]",
      "text/plain": [
       "<Figure size 640x480 with 1 Axes>"
      ]
     },
     "metadata": {},
     "output_type": "display_data"
    }
   ],
   "source": [
    "plt.plot(history.history['root_mean_squared_error'])\n",
    "plt.plot(history.history['val_root_mean_squared_error'])\n",
    "plt.title('model_metrics')\n",
    "plt.ylabel('root_mean_squared_error')\n",
    "plt.xlabel('epoch')\n",
    "plt.legend(['train', 'test'], loc='upper left')\n",
    "plt.show()"
   ]
  },
  {
   "cell_type": "markdown",
   "id": "8c9029ab",
   "metadata": {
    "papermill": {
     "duration": 0.372281,
     "end_time": "2024-09-08T09:53:59.476832",
     "exception": false,
     "start_time": "2024-09-08T09:53:59.104551",
     "status": "completed"
    },
    "tags": []
   },
   "source": [
    "## Melakukan Rekomendasi Destinasi Wisata"
   ]
  },
  {
   "cell_type": "code",
   "execution_count": 54,
   "id": "87830a1e",
   "metadata": {
    "execution": {
     "iopub.execute_input": "2024-09-08T09:54:00.288978Z",
     "iopub.status.busy": "2024-09-08T09:54:00.288497Z",
     "iopub.status.idle": "2024-09-08T09:54:00.302953Z",
     "shell.execute_reply": "2024-09-08T09:54:00.301785Z"
    },
    "papermill": {
     "duration": 0.453346,
     "end_time": "2024-09-08T09:54:00.305497",
     "exception": false,
     "start_time": "2024-09-08T09:53:59.852151",
     "status": "completed"
    },
    "tags": []
   },
   "outputs": [],
   "source": [
    "df_tourism = fix_tourism\n",
    "user_id = tourism_rating_df.User_Id.sample(1).iloc[0]\n",
    "tourism_visited_by_user = tourism_rating_df[tourism_rating_df.User_Id == user_id]\n",
    "tourism_visited_by_user\n",
    "\n",
    "# Operator bitwise (~), bisa diketahui di sini https://docs.python.org/3/reference/expressions.html\n",
    "tourism_not_visited = df_tourism[~df_tourism['id'].isin(tourism_visited_by_user.Place_Id)]['id']\n",
    "tourism_not_visited\n",
    "tourism_not_visited = list(\n",
    "    set(tourism_not_visited)\n",
    "    .intersection(set(placeID_to_placeID_encoded.keys()))\n",
    ")\n",
    "tourism_not_visited = [[placeID_to_placeID_encoded.get(x)] for x in tourism_not_visited]\n",
    "user_encoder = user_to_user_encoded.get(user_id)\n",
    "user_tourism_array = np.hstack(\n",
    "    ([[user_encoder]] * len(tourism_not_visited), tourism_not_visited)\n",
    ")"
   ]
  },
  {
   "cell_type": "code",
   "execution_count": 55,
   "id": "cd80c811",
   "metadata": {
    "execution": {
     "iopub.execute_input": "2024-09-08T09:54:01.054111Z",
     "iopub.status.busy": "2024-09-08T09:54:01.053622Z",
     "iopub.status.idle": "2024-09-08T09:54:01.413404Z",
     "shell.execute_reply": "2024-09-08T09:54:01.411556Z"
    },
    "papermill": {
     "duration": 0.736966,
     "end_time": "2024-09-08T09:54:01.416167",
     "exception": false,
     "start_time": "2024-09-08T09:54:00.679201",
     "status": "completed"
    },
    "tags": []
   },
   "outputs": [
    {
     "name": "stdout",
     "output_type": "stream",
     "text": [
      "\u001b[1m13/13\u001b[0m \u001b[32m━━━━━━━━━━━━━━━━━━━━\u001b[0m\u001b[37m\u001b[0m \u001b[1m0s\u001b[0m 12ms/step\n",
      "Showing recommendations for users: 182\n",
      "===========================\n",
      "Resto with high ratings from user\n",
      "--------------------------------\n",
      "De Mata Museum Jogja : Yogyakarta Budaya\n",
      "Surabaya North Quay : Surabaya Taman Hiburan\n",
      "Rabbit Town : Bandung Taman Hiburan\n",
      "Kampung Batu Malakasari : Bandung Taman Hiburan\n",
      "Tirto Argo Siwarak : Semarang Taman Hiburan\n",
      "--------------------------------\n",
      "Top 10 tourism recommendation\n",
      "--------------------------------\n",
      "Taman Sungai Mudal : Yogyakarta Cagar Alam\n",
      "Panghegar Waterboom Bandung : Bandung Taman Hiburan\n",
      "Monumen Yogya Kembali : Yogyakarta Budaya\n",
      "Dago Dreampark : Bandung Taman Hiburan\n",
      "Gua Belanda : Bandung Cagar Alam\n",
      "Gunung Manglayang : Bandung Cagar Alam\n",
      "Stone Garden Citatah : Bandung Taman Hiburan\n",
      "Masjid Agung Trans Studio Bandung : Bandung Tempat Ibadah\n",
      "Teras Cikapundung BBWS : Bandung Taman Hiburan\n",
      "Bukit Moko : Bandung Cagar Alam\n"
     ]
    }
   ],
   "source": [
    "ratings = model.predict(user_tourism_array).flatten()\n",
    "\n",
    "top_ratings_indices = ratings.argsort()[-10:][::-1]\n",
    "recommended_tourism_ids = [\n",
    "    placeID_encoded_to_placeID.get(tourism_not_visited[x][0]) for x in top_ratings_indices\n",
    "]\n",
    "\n",
    "print('Showing recommendations for users: {}'.format(user_id))\n",
    "print('===' * 9)\n",
    "print('Resto with high ratings from user')\n",
    "print('----' * 8)\n",
    "\n",
    "top_tourism_user = (\n",
    "    tourism_visited_by_user.sort_values(\n",
    "        by = 'Place_Ratings',\n",
    "        ascending=False\n",
    "    )\n",
    "    .head(5)\n",
    "    .Place_Id.values\n",
    ")\n",
    "\n",
    "tourism_df_rows = df_tourism[df_tourism['id'].isin(top_tourism_user)]\n",
    "tourism_df_rows\n",
    "for row in tourism_df_rows.itertuples():\n",
    "    print(row.name, ':', row.city_category)\n",
    "\n",
    "print('----' * 8)\n",
    "print('Top 10 tourism recommendation')\n",
    "print('----' * 8)\n",
    "\n",
    "recommended_tourism = df_tourism[df_tourism['id'].isin(recommended_tourism_ids)]\n",
    "for row in recommended_tourism.itertuples():\n",
    "    print(row.name, ':', row.city_category)"
   ]
  },
  {
   "cell_type": "code",
   "execution_count": null,
   "id": "b888c477",
   "metadata": {
    "papermill": {
     "duration": 0.372553,
     "end_time": "2024-09-08T09:54:02.162782",
     "exception": false,
     "start_time": "2024-09-08T09:54:01.790229",
     "status": "completed"
    },
    "tags": []
   },
   "outputs": [],
   "source": []
  },
  {
   "cell_type": "code",
   "execution_count": null,
   "id": "0e67fc0a",
   "metadata": {
    "papermill": {
     "duration": 0.38186,
     "end_time": "2024-09-08T09:54:02.919429",
     "exception": false,
     "start_time": "2024-09-08T09:54:02.537569",
     "status": "completed"
    },
    "tags": []
   },
   "outputs": [],
   "source": []
  }
 ],
 "metadata": {
  "kaggle": {
   "accelerator": "none",
   "dataSources": [
    {
     "datasetId": 1481754,
     "sourceId": 2448367,
     "sourceType": "datasetVersion"
    }
   ],
   "dockerImageVersionId": 30761,
   "isGpuEnabled": false,
   "isInternetEnabled": true,
   "language": "python",
   "sourceType": "notebook"
  },
  "kernelspec": {
   "display_name": "Python 3",
   "language": "python",
   "name": "python3"
  },
  "language_info": {
   "codemirror_mode": {
    "name": "ipython",
    "version": 3
   },
   "file_extension": ".py",
   "mimetype": "text/x-python",
   "name": "python",
   "nbconvert_exporter": "python",
   "pygments_lexer": "ipython3",
   "version": "3.10.14"
  },
  "papermill": {
   "default_parameters": {},
   "duration": 237.488164,
   "end_time": "2024-09-08T09:54:05.082877",
   "environment_variables": {},
   "exception": null,
   "input_path": "__notebook__.ipynb",
   "output_path": "__notebook__.ipynb",
   "parameters": {},
   "start_time": "2024-09-08T09:50:07.594713",
   "version": "2.6.0"
  }
 },
 "nbformat": 4,
 "nbformat_minor": 5
}
